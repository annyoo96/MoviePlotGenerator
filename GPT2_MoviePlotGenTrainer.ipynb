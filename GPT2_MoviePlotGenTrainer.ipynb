{
  "nbformat": 4,
  "nbformat_minor": 0,
  "metadata": {
    "colab": {
      "name": "GPT2_MoviePlotGenTrainer.ipynb",
      "provenance": [],
      "collapsed_sections": [],
      "toc_visible": true
    },
    "kernelspec": {
      "name": "python3",
      "display_name": "Python 3"
    },
    "accelerator": "GPU"
  },
  "cells": [
    {
      "cell_type": "markdown",
      "metadata": {
        "id": "k9A6abmj5iIV",
        "colab_type": "text"
      },
      "source": [
        "# Training a GPT2 Model\n"
      ]
    },
    {
      "cell_type": "code",
      "metadata": {
        "id": "0CdXDZ5bcMto",
        "colab_type": "code",
        "outputId": "e78e818b-95f3-4ce6-fbae-9112645889c4",
        "colab": {
          "base_uri": "https://localhost:8080/",
          "height": 187
        }
      },
      "source": [
        "%tensorflow_version 1.x\n",
        "!pip install -q gpt-2-simple\n",
        "import gpt_2_simple as gpt2\n",
        "from datetime import datetime\n",
        "from google.colab import files"
      ],
      "execution_count": 0,
      "outputs": [
        {
          "output_type": "stream",
          "text": [
            "TensorFlow 1.x selected.\n",
            "  Building wheel for gpt-2-simple (setup.py) ... \u001b[?25l\u001b[?25hdone\n",
            "WARNING:tensorflow:\n",
            "The TensorFlow contrib module will not be included in TensorFlow 2.0.\n",
            "For more information, please see:\n",
            "  * https://github.com/tensorflow/community/blob/master/rfcs/20180907-contrib-sunset.md\n",
            "  * https://github.com/tensorflow/addons\n",
            "  * https://github.com/tensorflow/io (for I/O related ops)\n",
            "If you depend on functionality not listed there, please file an issue.\n",
            "\n"
          ],
          "name": "stdout"
        }
      ]
    },
    {
      "cell_type": "code",
      "metadata": {
        "id": "lWKaUtBWdVI2",
        "colab_type": "code",
        "outputId": "8a0d2bd4-8ec5-44b8-a886-9a0403bc151f",
        "colab": {
          "base_uri": "https://localhost:8080/",
          "height": 136
        }
      },
      "source": [
        "#medium size model\n",
        "gpt2.download_gpt2(model_name=\"355M\")"
      ],
      "execution_count": 0,
      "outputs": [
        {
          "output_type": "stream",
          "text": [
            "Fetching checkpoint: 1.05Mit [00:00, 375Mit/s]                                                      \n",
            "Fetching encoder.json: 1.05Mit [00:00, 73.7Mit/s]                                                   \n",
            "Fetching hparams.json: 1.05Mit [00:00, 305Mit/s]                                                    \n",
            "Fetching model.ckpt.data-00000-of-00001: 1.42Git [00:14, 99.9Mit/s]                                 \n",
            "Fetching model.ckpt.index: 1.05Mit [00:00, 378Mit/s]                                                \n",
            "Fetching model.ckpt.meta: 1.05Mit [00:00, 116Mit/s]                                                 \n",
            "Fetching vocab.bpe: 1.05Mit [00:00, 150Mit/s]                                                       \n"
          ],
          "name": "stderr"
        }
      ]
    },
    {
      "cell_type": "code",
      "metadata": {
        "id": "zKnKgRDLftxm",
        "colab_type": "code",
        "outputId": "aef24564-cc0c-47f1-c915-89168683bf44",
        "colab": {
          "base_uri": "https://localhost:8080/",
          "height": 122
        }
      },
      "source": [
        "gpt2.mount_gdrive()"
      ],
      "execution_count": 0,
      "outputs": [
        {
          "output_type": "stream",
          "text": [
            "Go to this URL in a browser: https://accounts.google.com/o/oauth2/auth?client_id=947318989803-6bn6qk8qdgf4n4g3pfee6491hc0brc4i.apps.googleusercontent.com&redirect_uri=urn%3aietf%3awg%3aoauth%3a2.0%3aoob&response_type=code&scope=email%20https%3a%2f%2fwww.googleapis.com%2fauth%2fdocs.test%20https%3a%2f%2fwww.googleapis.com%2fauth%2fdrive%20https%3a%2f%2fwww.googleapis.com%2fauth%2fdrive.photos.readonly%20https%3a%2f%2fwww.googleapis.com%2fauth%2fpeopleapi.readonly\n",
            "\n",
            "Enter your authorization code:\n",
            "··········\n",
            "Mounted at /content/drive\n"
          ],
          "name": "stdout"
        }
      ]
    },
    {
      "cell_type": "code",
      "metadata": {
        "id": "SgxHH8IbhKGs",
        "colab_type": "code",
        "colab": {}
      },
      "source": [
        "file_name = \"romcom_train_plot.txt\"\n",
        "#file_name = \"Genre_comedy_plot.txt\"\n",
        "file_path = \"w266 final project/\" + file_name"
      ],
      "execution_count": 0,
      "outputs": []
    },
    {
      "cell_type": "code",
      "metadata": {
        "id": "PSJWd7wfE7vZ",
        "colab_type": "code",
        "outputId": "645b8f51-0078-4f03-f79a-906e138c2a31",
        "colab": {
          "base_uri": "https://localhost:8080/",
          "height": 221
        }
      },
      "source": [
        "import os\n",
        "os.chdir(\"/content/drive/My Drive/w266 final project\")\n",
        "!ls"
      ],
      "execution_count": 0,
      "outputs": [
        {
          "output_type": "stream",
          "text": [
            " 25_horror_test_0_300.zip\t    Genre_thrilhor_test.csv\n",
            " 25_horror_test_300_600.zip\t    horror_test_0_200.zip\n",
            " 50_horror_test_0_100.zip\t    horror_test_200_600.zip\n",
            " 50_horror_test_100_600.zip\t    models\n",
            " 75_horror_test_0_260.zip\t    movie_plot_test_data.csv\n",
            " 75_horror_test_260_600.zip\t    movie_plot_train_data.csv\n",
            " checkpoint\t\t\t    romance_test_plot.txt\n",
            " checkpoint_run_medium_horror.tar   romance_train_plot.txt\n",
            " Genre_horror_plot.txt\t\t    samples\n",
            "'Genre list.png'\t\t    second_horror_test_0_600.zip\n",
            " Genre_romance_test.csv\t\t    test_plot.txt\n",
            " Genre_romance_train.csv\t    train_plot.txt\n"
          ],
          "name": "stdout"
        }
      ]
    },
    {
      "cell_type": "code",
      "metadata": {
        "id": "xvlAm5JKB4fY",
        "colab_type": "code",
        "colab": {}
      },
      "source": [
        "#doesnt work if its inside a folder for some reason\n",
        "gpt2.copy_file_from_gdrive(file_name)"
      ],
      "execution_count": 0,
      "outputs": []
    },
    {
      "cell_type": "code",
      "metadata": {
        "id": "Zod6myGTB_MM",
        "colab_type": "code",
        "outputId": "a5b6a9df-bd7e-4e7b-dbac-ea7b52ad3efa",
        "colab": {
          "base_uri": "https://localhost:8080/",
          "height": 1000
        }
      },
      "source": [
        "sess = gpt2.start_tf_sess()\n",
        "\n",
        "gpt2.finetune(sess,\n",
        "              dataset=file_name,\n",
        "              model_name='355M',\n",
        "              steps=2000,\n",
        "              restore_from='fresh',\n",
        "              run_name='run_medium_romancefinal_2k',\n",
        "              print_every=50,\n",
        "              sample_every=200,\n",
        "              save_every=500\n",
        "              )"
      ],
      "execution_count": 0,
      "outputs": [
        {
          "output_type": "stream",
          "text": [
            "WARNING:tensorflow:From /usr/local/lib/python3.6/dist-packages/gpt_2_simple/src/sample.py:17: where (from tensorflow.python.ops.array_ops) is deprecated and will be removed in a future version.\n",
            "Instructions for updating:\n",
            "Use tf.where in 2.0, which has the same broadcast rule as np.where\n",
            "WARNING:tensorflow:From /usr/local/lib/python3.6/dist-packages/gpt_2_simple/src/memory_saving_gradients.py:62: get_backward_walk_ops (from tensorflow.contrib.graph_editor.select) is deprecated and will be removed after 2019-06-06.\n",
            "Instructions for updating:\n",
            "Please use tensorflow.python.ops.op_selector.get_backward_walk_ops.\n",
            "Loading checkpoint models/355M/model.ckpt\n",
            "INFO:tensorflow:Restoring parameters from models/355M/model.ckpt\n"
          ],
          "name": "stdout"
        },
        {
          "output_type": "stream",
          "text": [
            "\r  0%|          | 0/1 [00:00<?, ?it/s]"
          ],
          "name": "stderr"
        },
        {
          "output_type": "stream",
          "text": [
            "Loading dataset...\n"
          ],
          "name": "stdout"
        },
        {
          "output_type": "stream",
          "text": [
            "100%|██████████| 1/1 [00:23<00:00, 23.62s/it]\n"
          ],
          "name": "stderr"
        },
        {
          "output_type": "stream",
          "text": [
            "dataset has 4017309 tokens\n",
            "Training...\n",
            "[50 | 54.73] loss=3.18 avg=3.18\n",
            "[100 | 99.19] loss=3.28 avg=3.23\n",
            "[150 | 143.72] loss=2.97 avg=3.14\n",
            "[200 | 188.26] loss=3.01 avg=3.11\n",
            "======== SAMPLE 1 ========\n",
            ", his partner is shot and survives the attack. The man who killed their partner is taken to hospital and survives. The next day, the killer of the man who killed them arrives to claim the man's prize. The next morning, the killer is arrested, and is sent to a mental institution for a psychiatric evaluation.\"\n",
            "The American film tells the story of Jack   from the Westboro Baptist Church and his attempts to take away the civil rights of African Americans. Jack's plan is to take down the civil rights of black men and marry them up with white women. Instead of marrying an African American woman, he decides to take down the civil rights of African American children and his own own family of hisown and marry his own young daughter. When the wedding arrives, a young Jack and his wife are arrested, along with the rest of the family. Jack's father  and mother are also arrested, though Jack himself is not.\n",
            "The plot revolves around an old-fashioned story about an American family struggling to make a living. The story begins with the discovery of a young, blind, middle-aged father's secret diary during an estate sale. The son's father is a very close friend of one of Harry Murny's, who died. Harry and his wife's son, named James Murny, find a new home in New Hampshire's Plymouth Colony. One evening, they meet a new brother, Daniel Murny , who becomes their guide into life, to the delight of their sister's brother, whose husband has died suddenly. Daniel takes them to the town tavern where he serves ale and watches them in wonderment before disappearing. The next day, Daniel is arrested for his father's diary, and is sentenced to death by hanging. Daniel's daughter, Martha , is distraught at her son's death and takes him to the local hospital, where he is saved from the hanging. However, Daniel's father takes the news and takes them back to Maine. It turns out that the story was true, and in their new home, the people there are black, which causes them great grief and resentment. Daniel's father and mother are now living with both black and white families. Their lives have changed drastically. They have more food, their daily lives have much less of a struggle, but they are often unable to deal with what is happening in their houses, but still need their white family to help them deal with it. Many are arrested by police agents and executed in their basements. Daniel's father, John Murny  finds his old diary in his son's house, and sees his father dead from hangman's noose. But on the night that Daniel was to be hung, he's alive and a free man. He returns home to Martha and Daniel's sister, who finds his diary. While Daniel has his father's diary out the window, the authorities have planted the diary's message  on the property: They will take your father back to New Hampshire for hanging, so they can execute him. She runs to find him in a basement. He is arrested for his diary and goes off to the town for a last drink before he is hanged. However, when he arrives, he's nearly arrested.\"\n",
            "\"On an ice-covered ice-covered island, the U.S. government has been secretly sending an agent to assassinate an entire village of people. The U.S. is in complete denial about this, so they've been sending out spies and killing people for their own personal gain. Soon after, several villagers come to the village to retrieve the U.S. spies from within.\n",
            "\"J.D. Gurney has a girlfriend, and she is a lesbian. She and her boyfriend, William, are married to each other, and have a child together. When William is not able to have another child, she dumps him and heads to London. There, she discovers she has undergone a test which will make her pregnant. William is able to obtain this test by hiding from the authorities a bomb to a car. She is arrested, and has her boyfriend sent to the prison where he is still a prisoner. During the test, she passes. William has to stay in England and to be fed, while she is given a choice to choose London over the United States. She comes to the home of her friend, a wealthy woman named Lady Bird. She has a choice, however – to go to America to be married to Charles, or England for a divorce, to choose the latter, which she does. She decides to travel, and is happy on the journey. The wife of Lady Bird, Margaret, is unhappy that J.D. can't find a love from within his life. It turns out, however, that Margaret does exist, at her home where she is raising a child with J.D.'s girlfriend, the wife of his current lover, the Reverend Francis. Margaret falls for J.D., and J.D. gives his baby into her care. Margaret then becomes his new bride to his lover\n",
            "\n",
            "[250 | 258.25] loss=3.21 avg=3.13\n",
            "[300 | 302.75] loss=3.32 avg=3.16\n",
            "[350 | 347.29] loss=3.09 avg=3.15\n",
            "[400 | 391.82] loss=3.41 avg=3.19\n",
            "======== SAMPLE 1 ========\n",
            " by him, to be happy. He finally gets a girlfriend – a younger woman named Janine. A few more years pass. There are so many people like this, and a lot of things are going to change, and the film ends.\n",
            "\"David Miller, author of the \"The Man In The Iron Lung\" novel, is in love with Emily Hargreaves. At first he thought this was a mistake. He had to realize he is in love with Emily, just like him, after all, because he has not heard from her. He had to get married first, otherwise his family would suffer. David does this by creating one of the most famous relationships of the 1950s - a relationship between Emily and David. Emily is also pregnant and soon will have a child, so that's why he would not want to marry Emily. While on vacation David meets Emily, though without a word they begin to see each other. Emily is very protective and protective is David. David's brother, Joe Miller, is her former boyfriend, and even tells her his secret name, \"\"Bryan\"\" for jealousy. David is worried, and asks Emily what the matter is. Emily's response is that he really loves her, and has never had this type of relationship with a woman before. Emily has her doubts about David's feelings. Emily tells David that she will be pregnant, and then tells him to tell Emily she loves him. In a moment of great emotion David is able to communicate that he loved Emily and will marry Emily before her death, but Emily is not able to comprehend it. Emily, meanwhile, has become jealous of her brother's love for Emily, and she is extremely concerned for him. Emily has heard David has lied to Emily about his relationship with her boyfriend, but still is unable to understand that he is in love with Emily. Emily, however, understands him, and says that she wants David to be her husband or else she will divorce him. Emily tells David that Emily doesn't have any hope of ever getting an abortion, but David replies by saying that he will marry whoever he likes, but that Emily needs to understand that Emily can't marry whoever she wants. Emily's brother, in desperation for something to say, tells Emily's brother who is in a hurry by yelling, and then to his shame breaks out, shouting for him to go to his parents and say that he loves her. David, who has been listening to Emily's brother argue and tell him that Emily does not love him, gives Emily a hug and kisses her, and Emily remembers that he loves her. He leaves Emily and begins to fall for her. The next day is when everyone would have gotten married, though this is not how David wanted it to be, because he had already met Emily, before the beginning of the film. Emily tells David that she has moved in with him, and David begins to regret that Emily left him. The film then takes a further turn into the 1960s, David is now married to Emily and the children are married. It is time for Emily to marry another man. Later, Emily is pregnant with David's third child. She asks Emily if she has heard or read about their plans for them. Emily tells her that she thinks there were some kind of misunderstanding in which a man wanted her. Emily then decides that she's going to have to choose someone else. Emily meets David who she is about to break up with, and they embrace.\"\n",
            "\"The film starts with the main character, Mr. Bitterpiss, who wakes up in the morning and discovers himself in the bed of a beautiful girl, while Mr. Bitterpiss has found out that the girl to whom he lives is his sister. She informs him that she is going to college in New York, and he, by this time, is about to know the truth about her. When the girl tells Mr. Bitterpiss that she must be the daughter of the man who took over the house, Mr. Bitterpiss rushes to her. It took her quite some time by the time he realizes that he was only there \"a short time\" because his roommate is going to be the president of the school, and a student is going to the same college as Mr. Bitterpiss, and so the girl goes on to say that she is just the daughter of the owner, whose name is Mrs. Hargett. Mr.Bitterpiss also goes to the girl's college and meets the girl there. Mrs. Hargett, on the other hand, has taken several other students in Mr. Bitterpiss, so he goes to their college and realizes that the girl is Mrs. Hargett. This leads to a scene that was taken from one of the film's earlier films, that Mrs. Hargett herself calls a \"cut and paste\" because we see the character, Mr. Bitterpiss, as a college student living in a college in New York. Mr. Bitterpiss, now in college\n",
            "\n",
            "[450 | 458.83] loss=3.36 avg=3.21\n",
            "[500 | 503.32] loss=2.90 avg=3.17\n",
            "Saving checkpoint/run_medium_romancefinal_2k/model-500\n",
            "[550 | 558.58] loss=3.29 avg=3.19\n",
            "[600 | 603.06] loss=2.87 avg=3.16\n",
            "======== SAMPLE 1 ========\n",
            " Andrew. \"And then I got that last picture, of us kissing again.\"<|endoftext|>An Indian student who has come to the US to study says that he came to America to learn American hospitality. His friend and mentor, Anuradha , tells the story of an American hotel worker whose wife is dead due to some serious diseases and has to go back home in the U.S to see him. He is trying to get back on his path, and in India, a boy who lives with a mother dies from cancer.\n",
            "\"A man and his wife have a son. The man and his wife have not seen him in years, but have the house. They know their son well and cannot resist his interest. The daughter grows up and finds her way toward the husband and tries hard to have everything she wants. The husband decides that his life is his and he loves family, but the mother still loves and takes care of the younger child. They eventually end up together.\"\n",
            "\"It's a film about a love triangle between four young couples trying to find love in London. Each of the four loves the other at first sight. Yet it can then be that any single love triangle is not very complicated. They love each other at first sight but never get there in the end. They fall in love with each other, but there's a hitch in the love triangle which they do not know how to solve.\"\n",
            "\"Actors Tom Merton and George Allen  were cast in a romantic role as two American naval officers in World War II and are tasked to take part in a daring raid on a Japanese submarine off Hawaii. The film follows Merton and Allen's journey on the USS Puebla as they embark on a mission that will take them into danger, danger and death, to recover Captain Herbert \"Maverick\" \"Tommy\" Miller from a Japanese submarine. On the flight to destroy the submarine, Tommy reveals to Merton that the Japanese wanted him for their elite naval squad, the \"Sho-ha Ha\" . After the mission, Tommy and Ponto attempt to get to rescue the submarine from sinking it. They end up fighting together and ending up on the bottom of the ocean floor where Merton and Allen were captured and used as hostages and a prisoner. Merton and Allen tell the story of their love triangle, where Tommy and Ponto go to save the two hostages, along with some of the other crew members, through a series of flashbacks that Merton and Allen were forced to confront over a number of episodes.\n",
            "Pablo Rivera  is a gangster. One day, while serving a sentence for gun-running in the city, he meets a girl named Mitzi . They go out to a bar and watch a basketball game. Mitzi gets fired from the gang and becomes a waitress.\n",
            "\"After the film's credits roll over the credits, a montage of classic footage and iconic performances is cut. The film's cast and crew are then seen on the set of a train car for an eight-minute movie. In the scene the train car's conductor and conductor crew are shown playing in a big group at the top of a hill. The movie's director, a black man named Gene Wilder, explains to his staff why he wants to do a film like the movie. It is a film and his own first movie that he would set down his nose at any company in New York, but not all of his friends would let him. Some of them would see this movie, go to the bar, and be angry at them instead of at his friends. Then they would get on the train and they would fight with them and then they would tell the story. The movie is set in New York City and is made in the late 1950s. Gene Wilder's assistant, Gene Korn, is at the top of a mountain overlooking Manhattan on the edge of the city where he and Eddy Pender, Wilder's longtime secretary are about to work on the opening of production on Misfit Hunter. Pender says they will have to leave. Wilder says that they need to leave. Korn refuses to leave. He tells her that it isn't going to go that way, but a train will. The film's staff is shown inside the train and on the top of the hill. It is an old train car, that was being built from scratch. It is the \"\"Sho-ha Da-ha\"\", the official name of the movie, the train that was built in 1951 under Wilder's direction and used as the opening movie scene. When the film was released Gene Wilder called in his assistant Gene Korn to look at his old movie. Gene Korn was able to make a movie, so his name appears in the credits. The film takes place in a theater at the time of Star War, the opening credits have no credits and Gene Pender, Wilder's longtime secretary, gives Gene the location of the original shooting location and gives him all of Meller's original scripts\n",
            "\n",
            "[650 | 670.69] loss=3.19 avg=3.16\n",
            "[700 | 715.15] loss=2.84 avg=3.14\n",
            "[750 | 759.68] loss=3.20 avg=3.14\n",
            "[800 | 804.30] loss=3.13 avg=3.14\n",
            "======== SAMPLE 1 ========\n",
            "ulture's housekeeper and daughter, Mrs. Rufus Hughes, to take possession of a cabin for the winter as the housekeepers do not want to leave the place vacant. She, Mr. Jones, and her two boys, Frank and Henry, are friends. The boys come over to America, intending to settle down and buy a cabin in New England. This is followed by a trip to Boston with Mrs. Rufus Hughes through the city and the woods. They arrive in Maine, but Mrs. Hughes tells each of them of the time their parents and their children died and is a strong desire to be reunited again; only after spending four hours in Boston with them is it finally possible to tell what exactly happened. This trip comes under attack by John Jones, who is having difficulties getting back at Mrs. Rufus Hughes for having sent him a list of names she was unable to find. During the trip to Boston, Mrs. Hughes sends a message from Maine telling them she cannot leave the cabin as her father is going on a boat trip into Canada to visit his sister and granddaughter. Mrs. Hughes is angry with John Jones because he did not tell the boys of the cabin. Then, after a series of events, the boys realize their mother's wish to see the cabin. The only people left are Mrs. Hughes and two of her sons. They come to a realization that they still cannot return to Maine in time to be married, but are still in Boston to wait for the cabin. Their first stop, San Francisco, is also difficult for Mrs. Hughes, and after failing to be allowed in the cabin, they arrive in a small town to search for a friend. Mrs. Hughes, who had hoped to come over for holidays, is heartbroken once she sees how much they had left to make it where he and his wife works. The boys attempt to make their way back to Boston, but are interrupted by the discovery of several unkind encounters with the city's police who arrive in person to catch them and bring them to the police station. At Mrs. Hughes' first house meeting, she is confronted by three officers. She confronts with her husband, but he leaves in anger. She and her son eventually end up at a hotel; later in the hotel, while leaving, the boys are confronted by a policeman and police who find them and have the boys arrested and taken into custody at a detention facility. The police officer confiscates everything and leaves, leaving them to watch over the hotel. Mr. Jones is able to break into the cabin and give them a rough ride in his car. He has some trouble at first with the cabin, but he makes up with Mrs. Hughes. Mr. Jones begins trying to persuade Mrs. Hughes not to send the boys back to Boston, but she tells him they are going to try to get them back and he can take them to Maine for their own sake. The boys arrive in Maine, and Mrs. Hughes becomes ill while with Mrs. Hughes. Mr. Jones begins getting a feeling of his family and wants them to make it back to Maine. After the boys arrive, she tells them to go back to Chicago while he works at his desk and Mr. Jones will try to get more work. After he is relieved from his job at the hotel, he buys a car with the money and drives them to Chicago while he is gone. He says he'd give them a place to stay, but Mrs. Hughes says \"no, it's not you, it's you and me.\" Mr. Jones and the boys decide they will have sex in the car, but Mrs. Hughes warns not to have sex while pregnant, but they are married. After having sex in the car she asks him to come pick her up, but he refuses and drives away to California. He returns and tells them to have sex in a motel, but Mrs. Hughes says that is not their place to do so.\n",
            "\"Lupita is a very shy, timid, young, and vulnerable girl, suffering from a mental illness. She is living in a small rural village, where she lives with her parents, and her younger sister, María. At first, her only friend is her sister, but after three months, a very young girl begins to see them. In a small rural village near Montevideo, two young people are taking the train. María arrives at the train station, and tells the driver of the train to change them to a big train. On this train, a train full of children, many of them her age, is passing to Montevideo. All her friends were on it. She asks for a seat next to a young man, who, being very shy, she is not very sure how to say no. But the two young friends refuse to have any part in any kind of romantic relationship between them, and this brings a huge change to her. She is aware that she is very vulnerable and can be hurt in any way, and it is the only thing that unites her and everyone. María\n",
            "\n",
            "[850 | 872.29] loss=2.68 avg=3.11\n",
            "[900 | 916.88] loss=3.05 avg=3.11\n",
            "[950 | 961.44] loss=3.22 avg=3.11\n",
            "[1000 | 1005.98] loss=3.19 avg=3.12\n",
            "Saving checkpoint/run_medium_romancefinal_2k/model-1000\n",
            "WARNING:tensorflow:From /tensorflow-1.15.2/python3.6/tensorflow_core/python/training/saver.py:963: remove_checkpoint (from tensorflow.python.training.checkpoint_management) is deprecated and will be removed in a future version.\n",
            "Instructions for updating:\n",
            "Use standard file APIs to delete files with this prefix.\n",
            "======== SAMPLE 1 ========\n",
            " might be an obstacle. The two come across an old car in which Paul had been able to obtain a great deal of money from his father, and attempt to get it on the road. However, before they can go, they must negotiate with their fellow racer John, but is unable to because his engine has failed. The two then join the local drag race, and their hopes of victory fade when their car becomes engulfed in flames, prompting their fellow driver to go around the bend and get back to the start. Paul, still wanting to win, decides to take the wheel. After the race, they both meet a local doctor named Walter, who states that Paula has leukemia and should be euthanized at the next competition. He offers to be a doctor if he'll give Paul enough money to buy her a blood transfusion. Paul, feeling guilty regarding the past, then drives to a house and gets a heart transplant, which Paula has been waiting for as the price of his victory. In a bid to win her back, Paul, with the help of Dr. Walter, and John, plans a race in which the winner will collect $1000 to be given to Paul's cause. Paul and John's car is hit by a car full of cars, most having been stolen during Paul's race. In its wake, John and the doctor are struck by multiple cars. John and Walter are both seriously injured, but recover. John tells him the news to Paul's dismay, though Paul assures him he and the doctor will win the race. However, Paul has no more donors to spare, so John and Walter are given the all-important $1000 to purchase a new car. Paul and John take turns driving the new car and their car crashes into a tree, causing a series of car accidents that eventually kill them all. Walter is given terminal cancer for what happened to him, and is not given another chance to race, even though he has not been on a competitive car since the crash. After his life is over, Paul asks Paula to attend a rally and she agrees to accept him in the company of his son after she forgives him. He tells Walter that he will continue his philanthropic work towards her, and when Walter asks to speak with Paula, he tells a message from his wife to let Paula know he will speak to her on the phone while he goes out to a concert. He goes to take a video to Paula, and she sees his family on the back of his phone. The family then arrives at Paula's house and talk with Paul and Paula, who reveal that they have discovered that the only thing left that they wanted to share was their love for their daughter as Paula admitted she loves a man, not a girl. They explain that they have been through a lot together since their divorce, and they will never go off into the past again.\n",
            "The film is about a girl , who takes a job as babysitter for a wealthy and successful businessman . The film also centres around her father .\n",
            "\"The film is set in the year 1972, in the tiny coastal town of Northampton, England. Eddy, a young woman of average intelligence, wants to join her friends in the city to see her boyfriend, a former friend of her mother. Eddy's ex-boyfriend, the young aristocrat and former schoolteacher Peter  and his wife Elizabeth  have a baby of their own and Eddy and her friends all want to support Peter and Elizabeth but it appears that the children are destined for a convent. When a beautiful woman named Anne Hathaway  moves into the town, Edward, Eddy's friend, becomes an object of lust and envy. The young woman is able to seduce the child's father, but eventually ends her affair with Anne and her friend, the priest whose son Eddy is to be born. The priests, led by the Archbishop of Canterbury, are convinced that Eddy is not as innocent as she pretends she is, and it starts all over again, with a new child, who is now Anne's. As the Archbishop prepares to be deposed, a violent storm and subsequent earthquake, accompanied by Peter's appearance in front of Eddy, convinces the people of Northampton that a new, \"\"saved\"\" church will be built there and the new, wealthy church, consisting of a large bell tower and cathedral, will be built near the river. Eddy and Peter agree to the plan, but Eddy rejects it. Peter then tells Eddy she must move out and never see Anne again, and Eddy does so. In the meantime, Eddy and her friends become lovers, but Eddy tells Peter that there remains a child she must remain with another man, and that it is Peter's child, and he must take control of his life. A man named Ian , a schoolteacher, is the one to convince Eddy about her plans. Ian, who wants to marry Anne, is persuaded that marriage would be better for Anne. After meeting Ian, Anne sends an anonymous letter to Peter\n",
            "\n",
            "[1050 | 1089.04] loss=3.30 avg=3.13\n",
            "[1100 | 1133.58] loss=2.85 avg=3.11\n",
            "[1150 | 1178.16] loss=2.73 avg=3.09\n",
            "[1200 | 1222.70] loss=3.52 avg=3.11\n",
            "======== SAMPLE 1 ========\n",
            " from the other side. So he is now an orphan and it is the beginning of his journey to become a good person. His first job in life is to get himself kidnapped by the other orphans, but for that he needs his mother's love and sympathy. During his first day in the orphanage he meets Anand , a member of the orphanage's staff  who is also in love with Ravi and also tries to get him married with Anand. So they begin getting on well but by that same morning Ravi is kidnapped after his family takes him to his house and while he isn't paying attention when he asks for his mother's help. Ravi is kidnapped again and Anand takes Ravi to Juhu. In Juhu Ravi meets Preetakha  and gets involved in his love life. Ravi goes to Juhu with Rana  who also happens to be the same age as Ravi but he also happens to love Ravi and he has no intention to marry him. After getting her Ravi goes to a village called Khandakya. To get acquainted with the people there Ravi tells them that his aunt has the habit of playing prasadam with her children and they also tell that whenever Ravi gets up late he should wait for his aunt. Ravi also tells that Ravi's grandfather is a teacher of the local people and that while he is very good for everyone around him Ravi does not understand for the sake of him, who has some respect for others even for other's life. Ravi is in Khandakiya talking to his school and seeing his family of Khandakya who are still living in Khandakya village and tries to get them to believe in Ravi but is unsuccessful and they don't believe him and he cannot convince them about him. Then Ravi and Ravi's aunt who lives in the village are kidnapped. And when Ravi is not able to get an answer from them, Ravi goes to his mother's house and finds that his aunt has started crying when she was abducted. Then after he has seen the scene he takes the picture and tells her from the snapshot that he's no different than they were taken by strangers in Juhu village and the picture was taken just to give evidence of the abduction which they did after Ravi got involved in his love life. He then comes to Juhu and talks to his own grandfather and his relatives who all know that he is Ravi's son, who Ravi's uncle took as pawn to go in Juhu. They all realize that Ravi is their friend and Ravi's elder brother, and they also realize that Ravi really loves everyone but he doesn't have an honest heart. Ravi's family who is now very proud of Ravi's character is very angry to learn that Ravi can be like this. And after that Ravi tries to change to being a good guy so in the village all become happy by him. And Ravi's family starts saying yes to Ravi. Ravi's family also goes on a huge march in their honour. Ravi is happy that it's a day he has a chance to get rid of his old hatred towards all. At Juhu Ravi and Ravi are still together. He also goes to his uncle's house to get him to get Ravi to leave him and leave him in his hands. But Ravi tells Ravi that Ravi is in such a state that he cannot even let go of Ravi. He then calls his uncle and tells him to leave Ravi and Ravi will be reunited with him. At Juhu Ravi and Ravi get on a journey together to Juhu. Ravi's journey is different from the other ones. He takes them to Khandakya, where it is a time of change. Ravi and Ravi's aunt  have started working on making Ravi a good man in Juhu and in this village they come to know about an old school and a place of great beauty. But the beauty is going to change soon so Ravi and Ravi go there to make Ravi a good man in Juhu. After that, they decide to stay there and Ravi's aunt tries to do her best in the village. Ravi and Ravi are scared to go because of the beauty but Ravi tells his uncle that they have to be happy because after all, all eyes are on Juhu. But Ravi sees Khandarya with Ravi and tries his best to stop him and get him to leave them. In this village Ravi tells his family about his uncle who was killed by a thief with the help of Ravi and Ravi's aunt. Ravi then finds out that Ravi's Aunt, which is in Juhu village is about to start her school in this village. Ravi runs to this school with his mother and goes to the village to try to find them. While there, Ravi\n",
            "\n",
            "[1250 | 1291.04] loss=3.09 avg=3.11\n",
            "[1300 | 1335.57] loss=2.94 avg=3.11\n",
            "[1350 | 1380.21] loss=3.23 avg=3.11\n",
            "[1400 | 1424.74] loss=2.37 avg=3.08\n",
            "======== SAMPLE 1 ========\n",
            " who's always at her side, and finally is ready to become an adult. The movie ended with the child's fairy godmother giving her fairy godparents and parents the news that \"\"they\"\" will be \"\"the new parents\"\". The child's father is a young woman and the fairy godparents are an older woman who is also going through some problems. The new parents are then put on a train by their new fairy godparents. Now all of them are on the train, to go \"\"back to their lives\"\". The child also learns that if she wants to change, by doing a new deed, she must also do a little deed of her own.\"\n",
            "It's 1987. New York City and London are gripped with an epidemic of street kids. A film crew sets out to film the exploits of the gang. When they meet the gang's members, the film stars Danny DeVito as the leader and is executive produced by Danny DeVito, Danny Holmes and Steve Martin. It stars Danny DeVito as the lead, John Goodman as the supporting player and Ben Schwartz as the bassist.\n",
            "Vasundhara has arrived in Lahore and learns that his family and friends all come and go. In the end, Vasundhara and his family stay, but Vasundhara's close friend Rohan Kaur  moves to Lahore on the same train. Vasundhara and his family stay with him for many years. Rohan's friend Dina  is the daughter of one of his grandparents and they live together happily with their family.\n",
            "Buster McKay, a high school senior and the only survivor of his father's death in a plane crash, decides he has to find out what happened to his family: how his parents met, how they came to die, and what will happen to their world.\n",
            "Chas is the son of a doctor named Robert, and his best friend is a waitress named Margo. Each is in a love triangle, but always comes to different conclusions about who will win. Their common enemy is the killer that has recently turned up the wrong door. When their friends find out that something goes wrong around the hospital, they join the chase.\n",
            "Derek and his family enjoy a quiet, though often violent, weekend at their family's cottage in the countryside. Derek is fascinated by the history, literature, and the supernatural. After a car accident, Derek returns home to his grandmother, Elizabeth, with whom he has a strained relationship. After Elizabeth's boyfriend John, a lawyer named Michael, and a recent divorcee, Tristan, are dragged from an argument, Derek decides to confront them all.\n",
            "The story opens on an island in the Pacific Ocean where a party of sea animals are partying. They include killer whales, porpoises, and dolphins. In the story, the main character is Derek. Derek travels through the ocean wearing a blue whale mask and tries to catch Sea Sniffer, a whale that loves to party. His adventure begins when he meets Jell-O and his girlfriend Trilby are having an argument. Jell-O tells Derek that she was being rude to the other whales. Derek and Derek's party begins, and Derek tries to catch Sea Sniffer. In his quest to catch Sea Sniffer, Derek meets Mantis, a sea monster that loves to party. Derek catches Sea Sniffer and uses his whale mask to catch the sea creature in the process. Jell-O follows Derek's party to the island where Derek and Mantis both have a fight with Sea Sniffer, which causes Derek to realize that he must have some sort of connection with the creatures that live around him. As Derek tries to return Sea Sniffer back to his family, he is visited by Sea Hunter and his girlfriend Mary, who tells Derek that Sea Sniffer is still very much alive. Derek and Mantis reunite and after the fight, Sea Sniffer returns to Derek's grandparents. They are shocked to find Derek and Mantis having a party, accompanied by Sea Hunter. Before the party ends a man appears and asks Derek to leave. The party comes to an abrupt end when Sea Sniffer takes off the mask and asks Derek to come down the elevator as it is not safe to walk down the elevator alone. In a climatic scene, Derek, Mary, and the whales leave. Mary and Derek make a party appearance. The theme of the party is \"\"Shining on the Mellow Whale\"\". The finale scene shows Derek in a boat. Mary tells Derek that \"\"I'm out to dinner.\"\" Derek returns his seat back on the bus, and begins to sail away to meet his grandma.\"\n",
            "\"Nancy, is an aspiring actress who lives on a farm with her eccentric sister, Evelyn . Nancy is constantly going into detail in her diary but ends up getting caught up in a wild night out on the city. While dancing on a street corner, Nancy starts talking about having an alibi in the afternoon when her sister comes out of\n",
            "\n",
            "[1450 | 1492.26] loss=2.90 avg=3.07\n",
            "[1500 | 1536.76] loss=3.46 avg=3.09\n",
            "Saving checkpoint/run_medium_romancefinal_2k/model-1500\n",
            "[1550 | 1591.26] loss=3.73 avg=3.11\n",
            "[1600 | 1635.73] loss=3.22 avg=3.12\n",
            "======== SAMPLE 1 ========\n",
            "{{\"\"I\"\"\". The following weekend in the same house, Jim  attempts suicide by throwing his gun at the radiator. However, when police arrive, the gun is taken into custody because he had not actually bought it, but had left it in the vehicle. After a lengthy, and unsuccessful trial, Jim receives a verdict of no conviction. Despite his wife's protests, Jim becomes the first client to be released from prison; however, the following week at court, the judge orders Jim to be returned to L.A. Jail. However, at the jail, Jim is beaten up, and placed in the cells, not being allowed to use a telephone, leaving his wife to call the police. After he is released, he gets back on the street, where he is attacked by two bullies. Once, by a girl he had once tried to woo, and later again by a man he had a prior affair with. The last time he is in the street, the victim tells Jim that he has a gun and they argue before Jim goes into cardiac arrest.\"\n",
            "\"The film is about the lives of two men: a man who is a professional wrestler at a hotel in New York City; and a girl  who meets him in the streets of Toronto. She is a young woman who had a rough childhood. She was abandoned and left in the care of her grandparents who died. In spite of her rough childhood, she has developed a warm and caring relationship with her caretaker. She and her caretaker move into a small apartment near an old abandoned train depot. The first few months are filled with love and attraction between the two. Things change when it becomes apparent that the owner of the apartment who has been neglecting the tenant, the man's father, isn't paying his rent, and the caretaker needs the money for his daughter  so she leaves. The caretaker dies and the man, who now cares for the man who left, begins to view the caretaker as an outcast. The caretaker comes home to Toronto. Shortly after the caretaker's death, the two men reunite. The film closes with two more years of friendship between the two men.\"\n",
            "\"The original gangsters are arrested after a major crime wave led by the Mafia. A group of teenagers lead by the eponymous gangster is kidnapped by thugs using their high school relationship. They then join the gangsters, and get involved in the story. The gangsters kidnap the two teens and are caught up in a police-superheroic car chase-from-a-seminar to a hospital, where they encounter a serial murderer. The new gangsters are captured by the police and transported to the hospital. The gangster with the highest crime score  is beaten into a coma. The gangster who had a lower crime score is revived, and escapes.\"\n",
            "\"The film opens with the boys, Al and Eddie, being chased by a car driven by an evil vampire, a vampire who had previously attacked Al and Eddie. Al and Eddie escape the car and get locked inside two cars, Al in the back of a truck, Eddie in the middle of a gas station, and Al in Al's  car. Al and Eddie then are pursued by vampires for a while. While Al is attacked by many, he eventually wins over one vampire and is able to free himself. The ensuing chase starts with Al and Eddie in a gas station car. Al escapes from another vampires attack and drives off, driving an enormous amount of petrol towards a nearby tree line. Eddie runs into a dead tree to escape the car in Al's car. While being pursued by several blood-spikes and other vampires, Al, Eddie, and Al's car explode, destroying everyone around them and leaving Al dead on the side of the road. Al and Eddie escape from the car in Al's truck. The following morning, Al and Eddie are driving away from a car on the side of the road and they hear a sound like a car engine revving, though it's not clear what it is. Al and Eddie make it to Al's place and they go inside to see Al and Eddie's bodies. While Al and Eddie are cleaning him up, he begins having visions of people and places. Suddenly, Al and Eddie run out to confront Al and Eddie. After the confrontation, Al and Eddie run through a gas station and a tunnel to Al's place. Al and Eddie fight Al and Eddie with a gun. Al and Eddie then arrive at Al's place. They get ready and Al drives them around Al's house, destroying many objects inside of Al's house including books and his car. Al and Eddie chase him through Al's house and they open fire on Al. They then drive off a ladder to the street of Al's apartment before finally going into Al's car. They are surrounded by vampires, but Al and Eddie fight the vampires. Al and Eddie get back in Al's car, after which the girls get out and go off. Al then escapes and begins a race with Eddie chasing Al.\n",
            "\n",
            "[1650 | 1703.61] loss=3.01 avg=3.11\n",
            "[1700 | 1748.15] loss=2.63 avg=3.10\n",
            "[1750 | 1792.68] loss=3.06 avg=3.10\n",
            "[1800 | 1837.28] loss=3.46 avg=3.11\n",
            "======== SAMPLE 1 ========\n",
            "exist. After a series of adventures through the woods, the gang and the evil Baron von Hombacher clash in the forest.\n",
            "A former detective who is working on solving a case in a bar has stumbled upon a mysterious killer.\n",
            "\"The film takes place in the year 18th Century during the reign of King Richard III in England and revolves around the rivalry of the three Princes of Orange, Richard, Richard's wife and her illegitimate son, Prince Charles of England. The story revolves around two brothers and two sisters: Richard III  and his son, Richard III's wife Margaret . The Princes are part of the king's entourage leading a private tour of his castle, where they are met by King Richard's entourage. There are flashbacks to Margaret and Richard's childhood on Cape Richard, during the Crusades when Richard's grandfather, Geoffrey of Monmouth  was the best of all the Crusaders, including Richard, Richard's great-uncle. King Richard sends his family on one of his numerous expeditions to the Holy Land during the Crusade. There are several memorable scenes between the two brothers, Richard and Richard III. During a battle between Richard III and his uncle, Geoffrey, Geoffrey is killed during the battle. During Richard III's funeral, Margaret is presented with a small golden ring and made to wear it ever since. The ring is given to her by Geoffrey's mother; she tells Richard that she has brought him to England. Richard II is crowned King of England on August 31, and Richard III the King of Prussia during the coronation. The film is also filled with humorous scenes and characters, each one in a different epoch from the others. The most notable example is the interaction of young Elizabeth, Richard's wife and Queen of England with the two brothers. Her father-in-law, Edward IV , was her brother.[6] The King of England uses the crown to make a claim to his brother-in-law's kingdom and claim his title as King of England. The princes and nobles are introduced as members of royal courtiers in the story. The prince of England tells his friend, Lord Palmerston, \"\"I am Richard III of Monmouth, my fellow citizens...I will crown you king and you can make me your king.\"[7] Monmouth is an obscure character, though it is implied that he is a fictitious character. This was done to keep Monmouth and Richard's rivalry fresh, although his role is largely relegated. The Princes are not mentioned at all during their coronation, although they are mentioned by all the other Princes. During the ceremony, all the Princes are announced to be in charge of the new Crown, with one exception: Queen Margaret. Monmouth is named as the minister of state, and the only person in the audience who is not informed that Monmouth is indeed the King of England is a clerk. Monmouth is sent out on a private mission to inform the government about the Holy Land and to convince the King of Prussia to allow him to be granted some influence over the political situation there, for no other purposes. When Monmouth reaches Constantinople, he is accompanied by a Persian general and a group of Turkish generals, led by the Persian general and his Turkish general brother Isas, who have also been hired. Monmouth, believing to be the true king, convinces the Turks that he is indeed the real king, and they send him to Monmouth's headquarters. Monmouth then informs Monmouth, by name, of his new position. Monmouth advises Monmouth to find out what he must do. Monmouth asks Monmouth to give an advance of 5000 marks, but Monmouth refuses citing personal reasons. Angered, Monmouth demands the money and he has Monmouth arrested, charged with tax evasion. On hearing this accusation, Monmouth makes his escape along with his friend Philip, a fellow member of the House of Orange, who tells Monmouth that Elizabeth will be his mistress. Monmouth is sentenced to death by the House of Orange. Richard III is crowned King of England, and his father and Prince Philip are made his heirs to the throne. The three Princes are then all invited to attend a banquet in celebration, while Richard the Lionheart  secretly attends a reception where he tells the Queen that he is the only heir of the throne. The scene is taken to indicate that the King is aware of Monmouth's involvement with the Princes of Orange, and the Royal family must now have complete control over him or else he will revolt. Monmouth, however, secretly decides to remain at the council to ensure that Richard is the King and not the traitor to the kingdom. Richard's uncle becomes despondent after Monmouth is discovered to have stolen the new crown and throne for himself. Monmouth then decides to return to England under a false identity, so that he can convince the House of Orange to allow Richard to be their king. This requires Monmouth to betray everyone and return before long with the royal seal, but Richard would most likely be killed without him. Mon\n",
            "\n",
            "[1850 | 1904.33] loss=2.61 avg=3.09\n",
            "[1900 | 1948.94] loss=3.14 avg=3.09\n",
            "[1950 | 1993.61] loss=2.74 avg=3.08\n",
            "[2000 | 2038.20] loss=3.02 avg=3.08\n",
            "Saving checkpoint/run_medium_romancefinal_2k/model-2000\n"
          ],
          "name": "stdout"
        }
      ]
    },
    {
      "cell_type": "code",
      "metadata": {
        "id": "OOfwlWZ8j158",
        "colab_type": "code",
        "colab": {}
      },
      "source": [
        "#save model to google drive\n",
        "#gpt2.copy_checkpoint_to_gdrive(run_name='run1_medium_2k')\n",
        "gpt2.copy_checkpoint_to_gdrive(run_name='run_medium_romancefinal_2k')"
      ],
      "execution_count": 0,
      "outputs": []
    },
    {
      "cell_type": "code",
      "metadata": {
        "id": "nQO8WYa8j21R",
        "colab_type": "code",
        "colab": {}
      },
      "source": [
        "#load model from google drive\n",
        "#gpt2.copy_checkpoint_from_gdrive(run_name='run1_medium_2k')\n",
        "gpt2.copy_checkpoint_from_gdrive(run_name='run_medium_comedy')"
      ],
      "execution_count": 0,
      "outputs": []
    },
    {
      "cell_type": "code",
      "metadata": {
        "id": "ckcGWWxj44Q4",
        "colab_type": "code",
        "outputId": "545d1068-a540-4c30-c3c8-3463b84292b3",
        "colab": {
          "base_uri": "https://localhost:8080/",
          "height": 548
        }
      },
      "source": [
        "sess = gpt2.start_tf_sess()\n",
        "#gpt2.load_gpt2(sess, run_name='run1_medium_2k')\n",
        "gpt2.load_gpt2(sess, run_name='run_medium_horror')"
      ],
      "execution_count": 0,
      "outputs": [
        {
          "output_type": "error",
          "ename": "ValueError",
          "evalue": "ignored",
          "traceback": [
            "\u001b[0;31m---------------------------------------------------------------------------\u001b[0m",
            "\u001b[0;31mValueError\u001b[0m                                Traceback (most recent call last)",
            "\u001b[0;32m<ipython-input-9-b7eb6647b44f>\u001b[0m in \u001b[0;36m<module>\u001b[0;34m()\u001b[0m\n\u001b[1;32m      1\u001b[0m \u001b[0msess\u001b[0m \u001b[0;34m=\u001b[0m \u001b[0mgpt2\u001b[0m\u001b[0;34m.\u001b[0m\u001b[0mstart_tf_sess\u001b[0m\u001b[0;34m(\u001b[0m\u001b[0;34m)\u001b[0m\u001b[0;34m\u001b[0m\u001b[0;34m\u001b[0m\u001b[0m\n\u001b[1;32m      2\u001b[0m \u001b[0;31m#gpt2.load_gpt2(sess, run_name='run1_medium_2k')\u001b[0m\u001b[0;34m\u001b[0m\u001b[0;34m\u001b[0m\u001b[0;34m\u001b[0m\u001b[0m\n\u001b[0;32m----> 3\u001b[0;31m \u001b[0mgpt2\u001b[0m\u001b[0;34m.\u001b[0m\u001b[0mload_gpt2\u001b[0m\u001b[0;34m(\u001b[0m\u001b[0msess\u001b[0m\u001b[0;34m,\u001b[0m \u001b[0mrun_name\u001b[0m\u001b[0;34m=\u001b[0m\u001b[0;34m'run_medium_horror'\u001b[0m\u001b[0;34m)\u001b[0m\u001b[0;34m\u001b[0m\u001b[0;34m\u001b[0m\u001b[0m\n\u001b[0m",
            "\u001b[0;32m/usr/local/lib/python3.6/dist-packages/gpt_2_simple/gpt_2.py\u001b[0m in \u001b[0;36mload_gpt2\u001b[0;34m(sess, run_name, checkpoint_dir, model_name, model_dir, multi_gpu)\u001b[0m\n\u001b[1;32m    387\u001b[0m         \u001b[0mgpus\u001b[0m \u001b[0;34m=\u001b[0m \u001b[0mget_available_gpus\u001b[0m\u001b[0;34m(\u001b[0m\u001b[0;34m)\u001b[0m\u001b[0;34m\u001b[0m\u001b[0;34m\u001b[0m\u001b[0m\n\u001b[1;32m    388\u001b[0m \u001b[0;34m\u001b[0m\u001b[0m\n\u001b[0;32m--> 389\u001b[0;31m     \u001b[0moutput\u001b[0m \u001b[0;34m=\u001b[0m \u001b[0mmodel\u001b[0m\u001b[0;34m.\u001b[0m\u001b[0mmodel\u001b[0m\u001b[0;34m(\u001b[0m\u001b[0mhparams\u001b[0m\u001b[0;34m=\u001b[0m\u001b[0mhparams\u001b[0m\u001b[0;34m,\u001b[0m \u001b[0mX\u001b[0m\u001b[0;34m=\u001b[0m\u001b[0mcontext\u001b[0m\u001b[0;34m,\u001b[0m \u001b[0mgpus\u001b[0m\u001b[0;34m=\u001b[0m\u001b[0mgpus\u001b[0m\u001b[0;34m)\u001b[0m\u001b[0;34m\u001b[0m\u001b[0;34m\u001b[0m\u001b[0m\n\u001b[0m\u001b[1;32m    390\u001b[0m \u001b[0;34m\u001b[0m\u001b[0m\n\u001b[1;32m    391\u001b[0m     \u001b[0mckpt\u001b[0m \u001b[0;34m=\u001b[0m \u001b[0mtf\u001b[0m\u001b[0;34m.\u001b[0m\u001b[0mtrain\u001b[0m\u001b[0;34m.\u001b[0m\u001b[0mlatest_checkpoint\u001b[0m\u001b[0;34m(\u001b[0m\u001b[0mcheckpoint_path\u001b[0m\u001b[0;34m)\u001b[0m\u001b[0;34m\u001b[0m\u001b[0;34m\u001b[0m\u001b[0m\n",
            "\u001b[0;32m/usr/local/lib/python3.6/dist-packages/gpt_2_simple/src/model.py\u001b[0m in \u001b[0;36mmodel\u001b[0;34m(hparams, X, past, scope, gpus, reuse)\u001b[0m\n\u001b[1;32m    181\u001b[0m \u001b[0;34m\u001b[0m\u001b[0m\n\u001b[1;32m    182\u001b[0m         wpe = tf.compat.v1.get_variable('wpe', [hparams.n_ctx, hparams.n_embd],\n\u001b[0;32m--> 183\u001b[0;31m                              initializer=tf.compat.v1.random_normal_initializer(stddev=0.01))\n\u001b[0m\u001b[1;32m    184\u001b[0m         wte = tf.compat.v1.get_variable('wte', [hparams.n_vocab, hparams.n_embd],\n\u001b[1;32m    185\u001b[0m                              initializer=tf.compat.v1.random_normal_initializer(stddev=0.02))\n",
            "\u001b[0;32m/tensorflow-1.15.0/python3.6/tensorflow_core/python/ops/variable_scope.py\u001b[0m in \u001b[0;36mget_variable\u001b[0;34m(name, shape, dtype, initializer, regularizer, trainable, collections, caching_device, partitioner, validate_shape, use_resource, custom_getter, constraint, synchronization, aggregation)\u001b[0m\n\u001b[1;32m   1498\u001b[0m       \u001b[0mconstraint\u001b[0m\u001b[0;34m=\u001b[0m\u001b[0mconstraint\u001b[0m\u001b[0;34m,\u001b[0m\u001b[0;34m\u001b[0m\u001b[0;34m\u001b[0m\u001b[0m\n\u001b[1;32m   1499\u001b[0m       \u001b[0msynchronization\u001b[0m\u001b[0;34m=\u001b[0m\u001b[0msynchronization\u001b[0m\u001b[0;34m,\u001b[0m\u001b[0;34m\u001b[0m\u001b[0;34m\u001b[0m\u001b[0m\n\u001b[0;32m-> 1500\u001b[0;31m       aggregation=aggregation)\n\u001b[0m\u001b[1;32m   1501\u001b[0m \u001b[0;34m\u001b[0m\u001b[0m\n\u001b[1;32m   1502\u001b[0m \u001b[0;34m\u001b[0m\u001b[0m\n",
            "\u001b[0;32m/tensorflow-1.15.0/python3.6/tensorflow_core/python/ops/variable_scope.py\u001b[0m in \u001b[0;36mget_variable\u001b[0;34m(self, var_store, name, shape, dtype, initializer, regularizer, reuse, trainable, collections, caching_device, partitioner, validate_shape, use_resource, custom_getter, constraint, synchronization, aggregation)\u001b[0m\n\u001b[1;32m   1241\u001b[0m           \u001b[0mconstraint\u001b[0m\u001b[0;34m=\u001b[0m\u001b[0mconstraint\u001b[0m\u001b[0;34m,\u001b[0m\u001b[0;34m\u001b[0m\u001b[0;34m\u001b[0m\u001b[0m\n\u001b[1;32m   1242\u001b[0m           \u001b[0msynchronization\u001b[0m\u001b[0;34m=\u001b[0m\u001b[0msynchronization\u001b[0m\u001b[0;34m,\u001b[0m\u001b[0;34m\u001b[0m\u001b[0;34m\u001b[0m\u001b[0m\n\u001b[0;32m-> 1243\u001b[0;31m           aggregation=aggregation)\n\u001b[0m\u001b[1;32m   1244\u001b[0m \u001b[0;34m\u001b[0m\u001b[0m\n\u001b[1;32m   1245\u001b[0m   def _get_partitioned_variable(self,\n",
            "\u001b[0;32m/tensorflow-1.15.0/python3.6/tensorflow_core/python/ops/variable_scope.py\u001b[0m in \u001b[0;36mget_variable\u001b[0;34m(self, name, shape, dtype, initializer, regularizer, reuse, trainable, collections, caching_device, partitioner, validate_shape, use_resource, custom_getter, constraint, synchronization, aggregation)\u001b[0m\n\u001b[1;32m    565\u001b[0m           \u001b[0mconstraint\u001b[0m\u001b[0;34m=\u001b[0m\u001b[0mconstraint\u001b[0m\u001b[0;34m,\u001b[0m\u001b[0;34m\u001b[0m\u001b[0;34m\u001b[0m\u001b[0m\n\u001b[1;32m    566\u001b[0m           \u001b[0msynchronization\u001b[0m\u001b[0;34m=\u001b[0m\u001b[0msynchronization\u001b[0m\u001b[0;34m,\u001b[0m\u001b[0;34m\u001b[0m\u001b[0;34m\u001b[0m\u001b[0m\n\u001b[0;32m--> 567\u001b[0;31m           aggregation=aggregation)\n\u001b[0m\u001b[1;32m    568\u001b[0m \u001b[0;34m\u001b[0m\u001b[0m\n\u001b[1;32m    569\u001b[0m   def _get_partitioned_variable(self,\n",
            "\u001b[0;32m/tensorflow-1.15.0/python3.6/tensorflow_core/python/ops/variable_scope.py\u001b[0m in \u001b[0;36m_true_getter\u001b[0;34m(name, shape, dtype, initializer, regularizer, reuse, trainable, collections, caching_device, partitioner, validate_shape, use_resource, constraint, synchronization, aggregation)\u001b[0m\n\u001b[1;32m    517\u001b[0m           \u001b[0mconstraint\u001b[0m\u001b[0;34m=\u001b[0m\u001b[0mconstraint\u001b[0m\u001b[0;34m,\u001b[0m\u001b[0;34m\u001b[0m\u001b[0;34m\u001b[0m\u001b[0m\n\u001b[1;32m    518\u001b[0m           \u001b[0msynchronization\u001b[0m\u001b[0;34m=\u001b[0m\u001b[0msynchronization\u001b[0m\u001b[0;34m,\u001b[0m\u001b[0;34m\u001b[0m\u001b[0;34m\u001b[0m\u001b[0m\n\u001b[0;32m--> 519\u001b[0;31m           aggregation=aggregation)\n\u001b[0m\u001b[1;32m    520\u001b[0m \u001b[0;34m\u001b[0m\u001b[0m\n\u001b[1;32m    521\u001b[0m     synchronization, aggregation, trainable = (\n",
            "\u001b[0;32m/tensorflow-1.15.0/python3.6/tensorflow_core/python/ops/variable_scope.py\u001b[0m in \u001b[0;36m_get_single_variable\u001b[0;34m(self, name, shape, dtype, initializer, regularizer, partition_info, reuse, trainable, collections, caching_device, validate_shape, use_resource, constraint, synchronization, aggregation)\u001b[0m\n\u001b[1;32m    866\u001b[0m         \u001b[0mtb\u001b[0m \u001b[0;34m=\u001b[0m \u001b[0;34m[\u001b[0m\u001b[0mx\u001b[0m \u001b[0;32mfor\u001b[0m \u001b[0mx\u001b[0m \u001b[0;32min\u001b[0m \u001b[0mtb\u001b[0m \u001b[0;32mif\u001b[0m \u001b[0;34m\"tensorflow/python\"\u001b[0m \u001b[0;32mnot\u001b[0m \u001b[0;32min\u001b[0m \u001b[0mx\u001b[0m\u001b[0;34m[\u001b[0m\u001b[0;36m0\u001b[0m\u001b[0;34m]\u001b[0m\u001b[0;34m]\u001b[0m\u001b[0;34m[\u001b[0m\u001b[0;34m:\u001b[0m\u001b[0;36m5\u001b[0m\u001b[0;34m]\u001b[0m\u001b[0;34m\u001b[0m\u001b[0;34m\u001b[0m\u001b[0m\n\u001b[1;32m    867\u001b[0m         raise ValueError(\"%s Originally defined at:\\n\\n%s\" %\n\u001b[0;32m--> 868\u001b[0;31m                          (err_msg, \"\".join(traceback.format_list(tb))))\n\u001b[0m\u001b[1;32m    869\u001b[0m       \u001b[0mfound_var\u001b[0m \u001b[0;34m=\u001b[0m \u001b[0mself\u001b[0m\u001b[0;34m.\u001b[0m\u001b[0m_vars\u001b[0m\u001b[0;34m[\u001b[0m\u001b[0mname\u001b[0m\u001b[0;34m]\u001b[0m\u001b[0;34m\u001b[0m\u001b[0;34m\u001b[0m\u001b[0m\n\u001b[1;32m    870\u001b[0m       \u001b[0;32mif\u001b[0m \u001b[0;32mnot\u001b[0m \u001b[0mshape\u001b[0m\u001b[0;34m.\u001b[0m\u001b[0mis_compatible_with\u001b[0m\u001b[0;34m(\u001b[0m\u001b[0mfound_var\u001b[0m\u001b[0;34m.\u001b[0m\u001b[0mget_shape\u001b[0m\u001b[0;34m(\u001b[0m\u001b[0;34m)\u001b[0m\u001b[0;34m)\u001b[0m\u001b[0;34m:\u001b[0m\u001b[0;34m\u001b[0m\u001b[0;34m\u001b[0m\u001b[0m\n",
            "\u001b[0;31mValueError\u001b[0m: Variable model/wpe already exists, disallowed. Did you mean to set reuse=True or reuse=tf.AUTO_REUSE in VarScope? Originally defined at:\n\n  File \"/tensorflow-1.15.0/python3.6/tensorflow_core/python/framework/ops.py\", line 1748, in __init__\n    self._traceback = tf_stack.extract_stack()\n  File \"/tensorflow-1.15.0/python3.6/tensorflow_core/python/framework/ops.py\", line 3426, in _create_op_internal\n    op_def=op_def)\n  File \"/tensorflow-1.15.0/python3.6/tensorflow_core/python/framework/ops.py\", line 3357, in create_op\n    attrs, op_def, compute_device)\n  File \"/tensorflow-1.15.0/python3.6/tensorflow_core/python/util/deprecation.py\", line 507, in new_func\n    return func(*args, **kwargs)\n  File \"/tensorflow-1.15.0/python3.6/tensorflow_core/python/framework/op_def_library.py\", line 794, in _apply_op_helper\n    op_def=op_def)\n"
          ]
        }
      ]
    },
    {
      "cell_type": "code",
      "metadata": {
        "id": "_PENjnUT5Fzg",
        "colab_type": "code",
        "colab": {}
      },
      "source": [
        "#generate text\n",
        "gpt2.generate(sess, run_name='run_medium_horror')"
      ],
      "execution_count": 0,
      "outputs": []
    },
    {
      "cell_type": "code",
      "metadata": {
        "id": "WXrB_UKP95ev",
        "colab_type": "code",
        "outputId": "72093ed6-0ccb-4e52-e965-eb963e769639",
        "colab": {
          "base_uri": "https://localhost:8080/",
          "height": 34
        }
      },
      "source": [
        "sess"
      ],
      "execution_count": 0,
      "outputs": [
        {
          "output_type": "execute_result",
          "data": {
            "text/plain": [
              "<tensorflow.python.client.session.Session at 0x7ff160f30d30>"
            ]
          },
          "metadata": {
            "tags": []
          },
          "execution_count": 9
        }
      ]
    },
    {
      "cell_type": "code",
      "metadata": {
        "id": "aLn5E7ig5PsS",
        "colab_type": "code",
        "outputId": "f666a703-4df3-49be-f2dd-7cc7543a8b42",
        "colab": {
          "base_uri": "https://localhost:8080/",
          "height": 309
        }
      },
      "source": [
        "gpt2.generate(sess,\n",
        "              run_name='run1_medium_2k',\n",
        "              prefix=\"Muriel Heslop (Toni Collette), who loves the music of ABBA, is the target of ridicule by the shallow and snobby girls she considers her friends for her awkwardness, fashion sense, and embarrassing antics.\",\n",
        "              length=100,\n",
        "              temperature=0.7,\n",
        "              top_p=0.9,\n",
        "              nsamples=5,\n",
        "              batch_size=5\n",
        "              )"
      ],
      "execution_count": 0,
      "outputs": [
        {
          "output_type": "stream",
          "text": [
            "WARNING:tensorflow:From /usr/local/lib/python3.6/dist-packages/gpt_2_simple/src/sample.py:32: where (from tensorflow.python.ops.array_ops) is deprecated and will be removed in a future version.\n",
            "Instructions for updating:\n",
            "Use tf.where in 2.0, which has the same broadcast rule as np.where\n",
            "Muriel Heslop (Toni Collette), who loves the music of ABBA, is the target of ridicule by the shallow and snobby girls she considers her friends for her awkwardness, fashion sense, and embarrassing antics. The girls find it difficult to accept her romantic advances and start to resent her for her lack of passion for music. The film follows a young woman who finds herself falling in love with a man who is not a musician.\n",
            "\"The film opens with a scene in which a young woman is walking home and is suddenly struck by lightning. The woman is later seen to be on a balcony in a dark alleyway, as a black man with a heavy chain is attempting to strangle her. She manages\n",
            "====================\n",
            "Muriel Heslop (Toni Collette), who loves the music of ABBA, is the target of ridicule by the shallow and snobby girls she considers her friends for her awkwardness, fashion sense, and embarrassing antics. Her mother, who is in love with her, tries to coax her into a marriage with her, but her mother has little interest in her career.\n",
            "The film is based on the real life story of a young woman who was born in New York City and moved to California when she was 5. The film depicts the hardships of living in the East Village in the early 1960s. The film tells of the trials of living in the East Village, where many of the characters suffer from poverty, homelessness\n",
            "====================\n",
            "Muriel Heslop (Toni Collette), who loves the music of ABBA, is the target of ridicule by the shallow and snobby girls she considers her friends for her awkwardness, fashion sense, and embarrassing antics.\n",
            "\"The film opens with a man in a white van, wearing a white mask, who is driving in a car that is trying to leave a night club. The man stops and talks to a woman, who is wearing a black mask, and asks her to get in the car. She explains that she is a young woman from London. The man proceeds to drive the car, which is a dark blue one. He looks at the woman and asks for her address, which he reads out loud\n",
            "====================\n",
            "Muriel Heslop (Toni Collette), who loves the music of ABBA, is the target of ridicule by the shallow and snobby girls she considers her friends for her awkwardness, fashion sense, and embarrassing antics. She is about to be fired from her job as a flower girl, but her boss, Mr. Guggenheim (Richard Hunter), tells her that she is fired and to return to her old job. As she is walking to the office, she is stopped by a tall, handsome, handsome-looking man, and he asks her to join him. She turns on her heel, but he doesn't notice her. She takes him to his home, and the two of them talk for hours\n",
            "====================\n",
            "Muriel Heslop (Toni Collette), who loves the music of ABBA, is the target of ridicule by the shallow and snobby girls she considers her friends for her awkwardness, fashion sense, and embarrassing antics. One day, while playing with her new toy, she is attacked by a group of girls who want to have a look at her. The attack leads to a fight and, after she is rescued by her boyfriend, they have sex. This gives her the idea to make a music video with the boys. When her boyfriend is unable to pay for her tuition, she and her friends decide to rob a bank. The group manage to get away with the money, but they are followed by a gang of\n",
            "====================\n"
          ],
          "name": "stdout"
        }
      ]
    },
    {
      "cell_type": "code",
      "metadata": {
        "id": "NVUuZEoL943h",
        "colab_type": "code",
        "colab": {}
      },
      "source": [
        ""
      ],
      "execution_count": 0,
      "outputs": []
    }
  ]
}