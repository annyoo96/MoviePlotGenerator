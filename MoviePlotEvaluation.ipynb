{
  "nbformat": 4,
  "nbformat_minor": 0,
  "metadata": {
    "colab": {
      "name": "MoviePlotEvaluation.ipynb",
      "provenance": [],
      "collapsed_sections": [],
      "toc_visible": true
    },
    "kernelspec": {
      "name": "python3",
      "display_name": "Python 3"
    }
  },
  "cells": [
    {
      "cell_type": "markdown",
      "metadata": {
        "id": "W61Nwisl5Cdb",
        "colab_type": "text"
      },
      "source": [
        "# Evaluating Movie Plot Generations via Rouge"
      ]
    },
    {
      "cell_type": "code",
      "metadata": {
        "id": "QOiPEPDK2y2b",
        "colab_type": "code",
        "outputId": "06df072f-edad-413e-a69f-422e4f274918",
        "colab": {
          "base_uri": "https://localhost:8080/",
          "height": 173
        }
      },
      "source": [
        "!pip install rouge\n",
        "from rouge import Rouge \n",
        "from datetime import datetime\n",
        "from google.colab import files\n",
        "import numpy as np\n",
        "import pandas as pd\n",
        "import time\n",
        "import os\n",
        "import nltk\n",
        "from nltk import tokenize\n",
        "nltk.download('punkt')"
      ],
      "execution_count": 0,
      "outputs": [
        {
          "output_type": "stream",
          "text": [
            "Collecting rouge\n",
            "  Downloading https://files.pythonhosted.org/packages/43/cc/e18e33be20971ff73a056ebdb023476b5a545e744e3fc22acd8c758f1e0d/rouge-1.0.0-py3-none-any.whl\n",
            "Requirement already satisfied: six in /usr/local/lib/python3.6/dist-packages (from rouge) (1.12.0)\n",
            "Installing collected packages: rouge\n",
            "Successfully installed rouge-1.0.0\n",
            "[nltk_data] Downloading package punkt to /root/nltk_data...\n",
            "[nltk_data]   Unzipping tokenizers/punkt.zip.\n"
          ],
          "name": "stdout"
        },
        {
          "output_type": "execute_result",
          "data": {
            "text/plain": [
              "True"
            ]
          },
          "metadata": {
            "tags": []
          },
          "execution_count": 1
        }
      ]
    },
    {
      "cell_type": "code",
      "metadata": {
        "id": "Y7qgtOrPoecd",
        "colab_type": "code",
        "outputId": "44ec1fcf-faa9-4542-ef3f-51ac3586f522",
        "colab": {
          "base_uri": "https://localhost:8080/",
          "height": 122
        }
      },
      "source": [
        "from google.colab import drive\n",
        "drive.mount('/content/drive')"
      ],
      "execution_count": 0,
      "outputs": [
        {
          "output_type": "stream",
          "text": [
            "Go to this URL in a browser: https://accounts.google.com/o/oauth2/auth?client_id=947318989803-6bn6qk8qdgf4n4g3pfee6491hc0brc4i.apps.googleusercontent.com&redirect_uri=urn%3aietf%3awg%3aoauth%3a2.0%3aoob&response_type=code&scope=email%20https%3a%2f%2fwww.googleapis.com%2fauth%2fdocs.test%20https%3a%2f%2fwww.googleapis.com%2fauth%2fdrive%20https%3a%2f%2fwww.googleapis.com%2fauth%2fdrive.photos.readonly%20https%3a%2f%2fwww.googleapis.com%2fauth%2fpeopleapi.readonly\n",
            "\n",
            "Enter your authorization code:\n",
            "··········\n",
            "Mounted at /content/drive\n"
          ],
          "name": "stdout"
        }
      ]
    },
    {
      "cell_type": "markdown",
      "metadata": {
        "id": "GLIZAmLCl-8R",
        "colab_type": "text"
      },
      "source": [
        "## Utility"
      ]
    },
    {
      "cell_type": "code",
      "metadata": {
        "id": "o6gXRUKq_pvz",
        "colab_type": "code",
        "colab": {}
      },
      "source": [
        "def find_plot_via_title(filename):\n",
        "  title = filename[14:-4]\n",
        "  plt = test_data.loc[test_data['Title'] == title][\"Plot\"].values[0]\n",
        "  return plt"
      ],
      "execution_count": 0,
      "outputs": []
    },
    {
      "cell_type": "code",
      "metadata": {
        "id": "PlARdWuUQX6v",
        "colab_type": "code",
        "colab": {}
      },
      "source": [
        "#sentence extraction: len = total len / 2\n",
        "#sentence extraction: len = total len - 2\n",
        "def extract_prediction_sent(text):\n",
        "  sent_tokens = tokenize.sent_tokenize(text)\n",
        "  size = max(len(sent_tokens) - 2, 1)\n",
        "  beg_text = sent_tokens[size:]\n",
        "  beg = \" \".join(beg_text)\n",
        "  return beg\n",
        "\n",
        "def extract_prediction_word(text, amount):\n",
        "  word_tokens = tokenize.word_tokenize(text)\n",
        "  #size = max(int(len(word_tokens) * threshold), 1)\n",
        "  prediction_tokens = word_tokens[amount:]\n",
        "  prediction = \" \".join(prediction_tokens)\n",
        "  return prediction\n",
        "\n",
        "def find_prefix(text, threshold):\n",
        "  word_tokens = tokenize.word_tokenize(text)\n",
        "  size = max(int(len(word_tokens) * threshold), 1)\n",
        "  return size"
      ],
      "execution_count": 0,
      "outputs": []
    },
    {
      "cell_type": "code",
      "metadata": {
        "id": "NGGkfsJA0Xth",
        "colab_type": "code",
        "colab": {}
      },
      "source": [
        "def join_scores(s1, s2):\n",
        "  temp = [{'rouge-1': {'f': 0, 'p': 0, 'r': 0},\n",
        "          'rouge-2': {'f': 0, 'p': 0, 'r': 0},\n",
        "          'rouge-l': {'f': 0, 'p': 0, 'r': 0}}]\n",
        "\n",
        "  temp[0]['rouge-1']['f'] = s1[0]['rouge-1']['f'] + s2[0]['rouge-1']['f']\n",
        "  temp[0]['rouge-1']['p'] = s1[0]['rouge-1']['p'] + s2[0]['rouge-1']['p'] \n",
        "  temp[0]['rouge-1']['r'] = s1[0]['rouge-1']['r'] + s2[0]['rouge-1']['r']  \n",
        "\n",
        "  temp[0]['rouge-2']['f'] = s1[0]['rouge-2']['f'] + s2[0]['rouge-2']['f']\n",
        "  temp[0]['rouge-2']['p'] = s1[0]['rouge-2']['p'] + s2[0]['rouge-2']['p'] \n",
        "  temp[0]['rouge-2']['r'] = s1[0]['rouge-2']['r'] + s2[0]['rouge-2']['r']  \n",
        "\n",
        "  temp[0]['rouge-l']['f'] = s1[0]['rouge-l']['f'] + s2[0]['rouge-l']['f']\n",
        "  temp[0]['rouge-l']['p'] = s1[0]['rouge-l']['p'] + s2[0]['rouge-l']['p'] \n",
        "  temp[0]['rouge-l']['r'] = s1[0]['rouge-l']['r'] + s2[0]['rouge-l']['r']  \n",
        "\n",
        "  return temp"
      ],
      "execution_count": 0,
      "outputs": []
    },
    {
      "cell_type": "code",
      "metadata": {
        "id": "DklkxLqxDBdE",
        "colab_type": "code",
        "colab": {}
      },
      "source": [
        "def average_scores(score, div):\n",
        "  temp = [{'rouge-1': {'f': 0, 'p': 0, 'r': 0},\n",
        "          'rouge-2': {'f': 0, 'p': 0, 'r': 0},\n",
        "          'rouge-l': {'f': 0, 'p': 0, 'r': 0}}]\n",
        "\n",
        "  temp[0]['rouge-1']['f'] = score[0]['rouge-1']['f'] / div\n",
        "  temp[0]['rouge-1']['p'] = score[0]['rouge-1']['p'] / div\n",
        "  temp[0]['rouge-1']['r'] = score[0]['rouge-1']['r']  / div\n",
        "\n",
        "  temp[0]['rouge-2']['f'] = score[0]['rouge-2']['f'] / div\n",
        "  temp[0]['rouge-2']['p'] = score[0]['rouge-2']['p'] / div\n",
        "  temp[0]['rouge-2']['r'] = score[0]['rouge-2']['r']  / div \n",
        "\n",
        "  temp[0]['rouge-l']['f'] = score[0]['rouge-l']['f'] / div\n",
        "  temp[0]['rouge-l']['p'] = score[0]['rouge-l']['p'] / div\n",
        "  temp[0]['rouge-l']['r'] = score[0]['rouge-l']['r']  / div\n",
        "  \n",
        "  return temp"
      ],
      "execution_count": 0,
      "outputs": []
    },
    {
      "cell_type": "code",
      "metadata": {
        "id": "5xYkMSQEFuYu",
        "colab_type": "code",
        "colab": {}
      },
      "source": [
        "rouge = Rouge()"
      ],
      "execution_count": 0,
      "outputs": []
    },
    {
      "cell_type": "code",
      "metadata": {
        "id": "Tt6jwnjWikol",
        "colab_type": "code",
        "colab": {}
      },
      "source": [
        "def rouge_calculations(directory_path, threshold, total):\n",
        "  current_totals = [{'rouge-1': {'f': 0, 'p': 0, 'r': 0},\n",
        "          'rouge-2': {'f': 0, 'p': 0, 'r': 0},\n",
        "          'rouge-l': {'f': 0, 'p': 0, 'r': 0}}]\n",
        "\n",
        "  current_prediction = [{'rouge-1': {'f': 0, 'p': 0, 'r': 0},\n",
        "          'rouge-2': {'f': 0, 'p': 0, 'r': 0},\n",
        "          'rouge-l': {'f': 0, 'p': 0, 'r': 0}}]\n",
        "  directory = os.fsencode(directory_path)\n",
        "  for file in os.listdir(directory):\n",
        "    try:\n",
        "      filename = os.fsdecode(file)\n",
        "      full_path = os.path.join(directory_path, filename)\n",
        "      file_open = open(full_path,mode='r')\n",
        "\n",
        "      reference = find_plot_via_title(filename)\n",
        "      num_tokens = find_prefix(reference, threshold)\n",
        "      prediction_ref = extract_prediction_word(reference, num_tokens)\n",
        "\n",
        "      plot = file_open.read()\n",
        "      prediction_plot = extract_prediction_word(plot, num_tokens)\n",
        "      \n",
        "      total_scores = rouge.get_scores(plot, reference)\n",
        "      prediction_scores = rouge.get_scores(prediction_plot, prediction_ref)\n",
        "      \n",
        "      current_totals = join_scores(current_totals, total_scores)\n",
        "      current_prediction = join_scores(current_prediction, prediction_scores)\n",
        "    except:\n",
        "      total -= 1\n",
        "  return average_scores(current_totals, total), average_scores(current_prediction, total)"
      ],
      "execution_count": 0,
      "outputs": []
    },
    {
      "cell_type": "code",
      "metadata": {
        "id": "IEUpD4-4LK71",
        "colab_type": "code",
        "colab": {}
      },
      "source": [
        "def create_results_table(res25, res50, res75):\n",
        "  labels = [\"Rouge-1 F1\", \"Rouge-1 Precision\", \"Rouge-1 Recall\", \"Rouge-2 F1\", \"Rouge-2 Precision\", \"Rouge-2 Recall\", \"Rouge-L F1\", \"Rouge-L Precision\", \"Rouge-L Recall\"]\n",
        "  gen_results = pd.DataFrame(np.array([[res25['rouge-1']['f'],res50['rouge-1']['f'], res75['rouge-1']['f']], \n",
        "                                       [res25['rouge-1']['p'],res50['rouge-1']['p'], res75['rouge-1']['p']], \n",
        "                                       [res25['rouge-1']['r'],res50['rouge-1']['r'], res75['rouge-1']['r']],\n",
        "                                       [res25['rouge-2']['f'],res50['rouge-2']['f'], res75['rouge-2']['f']], \n",
        "                                       [res25['rouge-2']['p'],res50['rouge-2']['p'], res75['rouge-2']['p']], \n",
        "                                       [res25['rouge-2']['r'],res50['rouge-2']['r'], res75['rouge-2']['r']],\n",
        "                                       [res25['rouge-l']['f'],res50['rouge-l']['f'], res75['rouge-l']['f']], \n",
        "                                       [res25['rouge-l']['p'],res50['rouge-l']['p'], res75['rouge-l']['p']], \n",
        "                                       [res25['rouge-l']['r'],res50['rouge-l']['r'], res75['rouge-l']['r']]]),\n",
        "                           columns = [\"25% Prefix\", \"50% Prefix\", \"75% Prefix\"],\n",
        "                           index = labels)\n",
        "  return gen_results"
      ],
      "execution_count": 0,
      "outputs": []
    },
    {
      "cell_type": "markdown",
      "metadata": {
        "id": "1PFDNdoactMM",
        "colab_type": "text"
      },
      "source": [
        "## Horror Genre Evaluation"
      ]
    },
    {
      "cell_type": "code",
      "metadata": {
        "id": "YUIM0vNY3xCr",
        "colab_type": "code",
        "outputId": "03dfcfe5-33f4-4ade-e21c-4aef37d54c4a",
        "colab": {
          "base_uri": "https://localhost:8080/",
          "height": 272
        }
      },
      "source": [
        "#loading test file\n",
        "test_data = pd.read_csv(\"/content/drive/My Drive/w266 final project/Genre_thrilhor_test.csv\")\n",
        "test_data = test_data.drop(['Unnamed: 0'], axis=1)\n",
        "test_data.head()"
      ],
      "execution_count": 0,
      "outputs": [
        {
          "output_type": "execute_result",
          "data": {
            "text/html": [
              "<div>\n",
              "<style scoped>\n",
              "    .dataframe tbody tr th:only-of-type {\n",
              "        vertical-align: middle;\n",
              "    }\n",
              "\n",
              "    .dataframe tbody tr th {\n",
              "        vertical-align: top;\n",
              "    }\n",
              "\n",
              "    .dataframe thead th {\n",
              "        text-align: right;\n",
              "    }\n",
              "</style>\n",
              "<table border=\"1\" class=\"dataframe\">\n",
              "  <thead>\n",
              "    <tr style=\"text-align: right;\">\n",
              "      <th></th>\n",
              "      <th>Title</th>\n",
              "      <th>Plot</th>\n",
              "      <th>Genre</th>\n",
              "    </tr>\n",
              "  </thead>\n",
              "  <tbody>\n",
              "    <tr>\n",
              "      <th>0</th>\n",
              "      <td>Il Giorno prima</td>\n",
              "      <td>This story takes place when they experience th...</td>\n",
              "      <td>['thriller', 'drama']</td>\n",
              "    </tr>\n",
              "    <tr>\n",
              "      <th>1</th>\n",
              "      <td>The Ghost Inside</td>\n",
              "      <td>The Ghost Inside tells the story of a young mo...</td>\n",
              "      <td>['movies', 'chinese', 'horror']</td>\n",
              "    </tr>\n",
              "    <tr>\n",
              "      <th>2</th>\n",
              "      <td>Gigantor</td>\n",
              "      <td>The series is set in the year 2000. The show f...</td>\n",
              "      <td>['anime', 'fiction', 'science', 'animation', '...</td>\n",
              "    </tr>\n",
              "    <tr>\n",
              "      <th>3</th>\n",
              "      <td>Kimmy Dora and the Temple of Kiyeme</td>\n",
              "      <td>Kimmy and Dora  are identical twins with diffe...</td>\n",
              "      <td>['comedy', 'horror']</td>\n",
              "    </tr>\n",
              "    <tr>\n",
              "      <th>4</th>\n",
              "      <td>Achamundu Achamundu</td>\n",
              "      <td>Senthil Kumar ([[Prasanna  and Malini ([[Sneha...</td>\n",
              "      <td>['thriller', 'drama']</td>\n",
              "    </tr>\n",
              "  </tbody>\n",
              "</table>\n",
              "</div>"
            ],
            "text/plain": [
              "                                 Title  ...                                              Genre\n",
              "0                      Il Giorno prima  ...                              ['thriller', 'drama']\n",
              "1                     The Ghost Inside  ...                    ['movies', 'chinese', 'horror']\n",
              "2                             Gigantor  ...  ['anime', 'fiction', 'science', 'animation', '...\n",
              "3  Kimmy Dora and the Temple of Kiyeme  ...                               ['comedy', 'horror']\n",
              "4                  Achamundu Achamundu  ...                              ['thriller', 'drama']\n",
              "\n",
              "[5 rows x 3 columns]"
            ]
          },
          "metadata": {
            "tags": []
          },
          "execution_count": 9
        }
      ]
    },
    {
      "cell_type": "code",
      "metadata": {
        "id": "ryLNZc0G4A1j",
        "colab_type": "code",
        "outputId": "79eaba1a-b299-46e1-986a-44732c56927f",
        "colab": {
          "base_uri": "https://localhost:8080/",
          "height": 105
        }
      },
      "source": [
        "!unzip -q \"/content/drive/My Drive/w266 final project/25_content_horror_0_300.zip\"\n",
        "!unzip -q \"/content/drive/My Drive/w266 final project/25_content_horror_300_600.zip\"\n",
        "\n",
        "!unzip -q \"/content/drive/My Drive/w266 final project/50_content_horror_0_100.zip\"\n",
        "!unzip -q \"/content/drive/My Drive/w266 final project/50_content_horror_100_600.zip\"\n",
        "\n",
        "!unzip -q \"/content/drive/My Drive/w266 final project/75_content_horror_0_260.zip\"\n",
        "!unzip -q \"/content/drive/My Drive/w266 final project/75_content_horror_260_600.zip\""
      ],
      "execution_count": 0,
      "outputs": [
        {
          "output_type": "stream",
          "text": [
            "replace 25_content_horror/generated_test_plots/Plot Summary: Miami Blues.txt? [y]es, [n]o, [A]ll, [N]one, [r]ename: A\n",
            "replace 25_content_horror/generated_test_plots/Plot Summary: A Killer Within.txt? [y]es, [n]o, [A]ll, [N]one, [r]ename: A\n",
            "replace __MACOSX/50_content_horror/._generated_test_plots? [y]es, [n]o, [A]ll, [N]one, [r]ename: A\n",
            "replace 75_content_horror/generated_test_plots/Plot Summary: A Killer Within.txt? [y]es, [n]o, [A]ll, [N]one, [r]ename: A\n"
          ],
          "name": "stdout"
        }
      ]
    },
    {
      "cell_type": "code",
      "metadata": {
        "id": "yVx3gjPUj9Xu",
        "colab_type": "code",
        "outputId": "d2f8a6c5-08b8-4bec-80d8-a2bdf7ac8ebb",
        "colab": {
          "base_uri": "https://localhost:8080/",
          "height": 68
        }
      },
      "source": [
        "# number of movie plots\n",
        "path, dirs, files = next(os.walk(\"/content/25_content_horror/generated_test_plots\"))\n",
        "print(\"Number of 25% Files: {}\".format(len(files)))\n",
        "\n",
        "path, dirs, files = next(os.walk(\"/content/50_content_horror/generated_test_plots\"))\n",
        "print(\"Number of 50% Files: {}\".format(len(files)))\n",
        "\n",
        "path, dirs, files = next(os.walk(\"/content/75_content_horror/generated_test_plots\"))\n",
        "print(\"Number of 75% Files: {}\".format(len(files)))"
      ],
      "execution_count": 0,
      "outputs": [
        {
          "output_type": "stream",
          "text": [
            "Number of 25% Files: 600\n",
            "Number of 50% Files: 600\n",
            "Number of 75% Files: 600\n"
          ],
          "name": "stdout"
        }
      ]
    },
    {
      "cell_type": "code",
      "metadata": {
        "id": "p7KJnnQJ5RNM",
        "colab_type": "code",
        "colab": {}
      },
      "source": [
        "directory_25 = \"/content/25_content_horror/generated_test_plots\"\n",
        "directory_50 = \"/content/50_content_horror/generated_test_plots\"\n",
        "directory_75 = \"/content/75_content_horror/generated_test_plots\""
      ],
      "execution_count": 0,
      "outputs": []
    },
    {
      "cell_type": "code",
      "metadata": {
        "id": "BJIJaZhAkJsf",
        "colab_type": "code",
        "colab": {}
      },
      "source": [
        "totals_25, pred_25 = rouge_calculations(directory_25, 0.25)\n",
        "totals_50, pred_50 = rouge_calculations(directory_50, 0.5)\n",
        "totals_75, pred_75 = rouge_calculations(directory_75, 0.75)"
      ],
      "execution_count": 0,
      "outputs": []
    },
    {
      "cell_type": "code",
      "metadata": {
        "id": "PExh83odn3Vq",
        "colab_type": "code",
        "outputId": "f3c4829b-ac05-4fe4-e0f1-d92d8695ac07",
        "colab": {
          "base_uri": "https://localhost:8080/",
          "height": 328
        }
      },
      "source": [
        "final_pred_results_horror = create_results_table(pred_25[0], pred_50[0], pred_75[0])\n",
        "final_pred_results_horror"
      ],
      "execution_count": 0,
      "outputs": [
        {
          "output_type": "execute_result",
          "data": {
            "text/html": [
              "<div>\n",
              "<style scoped>\n",
              "    .dataframe tbody tr th:only-of-type {\n",
              "        vertical-align: middle;\n",
              "    }\n",
              "\n",
              "    .dataframe tbody tr th {\n",
              "        vertical-align: top;\n",
              "    }\n",
              "\n",
              "    .dataframe thead th {\n",
              "        text-align: right;\n",
              "    }\n",
              "</style>\n",
              "<table border=\"1\" class=\"dataframe\">\n",
              "  <thead>\n",
              "    <tr style=\"text-align: right;\">\n",
              "      <th></th>\n",
              "      <th>25% Prefix</th>\n",
              "      <th>50% Prefix</th>\n",
              "      <th>75% Prefix</th>\n",
              "    </tr>\n",
              "  </thead>\n",
              "  <tbody>\n",
              "    <tr>\n",
              "      <th>Rouge-1 F1</th>\n",
              "      <td>0.294754</td>\n",
              "      <td>0.284530</td>\n",
              "      <td>0.258799</td>\n",
              "    </tr>\n",
              "    <tr>\n",
              "      <th>Rouge-1 Precision</th>\n",
              "      <td>0.309974</td>\n",
              "      <td>0.305870</td>\n",
              "      <td>0.280232</td>\n",
              "    </tr>\n",
              "    <tr>\n",
              "      <th>Rouge-1 Recall</th>\n",
              "      <td>0.286698</td>\n",
              "      <td>0.277841</td>\n",
              "      <td>0.257494</td>\n",
              "    </tr>\n",
              "    <tr>\n",
              "      <th>Rouge-2 F1</th>\n",
              "      <td>0.044344</td>\n",
              "      <td>0.042093</td>\n",
              "      <td>0.039393</td>\n",
              "    </tr>\n",
              "    <tr>\n",
              "      <th>Rouge-2 Precision</th>\n",
              "      <td>0.047585</td>\n",
              "      <td>0.047061</td>\n",
              "      <td>0.042972</td>\n",
              "    </tr>\n",
              "    <tr>\n",
              "      <th>Rouge-2 Recall</th>\n",
              "      <td>0.042658</td>\n",
              "      <td>0.040487</td>\n",
              "      <td>0.038547</td>\n",
              "    </tr>\n",
              "    <tr>\n",
              "      <th>Rouge-L F1</th>\n",
              "      <td>0.212032</td>\n",
              "      <td>0.211676</td>\n",
              "      <td>0.202998</td>\n",
              "    </tr>\n",
              "    <tr>\n",
              "      <th>Rouge-L Precision</th>\n",
              "      <td>0.292537</td>\n",
              "      <td>0.273069</td>\n",
              "      <td>0.241011</td>\n",
              "    </tr>\n",
              "    <tr>\n",
              "      <th>Rouge-L Recall</th>\n",
              "      <td>0.177670</td>\n",
              "      <td>0.184249</td>\n",
              "      <td>0.187362</td>\n",
              "    </tr>\n",
              "  </tbody>\n",
              "</table>\n",
              "</div>"
            ],
            "text/plain": [
              "                   25% Prefix  50% Prefix  75% Prefix\n",
              "Rouge-1 F1           0.294754    0.284530    0.258799\n",
              "Rouge-1 Precision    0.309974    0.305870    0.280232\n",
              "Rouge-1 Recall       0.286698    0.277841    0.257494\n",
              "Rouge-2 F1           0.044344    0.042093    0.039393\n",
              "Rouge-2 Precision    0.047585    0.047061    0.042972\n",
              "Rouge-2 Recall       0.042658    0.040487    0.038547\n",
              "Rouge-L F1           0.212032    0.211676    0.202998\n",
              "Rouge-L Precision    0.292537    0.273069    0.241011\n",
              "Rouge-L Recall       0.177670    0.184249    0.187362"
            ]
          },
          "metadata": {
            "tags": []
          },
          "execution_count": 14
        }
      ]
    },
    {
      "cell_type": "code",
      "metadata": {
        "id": "7_7tM07qn3bZ",
        "colab_type": "code",
        "outputId": "56723641-694c-4a58-d546-3616ac1fa206",
        "colab": {
          "base_uri": "https://localhost:8080/",
          "height": 328
        }
      },
      "source": [
        "final_total_results_horror = create_results_table(totals_25[0], totals_50[0], totals_75[0])\n",
        "final_total_results_horror"
      ],
      "execution_count": 0,
      "outputs": [
        {
          "output_type": "execute_result",
          "data": {
            "text/html": [
              "<div>\n",
              "<style scoped>\n",
              "    .dataframe tbody tr th:only-of-type {\n",
              "        vertical-align: middle;\n",
              "    }\n",
              "\n",
              "    .dataframe tbody tr th {\n",
              "        vertical-align: top;\n",
              "    }\n",
              "\n",
              "    .dataframe thead th {\n",
              "        text-align: right;\n",
              "    }\n",
              "</style>\n",
              "<table border=\"1\" class=\"dataframe\">\n",
              "  <thead>\n",
              "    <tr style=\"text-align: right;\">\n",
              "      <th></th>\n",
              "      <th>25% Prefix</th>\n",
              "      <th>50% Prefix</th>\n",
              "      <th>75% Prefix</th>\n",
              "    </tr>\n",
              "  </thead>\n",
              "  <tbody>\n",
              "    <tr>\n",
              "      <th>Rouge-1 F1</th>\n",
              "      <td>0.433776</td>\n",
              "      <td>0.592317</td>\n",
              "      <td>0.737350</td>\n",
              "    </tr>\n",
              "    <tr>\n",
              "      <th>Rouge-1 Precision</th>\n",
              "      <td>0.442954</td>\n",
              "      <td>0.592022</td>\n",
              "      <td>0.719553</td>\n",
              "    </tr>\n",
              "    <tr>\n",
              "      <th>Rouge-1 Recall</th>\n",
              "      <td>0.430086</td>\n",
              "      <td>0.597644</td>\n",
              "      <td>0.758694</td>\n",
              "    </tr>\n",
              "    <tr>\n",
              "      <th>Rouge-2 F1</th>\n",
              "      <td>0.239483</td>\n",
              "      <td>0.444427</td>\n",
              "      <td>0.634515</td>\n",
              "    </tr>\n",
              "    <tr>\n",
              "      <th>Rouge-2 Precision</th>\n",
              "      <td>0.245872</td>\n",
              "      <td>0.445228</td>\n",
              "      <td>0.619488</td>\n",
              "    </tr>\n",
              "    <tr>\n",
              "      <th>Rouge-2 Recall</th>\n",
              "      <td>0.236712</td>\n",
              "      <td>0.447866</td>\n",
              "      <td>0.652686</td>\n",
              "    </tr>\n",
              "    <tr>\n",
              "      <th>Rouge-L F1</th>\n",
              "      <td>0.413949</td>\n",
              "      <td>0.591498</td>\n",
              "      <td>0.744516</td>\n",
              "    </tr>\n",
              "    <tr>\n",
              "      <th>Rouge-L Precision</th>\n",
              "      <td>0.496172</td>\n",
              "      <td>0.642112</td>\n",
              "      <td>0.768088</td>\n",
              "    </tr>\n",
              "    <tr>\n",
              "      <th>Rouge-L Recall</th>\n",
              "      <td>0.364436</td>\n",
              "      <td>0.554261</td>\n",
              "      <td>0.725323</td>\n",
              "    </tr>\n",
              "  </tbody>\n",
              "</table>\n",
              "</div>"
            ],
            "text/plain": [
              "                   25% Prefix  50% Prefix  75% Prefix\n",
              "Rouge-1 F1           0.433776    0.592317    0.737350\n",
              "Rouge-1 Precision    0.442954    0.592022    0.719553\n",
              "Rouge-1 Recall       0.430086    0.597644    0.758694\n",
              "Rouge-2 F1           0.239483    0.444427    0.634515\n",
              "Rouge-2 Precision    0.245872    0.445228    0.619488\n",
              "Rouge-2 Recall       0.236712    0.447866    0.652686\n",
              "Rouge-L F1           0.413949    0.591498    0.744516\n",
              "Rouge-L Precision    0.496172    0.642112    0.768088\n",
              "Rouge-L Recall       0.364436    0.554261    0.725323"
            ]
          },
          "metadata": {
            "tags": []
          },
          "execution_count": 15
        }
      ]
    },
    {
      "cell_type": "markdown",
      "metadata": {
        "id": "YPvjZVy6pQx1",
        "colab_type": "text"
      },
      "source": [
        "## Romance Genre Evaluation"
      ]
    },
    {
      "cell_type": "code",
      "metadata": {
        "id": "Y3SFF-3mn3gP",
        "colab_type": "code",
        "outputId": "420a99e0-17a1-46b2-bd5c-62159ce5cbb4",
        "colab": {
          "base_uri": "https://localhost:8080/",
          "height": 204
        }
      },
      "source": [
        "#loading test file\n",
        "test_data = pd.read_csv(\"/content/drive/My Drive/w266 final project/Genre_romance_test.csv\")\n",
        "test_data = test_data.drop(['Unnamed: 0'], axis=1)\n",
        "test_data.head()"
      ],
      "execution_count": 0,
      "outputs": [
        {
          "output_type": "execute_result",
          "data": {
            "text/html": [
              "<div>\n",
              "<style scoped>\n",
              "    .dataframe tbody tr th:only-of-type {\n",
              "        vertical-align: middle;\n",
              "    }\n",
              "\n",
              "    .dataframe tbody tr th {\n",
              "        vertical-align: top;\n",
              "    }\n",
              "\n",
              "    .dataframe thead th {\n",
              "        text-align: right;\n",
              "    }\n",
              "</style>\n",
              "<table border=\"1\" class=\"dataframe\">\n",
              "  <thead>\n",
              "    <tr style=\"text-align: right;\">\n",
              "      <th></th>\n",
              "      <th>Title</th>\n",
              "      <th>Plot</th>\n",
              "      <th>Genre</th>\n",
              "    </tr>\n",
              "  </thead>\n",
              "  <tbody>\n",
              "    <tr>\n",
              "      <th>0</th>\n",
              "      <td>Cat And Mouse</td>\n",
              "      <td>Zhan Zhao  is a court officer who learns of a ...</td>\n",
              "      <td>['adventure', 'drama', 'movies', 'action', 'co...</td>\n",
              "    </tr>\n",
              "    <tr>\n",
              "      <th>1</th>\n",
              "      <td>Rechipo</td>\n",
              "      <td>Siva , a modern day Robinhood who steals money...</td>\n",
              "      <td>['romance']</td>\n",
              "    </tr>\n",
              "    <tr>\n",
              "      <th>2</th>\n",
              "      <td>My Chauffeur</td>\n",
              "      <td>Casey Meadows is a free-spirited young woman w...</td>\n",
              "      <td>['indie', 'romance', 'romantic', 'comedy']</td>\n",
              "    </tr>\n",
              "    <tr>\n",
              "      <th>3</th>\n",
              "      <td>Cannery Row</td>\n",
              "      <td>The story is about the skid row citizens of Mo...</td>\n",
              "      <td>['americana', 'adaptation', 'drama', 'comedy',...</td>\n",
              "    </tr>\n",
              "    <tr>\n",
              "      <th>4</th>\n",
              "      <td>Vigathakumaran</td>\n",
              "      <td>Chandrakumar, son of a rich man in Trivandrum ...</td>\n",
              "      <td>['romance', 'drama', 'action']</td>\n",
              "    </tr>\n",
              "  </tbody>\n",
              "</table>\n",
              "</div>"
            ],
            "text/plain": [
              "            Title  ...                                              Genre\n",
              "0   Cat And Mouse  ...  ['adventure', 'drama', 'movies', 'action', 'co...\n",
              "1         Rechipo  ...                                        ['romance']\n",
              "2    My Chauffeur  ...         ['indie', 'romance', 'romantic', 'comedy']\n",
              "3     Cannery Row  ...  ['americana', 'adaptation', 'drama', 'comedy',...\n",
              "4  Vigathakumaran  ...                     ['romance', 'drama', 'action']\n",
              "\n",
              "[5 rows x 3 columns]"
            ]
          },
          "metadata": {
            "tags": []
          },
          "execution_count": 12
        }
      ]
    },
    {
      "cell_type": "code",
      "metadata": {
        "id": "JyMXqqqbp3cE",
        "colab_type": "code",
        "colab": {}
      },
      "source": [
        "!unzip -q \"/content/drive/My Drive/w266 final project/25_content_romance.zip\"\n",
        "!unzip -q \"/content/drive/My Drive/w266 final project/50_content_romance.zip\"\n",
        "!unzip -q \"/content/drive/My Drive/w266 final project/75_content_romance.zip\""
      ],
      "execution_count": 0,
      "outputs": []
    },
    {
      "cell_type": "code",
      "metadata": {
        "id": "wA-LU3YqTORE",
        "colab_type": "code",
        "outputId": "93255384-3b7b-4d3e-c770-e7ea2a59bc89",
        "colab": {
          "base_uri": "https://localhost:8080/",
          "height": 68
        }
      },
      "source": [
        "# number of movie plots\n",
        "path, dirs, files = next(os.walk(\"/content/25_content_romance/generated_test_plots\"))\n",
        "print(\"Number of 25% Files: {}\".format(len(files)))\n",
        "\n",
        "path, dirs, files = next(os.walk(\"/content/50_content_romance/generated_test_plots\"))\n",
        "print(\"Number of 50% Files: {}\".format(len(files)))\n",
        "\n",
        "path, dirs, files = next(os.walk(\"/content/75_content_romance/generated_test_plots\"))\n",
        "print(\"Number of 75% Files: {}\".format(len(files)))"
      ],
      "execution_count": 0,
      "outputs": [
        {
          "output_type": "stream",
          "text": [
            "Number of 25% Files: 470\n",
            "Number of 50% Files: 470\n",
            "Number of 75% Files: 470\n"
          ],
          "name": "stdout"
        }
      ]
    },
    {
      "cell_type": "code",
      "metadata": {
        "id": "jfjfQq8rqvZ8",
        "colab_type": "code",
        "colab": {}
      },
      "source": [
        "directory_25r = \"/content/25_content_romance/generated_test_plots\"\n",
        "directory_50r = \"/content/50_content_romance/generated_test_plots\"\n",
        "directory_75r = \"/content/75_content_romance/generated_test_plots\""
      ],
      "execution_count": 0,
      "outputs": []
    },
    {
      "cell_type": "code",
      "metadata": {
        "id": "rpMxIJmmzqRP",
        "colab_type": "code",
        "colab": {}
      },
      "source": [
        "totals_25r, pred_25r = rouge_calculations(directory_25r, 0.25, 470)\n",
        "totals_50r, pred_50r = rouge_calculations(directory_50r, 0.5, 470)\n",
        "totals_75r, pred_75r = rouge_calculations(directory_75r, 0.75, 470)"
      ],
      "execution_count": 0,
      "outputs": []
    },
    {
      "cell_type": "code",
      "metadata": {
        "id": "nxN4b9MRTjiD",
        "colab_type": "code",
        "outputId": "1037d776-636e-47b9-d5e2-ee6e39fc56e9",
        "colab": {
          "base_uri": "https://localhost:8080/",
          "height": 328
        }
      },
      "source": [
        "final_pred_results_romance = create_results_table(pred_25r[0], pred_50r[0], pred_75r[0])\n",
        "final_pred_results_romance"
      ],
      "execution_count": 0,
      "outputs": [
        {
          "output_type": "execute_result",
          "data": {
            "text/html": [
              "<div>\n",
              "<style scoped>\n",
              "    .dataframe tbody tr th:only-of-type {\n",
              "        vertical-align: middle;\n",
              "    }\n",
              "\n",
              "    .dataframe tbody tr th {\n",
              "        vertical-align: top;\n",
              "    }\n",
              "\n",
              "    .dataframe thead th {\n",
              "        text-align: right;\n",
              "    }\n",
              "</style>\n",
              "<table border=\"1\" class=\"dataframe\">\n",
              "  <thead>\n",
              "    <tr style=\"text-align: right;\">\n",
              "      <th></th>\n",
              "      <th>25% Prefix</th>\n",
              "      <th>50% Prefix</th>\n",
              "      <th>75% Prefix</th>\n",
              "    </tr>\n",
              "  </thead>\n",
              "  <tbody>\n",
              "    <tr>\n",
              "      <th>Rouge-1 F1</th>\n",
              "      <td>0.296406</td>\n",
              "      <td>0.290349</td>\n",
              "      <td>0.260697</td>\n",
              "    </tr>\n",
              "    <tr>\n",
              "      <th>Rouge-1 Precision</th>\n",
              "      <td>0.316662</td>\n",
              "      <td>0.308039</td>\n",
              "      <td>0.284046</td>\n",
              "    </tr>\n",
              "    <tr>\n",
              "      <th>Rouge-1 Recall</th>\n",
              "      <td>0.285422</td>\n",
              "      <td>0.282293</td>\n",
              "      <td>0.257988</td>\n",
              "    </tr>\n",
              "    <tr>\n",
              "      <th>Rouge-2 F1</th>\n",
              "      <td>0.044868</td>\n",
              "      <td>0.043864</td>\n",
              "      <td>0.038223</td>\n",
              "    </tr>\n",
              "    <tr>\n",
              "      <th>Rouge-2 Precision</th>\n",
              "      <td>0.049027</td>\n",
              "      <td>0.047521</td>\n",
              "      <td>0.044254</td>\n",
              "    </tr>\n",
              "    <tr>\n",
              "      <th>Rouge-2 Recall</th>\n",
              "      <td>0.042795</td>\n",
              "      <td>0.042336</td>\n",
              "      <td>0.037471</td>\n",
              "    </tr>\n",
              "    <tr>\n",
              "      <th>Rouge-L F1</th>\n",
              "      <td>0.214031</td>\n",
              "      <td>0.219227</td>\n",
              "      <td>0.209298</td>\n",
              "    </tr>\n",
              "    <tr>\n",
              "      <th>Rouge-L Precision</th>\n",
              "      <td>0.287209</td>\n",
              "      <td>0.273614</td>\n",
              "      <td>0.247245</td>\n",
              "    </tr>\n",
              "    <tr>\n",
              "      <th>Rouge-L Recall</th>\n",
              "      <td>0.180592</td>\n",
              "      <td>0.191641</td>\n",
              "      <td>0.194592</td>\n",
              "    </tr>\n",
              "  </tbody>\n",
              "</table>\n",
              "</div>"
            ],
            "text/plain": [
              "                   25% Prefix  50% Prefix  75% Prefix\n",
              "Rouge-1 F1           0.296406    0.290349    0.260697\n",
              "Rouge-1 Precision    0.316662    0.308039    0.284046\n",
              "Rouge-1 Recall       0.285422    0.282293    0.257988\n",
              "Rouge-2 F1           0.044868    0.043864    0.038223\n",
              "Rouge-2 Precision    0.049027    0.047521    0.044254\n",
              "Rouge-2 Recall       0.042795    0.042336    0.037471\n",
              "Rouge-L F1           0.214031    0.219227    0.209298\n",
              "Rouge-L Precision    0.287209    0.273614    0.247245\n",
              "Rouge-L Recall       0.180592    0.191641    0.194592"
            ]
          },
          "metadata": {
            "tags": []
          },
          "execution_count": 18
        }
      ]
    },
    {
      "cell_type": "code",
      "metadata": {
        "id": "3PFaBVif4U_-",
        "colab_type": "code",
        "outputId": "2488934f-ec17-45e2-f334-eaff3fb9b186",
        "colab": {
          "base_uri": "https://localhost:8080/",
          "height": 328
        }
      },
      "source": [
        "final_total_results_romance = create_results_table(totals_25r[0], totals_50r[0], totals_75r[0])\n",
        "final_total_results_romance"
      ],
      "execution_count": 0,
      "outputs": [
        {
          "output_type": "execute_result",
          "data": {
            "text/html": [
              "<div>\n",
              "<style scoped>\n",
              "    .dataframe tbody tr th:only-of-type {\n",
              "        vertical-align: middle;\n",
              "    }\n",
              "\n",
              "    .dataframe tbody tr th {\n",
              "        vertical-align: top;\n",
              "    }\n",
              "\n",
              "    .dataframe thead th {\n",
              "        text-align: right;\n",
              "    }\n",
              "</style>\n",
              "<table border=\"1\" class=\"dataframe\">\n",
              "  <thead>\n",
              "    <tr style=\"text-align: right;\">\n",
              "      <th></th>\n",
              "      <th>25% Prefix</th>\n",
              "      <th>50% Prefix</th>\n",
              "      <th>75% Prefix</th>\n",
              "    </tr>\n",
              "  </thead>\n",
              "  <tbody>\n",
              "    <tr>\n",
              "      <th>Rouge-1 F1</th>\n",
              "      <td>0.435052</td>\n",
              "      <td>0.591658</td>\n",
              "      <td>0.735137</td>\n",
              "    </tr>\n",
              "    <tr>\n",
              "      <th>Rouge-1 Precision</th>\n",
              "      <td>0.449390</td>\n",
              "      <td>0.590413</td>\n",
              "      <td>0.717757</td>\n",
              "    </tr>\n",
              "    <tr>\n",
              "      <th>Rouge-1 Recall</th>\n",
              "      <td>0.427113</td>\n",
              "      <td>0.596665</td>\n",
              "      <td>0.756362</td>\n",
              "    </tr>\n",
              "    <tr>\n",
              "      <th>Rouge-2 F1</th>\n",
              "      <td>0.241475</td>\n",
              "      <td>0.441060</td>\n",
              "      <td>0.628860</td>\n",
              "    </tr>\n",
              "    <tr>\n",
              "      <th>Rouge-2 Precision</th>\n",
              "      <td>0.251113</td>\n",
              "      <td>0.440920</td>\n",
              "      <td>0.614459</td>\n",
              "    </tr>\n",
              "    <tr>\n",
              "      <th>Rouge-2 Recall</th>\n",
              "      <td>0.236274</td>\n",
              "      <td>0.444291</td>\n",
              "      <td>0.646656</td>\n",
              "    </tr>\n",
              "    <tr>\n",
              "      <th>Rouge-L F1</th>\n",
              "      <td>0.411584</td>\n",
              "      <td>0.586856</td>\n",
              "      <td>0.741490</td>\n",
              "    </tr>\n",
              "    <tr>\n",
              "      <th>Rouge-L Precision</th>\n",
              "      <td>0.487001</td>\n",
              "      <td>0.633370</td>\n",
              "      <td>0.762615</td>\n",
              "    </tr>\n",
              "    <tr>\n",
              "      <th>Rouge-L Recall</th>\n",
              "      <td>0.364627</td>\n",
              "      <td>0.551780</td>\n",
              "      <td>0.724156</td>\n",
              "    </tr>\n",
              "  </tbody>\n",
              "</table>\n",
              "</div>"
            ],
            "text/plain": [
              "                   25% Prefix  50% Prefix  75% Prefix\n",
              "Rouge-1 F1           0.435052    0.591658    0.735137\n",
              "Rouge-1 Precision    0.449390    0.590413    0.717757\n",
              "Rouge-1 Recall       0.427113    0.596665    0.756362\n",
              "Rouge-2 F1           0.241475    0.441060    0.628860\n",
              "Rouge-2 Precision    0.251113    0.440920    0.614459\n",
              "Rouge-2 Recall       0.236274    0.444291    0.646656\n",
              "Rouge-L F1           0.411584    0.586856    0.741490\n",
              "Rouge-L Precision    0.487001    0.633370    0.762615\n",
              "Rouge-L Recall       0.364627    0.551780    0.724156"
            ]
          },
          "metadata": {
            "tags": []
          },
          "execution_count": 19
        }
      ]
    },
    {
      "cell_type": "code",
      "metadata": {
        "id": "kUyHPyacUHvS",
        "colab_type": "code",
        "outputId": "50a04e3b-8793-4c42-83d1-1438a37af8d4",
        "colab": {
          "base_uri": "https://localhost:8080/",
          "height": 54
        }
      },
      "source": [
        "final_pred_results_romance.to_csv()"
      ],
      "execution_count": 0,
      "outputs": [
        {
          "output_type": "execute_result",
          "data": {
            "text/plain": [
              "',25% Prefix,50% Prefix,75% Prefix\\nRouge-1 F1,0.23179833294116406,0.22695646972413003,0.2024185024115012\\nRouge-1 Precision,0.24763897100605184,0.2407838745107601,0.22054749932519\\nRouge-1 Recall,0.2232084184668564,0.22065939074439314,0.20031458166627736\\nRouge-2 F1,0.03508788591452317,0.03428677569036663,0.02967846340239959\\nRouge-2 Precision,0.03834080041327047,0.03714531257837778,0.03436130069145646\\nRouge-2 Recall,0.03346667735716189,0.033092546396049895,0.02909421104852497\\nRouge-L F1,0.1673786024766546,0.17136263282169953,0.16250959717592878\\nRouge-L Precision,0.22460606063623795,0.21387485497694186,0.19197375264277025\\nRouge-L Recall,0.14122813482909072,0.14979901547683624,0.1510908085930929\\n'"
            ]
          },
          "metadata": {
            "tags": []
          },
          "execution_count": 19
        }
      ]
    },
    {
      "cell_type": "code",
      "metadata": {
        "id": "G8IPCbrjVC4r",
        "colab_type": "code",
        "outputId": "037629d1-03c1-4b5d-ff62-ead0518b254e",
        "colab": {
          "base_uri": "https://localhost:8080/",
          "height": 54
        }
      },
      "source": [
        "final_pred_results_romance.to_json()"
      ],
      "execution_count": 0,
      "outputs": [
        {
          "output_type": "execute_result",
          "data": {
            "text/plain": [
              "'{\"25% Prefix\":{\"Rouge-1 F1\":0.2317983329,\"Rouge-1 Precision\":0.247638971,\"Rouge-1 Recall\":0.2232084185,\"Rouge-2 F1\":0.0350878859,\"Rouge-2 Precision\":0.0383408004,\"Rouge-2 Recall\":0.0334666774,\"Rouge-L F1\":0.1673786025,\"Rouge-L Precision\":0.2246060606,\"Rouge-L Recall\":0.1412281348},\"50% Prefix\":{\"Rouge-1 F1\":0.2269564697,\"Rouge-1 Precision\":0.2407838745,\"Rouge-1 Recall\":0.2206593907,\"Rouge-2 F1\":0.0342867757,\"Rouge-2 Precision\":0.0371453126,\"Rouge-2 Recall\":0.0330925464,\"Rouge-L F1\":0.1713626328,\"Rouge-L Precision\":0.213874855,\"Rouge-L Recall\":0.1497990155},\"75% Prefix\":{\"Rouge-1 F1\":0.2024185024,\"Rouge-1 Precision\":0.2205474993,\"Rouge-1 Recall\":0.2003145817,\"Rouge-2 F1\":0.0296784634,\"Rouge-2 Precision\":0.0343613007,\"Rouge-2 Recall\":0.029094211,\"Rouge-L F1\":0.1625095972,\"Rouge-L Precision\":0.1919737526,\"Rouge-L Recall\":0.1510908086}}'"
            ]
          },
          "metadata": {
            "tags": []
          },
          "execution_count": 20
        }
      ]
    }
  ]
}