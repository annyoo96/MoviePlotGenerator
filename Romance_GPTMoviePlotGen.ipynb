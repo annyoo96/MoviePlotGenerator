{
  "nbformat": 4,
  "nbformat_minor": 0,
  "metadata": {
    "colab": {
      "name": "Romance_GPTMoviePlotGen.ipynb",
      "provenance": [],
      "collapsed_sections": [],
      "toc_visible": true,
      "machine_shape": "hm"
    },
    "kernelspec": {
      "name": "python3",
      "display_name": "Python 3"
    },
    "accelerator": "GPU"
  },
  "cells": [
    {
      "cell_type": "markdown",
      "metadata": {
        "id": "2Xz2v5C95KYX",
        "colab_type": "text"
      },
      "source": [
        "# Generating Plots for Romance Movies"
      ]
    },
    {
      "cell_type": "code",
      "metadata": {
        "id": "o6qH9loEvFud",
        "colab_type": "code",
        "outputId": "b0b7a5bc-4793-4254-8b35-49ca1bc3bf93",
        "colab": {
          "base_uri": "https://localhost:8080/",
          "height": 272
        }
      },
      "source": [
        "%tensorflow_version 1.x\n",
        "!pip install -q gpt-2-simple\n",
        "!pip install nltk\n",
        "\n",
        "import gpt_2_simple as gpt2\n",
        "from datetime import datetime\n",
        "from google.colab import files\n",
        "import pandas as pd\n",
        "import time\n",
        "import nltk\n",
        "from nltk import tokenize\n",
        "nltk.download('punkt')"
      ],
      "execution_count": 0,
      "outputs": [
        {
          "output_type": "stream",
          "text": [
            "TensorFlow 1.x selected.\n",
            "  Building wheel for gpt-2-simple (setup.py) ... \u001b[?25l\u001b[?25hdone\n",
            "Requirement already satisfied: nltk in /usr/local/lib/python3.6/dist-packages (3.2.5)\n",
            "Requirement already satisfied: six in /usr/local/lib/python3.6/dist-packages (from nltk) (1.12.0)\n",
            "WARNING:tensorflow:\n",
            "The TensorFlow contrib module will not be included in TensorFlow 2.0.\n",
            "For more information, please see:\n",
            "  * https://github.com/tensorflow/community/blob/master/rfcs/20180907-contrib-sunset.md\n",
            "  * https://github.com/tensorflow/addons\n",
            "  * https://github.com/tensorflow/io (for I/O related ops)\n",
            "If you depend on functionality not listed there, please file an issue.\n",
            "\n",
            "[nltk_data] Downloading package punkt to /root/nltk_data...\n",
            "[nltk_data]   Unzipping tokenizers/punkt.zip.\n"
          ],
          "name": "stdout"
        },
        {
          "output_type": "execute_result",
          "data": {
            "text/plain": [
              "True"
            ]
          },
          "metadata": {
            "tags": []
          },
          "execution_count": 1
        }
      ]
    },
    {
      "cell_type": "code",
      "metadata": {
        "id": "8u-OilhFwhc9",
        "colab_type": "code",
        "outputId": "2b1acbfc-d4c9-4f6f-db49-388663687f32",
        "colab": {
          "base_uri": "https://localhost:8080/",
          "height": 122
        }
      },
      "source": [
        "gpt2.mount_gdrive()"
      ],
      "execution_count": 0,
      "outputs": [
        {
          "output_type": "stream",
          "text": [
            "Go to this URL in a browser: https://accounts.google.com/o/oauth2/auth?client_id=947318989803-6bn6qk8qdgf4n4g3pfee6491hc0brc4i.apps.googleusercontent.com&redirect_uri=urn%3aietf%3awg%3aoauth%3a2.0%3aoob&response_type=code&scope=email%20https%3a%2f%2fwww.googleapis.com%2fauth%2fdocs.test%20https%3a%2f%2fwww.googleapis.com%2fauth%2fdrive%20https%3a%2f%2fwww.googleapis.com%2fauth%2fdrive.photos.readonly%20https%3a%2f%2fwww.googleapis.com%2fauth%2fpeopleapi.readonly\n",
            "\n",
            "Enter your authorization code:\n",
            "··········\n",
            "Mounted at /content/drive\n"
          ],
          "name": "stdout"
        }
      ]
    },
    {
      "cell_type": "markdown",
      "metadata": {
        "id": "86hKPTMm6ybg",
        "colab_type": "text"
      },
      "source": [
        "### Utility Functions"
      ]
    },
    {
      "cell_type": "code",
      "metadata": {
        "id": "ULU8AYH_wpYg",
        "colab_type": "code",
        "colab": {}
      },
      "source": [
        "#model run name\n",
        "romance_model = 'run_medium_romancefinal_2k'"
      ],
      "execution_count": 0,
      "outputs": []
    },
    {
      "cell_type": "code",
      "metadata": {
        "id": "5GJvMEz-ywNt",
        "colab_type": "code",
        "colab": {}
      },
      "source": [
        "#single generation\n",
        "def generate_plot(prefix, model_run_name, size = 100):\n",
        "  output = gpt2.generate(sess,\n",
        "                run_name=model_run_name,\n",
        "                prefix = prefix,\n",
        "                length=size,\n",
        "                temperature=0.7,\n",
        "                top_p=0.9,\n",
        "                return_as_list=True\n",
        "                )\n",
        "  out = output[0].rpartition('.')[0] + \".\"\n",
        "  return out"
      ],
      "execution_count": 0,
      "outputs": []
    },
    {
      "cell_type": "code",
      "metadata": {
        "id": "EeFTDFvGvAF2",
        "colab_type": "code",
        "colab": {}
      },
      "source": [
        "gpt2.copy_checkpoint_from_gdrive(run_name=romance_model)"
      ],
      "execution_count": 0,
      "outputs": []
    },
    {
      "cell_type": "code",
      "metadata": {
        "id": "hIcs56SUzSNP",
        "colab_type": "code",
        "outputId": "28301310-ad6b-4cf3-ed45-802c1f45c6b5",
        "colab": {
          "base_uri": "https://localhost:8080/",
          "height": 51
        }
      },
      "source": [
        "sess = gpt2.start_tf_sess()\n",
        "gpt2.load_gpt2(sess, run_name=romance_model)"
      ],
      "execution_count": 0,
      "outputs": [
        {
          "output_type": "stream",
          "text": [
            "Loading checkpoint checkpoint/run_medium_romancefinal_2k/model-2000\n",
            "INFO:tensorflow:Restoring parameters from checkpoint/run_medium_romancefinal_2k/model-2000\n"
          ],
          "name": "stdout"
        }
      ]
    },
    {
      "cell_type": "markdown",
      "metadata": {
        "id": "CQDizIdku5aE",
        "colab_type": "text"
      },
      "source": [
        "### Sample Generation"
      ]
    },
    {
      "cell_type": "code",
      "metadata": {
        "id": "niORxCJpI45l",
        "colab_type": "code",
        "outputId": "2cae07fb-4186-46f9-b585-ed89a2d878ba",
        "colab": {
          "base_uri": "https://localhost:8080/",
          "height": 105
        }
      },
      "source": [
        "generate_plot(\"Bella is killed by her husband, one dark and stormy night.\", romance_model, 50)"
      ],
      "execution_count": 0,
      "outputs": [
        {
          "output_type": "stream",
          "text": [
            "WARNING:tensorflow:From /usr/local/lib/python3.6/dist-packages/gpt_2_simple/src/sample.py:32: where (from tensorflow.python.ops.array_ops) is deprecated and will be removed in a future version.\n",
            "Instructions for updating:\n",
            "Use tf.where in 2.0, which has the same broadcast rule as np.where\n"
          ],
          "name": "stdout"
        },
        {
          "output_type": "execute_result",
          "data": {
            "text/plain": [
              "'Bella is killed by her husband, one dark and stormy night. She is left with her two sons, who are now in love with each other, and a daughter, who is in love with the boy she left for.'"
            ]
          },
          "metadata": {
            "tags": []
          },
          "execution_count": 7
        }
      ]
    },
    {
      "cell_type": "code",
      "metadata": {
        "id": "8Ksz4SmWI8PW",
        "colab_type": "code",
        "outputId": "370b7498-156c-4329-df51-e4aab07e7111",
        "colab": {
          "base_uri": "https://localhost:8080/",
          "height": 54
        }
      },
      "source": [
        "generate_plot(\"Bella marries the man of her dreams last summer on a boat.\", romance_model, 50)"
      ],
      "execution_count": 0,
      "outputs": [
        {
          "output_type": "execute_result",
          "data": {
            "text/plain": [
              "'Bella marries the man of her dreams last summer on a boat. But the real boyfriend, a rich businessman, is in love with Bella. Bella is heartbroken and leaves town.'"
            ]
          },
          "metadata": {
            "tags": []
          },
          "execution_count": 8
        }
      ]
    },
    {
      "cell_type": "code",
      "metadata": {
        "id": "k1ntDuV6ywa2",
        "colab_type": "code",
        "outputId": "d6ee57e6-2b2e-43d0-c0c0-02cbc4937255",
        "colab": {
          "base_uri": "https://localhost:8080/",
          "height": 105
        }
      },
      "source": [
        "generate_plot(\"Bella is killed by her husband, one dark and stormy night.\", romance_model)"
      ],
      "execution_count": 0,
      "outputs": [
        {
          "output_type": "stream",
          "text": [
            "WARNING:tensorflow:From /usr/local/lib/python3.6/dist-packages/gpt_2_simple/src/sample.py:32: where (from tensorflow.python.ops.array_ops) is deprecated and will be removed in a future version.\n",
            "Instructions for updating:\n",
            "Use tf.where in 2.0, which has the same broadcast rule as np.where\n"
          ],
          "name": "stdout"
        },
        {
          "output_type": "execute_result",
          "data": {
            "text/plain": [
              "\"Bella is killed by her husband, one dark and stormy night. Angered by the death, Bella goes to her mother's house and is found dead. She is taken away by the police, but she is found to be pregnant. She is given a gun and she shoots herself in the head. Bella is brought to the hospital, and her death is recorded. Bella is then released and her ex-husband, a detective, is arrested for the murder.\""
            ]
          },
          "metadata": {
            "tags": []
          },
          "execution_count": 10
        }
      ]
    },
    {
      "cell_type": "code",
      "metadata": {
        "id": "qtFZo_TIiFxC",
        "colab_type": "code",
        "outputId": "30e57441-4260-4ed0-9d0f-0a0ea1d64153",
        "colab": {
          "base_uri": "https://localhost:8080/",
          "height": 54
        }
      },
      "source": [
        "generate_plot(\"Bella and Shelly embark on an adventure in New York City.\", romance_model)"
      ],
      "execution_count": 0,
      "outputs": [
        {
          "output_type": "execute_result",
          "data": {
            "text/plain": [
              "\"Bella and Shelly embark on an adventure in New York City. Bella meets her ex-boyfriend, Don, and they fall in love. Don's girlfriend, Cathy, is Don's best friend and a former lover who Bella has an affair with. Bella goes back to her father's house to tell him about Don's affair and she meets Don, who has been romantically involved with Bella for a while. Don is an artist, and Bella is a pianist and dancer.\""
            ]
          },
          "metadata": {
            "tags": []
          },
          "execution_count": 14
        }
      ]
    },
    {
      "cell_type": "code",
      "metadata": {
        "id": "gfuMeGns99fL",
        "colab_type": "code",
        "outputId": "a981d265-20ea-41c2-b715-c1b012d069b4",
        "colab": {
          "base_uri": "https://localhost:8080/",
          "height": 54
        }
      },
      "source": [
        "generate_plot(\"Bella marries the man of her dreams last summer on a boat.\", romance_model)"
      ],
      "execution_count": 0,
      "outputs": [
        {
          "output_type": "execute_result",
          "data": {
            "text/plain": [
              "'Bella marries the man of her dreams last summer on a boat. The love of her life is still waiting.\\n\"The film begins with the film\\'s opening song, \"\"Sweet Honey\"\" by Dolly Parton, playing over a close-up of the eyes. The film\\'s opening sequence is a celebration of the late Marge Simpson, the first African-American to be elected to the U.S. Congress.'"
            ]
          },
          "metadata": {
            "tags": []
          },
          "execution_count": 13
        }
      ]
    },
    {
      "cell_type": "markdown",
      "metadata": {
        "id": "UsJb-7YbeL8i",
        "colab_type": "text"
      },
      "source": [
        "### Test Generation"
      ]
    },
    {
      "cell_type": "code",
      "metadata": {
        "id": "5PLLYu5d39eF",
        "colab_type": "code",
        "outputId": "f53beb6e-76a8-4c14-e4a6-f3488a7e1644",
        "colab": {
          "base_uri": "https://localhost:8080/",
          "height": 204
        }
      },
      "source": [
        "#loading test file\n",
        "test_data = pd.read_csv(\"/content/drive/My Drive/w266 final project/Genre_romance_test.csv\")\n",
        "test_data = test_data.drop(['Unnamed: 0'], axis=1)\n",
        "test_data.head()"
      ],
      "execution_count": 0,
      "outputs": [
        {
          "output_type": "execute_result",
          "data": {
            "text/html": [
              "<div>\n",
              "<style scoped>\n",
              "    .dataframe tbody tr th:only-of-type {\n",
              "        vertical-align: middle;\n",
              "    }\n",
              "\n",
              "    .dataframe tbody tr th {\n",
              "        vertical-align: top;\n",
              "    }\n",
              "\n",
              "    .dataframe thead th {\n",
              "        text-align: right;\n",
              "    }\n",
              "</style>\n",
              "<table border=\"1\" class=\"dataframe\">\n",
              "  <thead>\n",
              "    <tr style=\"text-align: right;\">\n",
              "      <th></th>\n",
              "      <th>Title</th>\n",
              "      <th>Plot</th>\n",
              "      <th>Genre</th>\n",
              "    </tr>\n",
              "  </thead>\n",
              "  <tbody>\n",
              "    <tr>\n",
              "      <th>0</th>\n",
              "      <td>Cat And Mouse</td>\n",
              "      <td>Zhan Zhao  is a court officer who learns of a ...</td>\n",
              "      <td>['adventure', 'drama', 'movies', 'action', 'co...</td>\n",
              "    </tr>\n",
              "    <tr>\n",
              "      <th>1</th>\n",
              "      <td>Rechipo</td>\n",
              "      <td>Siva , a modern day Robinhood who steals money...</td>\n",
              "      <td>['romance']</td>\n",
              "    </tr>\n",
              "    <tr>\n",
              "      <th>2</th>\n",
              "      <td>My Chauffeur</td>\n",
              "      <td>Casey Meadows is a free-spirited young woman w...</td>\n",
              "      <td>['indie', 'romance', 'romantic', 'comedy']</td>\n",
              "    </tr>\n",
              "    <tr>\n",
              "      <th>3</th>\n",
              "      <td>Cannery Row</td>\n",
              "      <td>The story is about the skid row citizens of Mo...</td>\n",
              "      <td>['americana', 'adaptation', 'drama', 'comedy',...</td>\n",
              "    </tr>\n",
              "    <tr>\n",
              "      <th>4</th>\n",
              "      <td>Vigathakumaran</td>\n",
              "      <td>Chandrakumar, son of a rich man in Trivandrum ...</td>\n",
              "      <td>['romance', 'drama', 'action']</td>\n",
              "    </tr>\n",
              "  </tbody>\n",
              "</table>\n",
              "</div>"
            ],
            "text/plain": [
              "            Title  ...                                              Genre\n",
              "0   Cat And Mouse  ...  ['adventure', 'drama', 'movies', 'action', 'co...\n",
              "1         Rechipo  ...                                        ['romance']\n",
              "2    My Chauffeur  ...         ['indie', 'romance', 'romantic', 'comedy']\n",
              "3     Cannery Row  ...  ['americana', 'adaptation', 'drama', 'comedy',...\n",
              "4  Vigathakumaran  ...                     ['romance', 'drama', 'action']\n",
              "\n",
              "[5 rows x 3 columns]"
            ]
          },
          "metadata": {
            "tags": []
          },
          "execution_count": 6
        }
      ]
    },
    {
      "cell_type": "code",
      "metadata": {
        "id": "oBt2JUa16zg3",
        "colab_type": "code",
        "colab": {}
      },
      "source": [
        "#sentence extraction 1: len = total len / 2\n",
        "#sentence extraction 1: len = total len - 2\n",
        "def extract_beginning_sent(text):\n",
        "  sent_tokens = tokenize.sent_tokenize(text)\n",
        "  size = max(len(sent_tokens) - 2, 1)\n",
        "  beg_text = sent_tokens[:size]\n",
        "  beg = \" \".join(beg_text)\n",
        "  return beg\n",
        "\n",
        "def extract_beginning_word(text, threshold):\n",
        "  word_tokens = tokenize.word_tokenize(text)\n",
        "  size = max(int(len(word_tokens) * threshold), 1)\n",
        "  beg_text = word_tokens[:size]\n",
        "  beg = \" \".join(beg_text)\n",
        "  return beg, len(word_tokens) - size"
      ],
      "execution_count": 0,
      "outputs": []
    },
    {
      "cell_type": "code",
      "metadata": {
        "id": "mNWjJ8LxpRJ_",
        "colab_type": "code",
        "colab": {}
      },
      "source": [
        "#single generation\n",
        "def generate_plot(prefix, num_tokens):\n",
        "  output = gpt2.generate(sess,\n",
        "                run_name=romance_model,\n",
        "                prefix = prefix,\n",
        "                length=num_tokens,\n",
        "                temperature=0.7,\n",
        "                top_p=0.9,\n",
        "                return_as_list=True\n",
        "                )\n",
        "  out = output[0].rpartition('.')[0] + \".\"\n",
        "  return out"
      ],
      "execution_count": 0,
      "outputs": []
    },
    {
      "cell_type": "code",
      "metadata": {
        "id": "DJKRd-6pLbM7",
        "colab_type": "code",
        "outputId": "9a549150-e9a2-4b22-d312-6cd409a24207",
        "colab": {
          "base_uri": "https://localhost:8080/",
          "height": 34
        }
      },
      "source": [
        "len(test_data)"
      ],
      "execution_count": 0,
      "outputs": [
        {
          "output_type": "execute_result",
          "data": {
            "text/plain": [
              "470"
            ]
          },
          "metadata": {
            "tags": []
          },
          "execution_count": 9
        }
      ]
    },
    {
      "cell_type": "code",
      "metadata": {
        "id": "6kBAfay0J5az",
        "colab_type": "code",
        "colab": {}
      },
      "source": [
        "!mkdir generated_test_plots\n"
      ],
      "execution_count": 0,
      "outputs": []
    },
    {
      "cell_type": "code",
      "metadata": {
        "id": "-Ua9WoZgpaIE",
        "colab_type": "code",
        "colab": {}
      },
      "source": [
        "start_point = 442\n",
        "break_point = 470"
      ],
      "execution_count": 0,
      "outputs": []
    },
    {
      "cell_type": "code",
      "metadata": {
        "id": "xBcQ5133-LjB",
        "colab_type": "code",
        "outputId": "d609426e-256a-40ec-96be-b6c92ae86e02",
        "colab": {
          "base_uri": "https://localhost:8080/",
          "height": 139
        }
      },
      "source": [
        "start_time = time.time()\n",
        "subset = test_data.iloc[start_point: break_point]\n",
        "padding = 15\n",
        "\n",
        "for index, row in subset.iterrows():\n",
        "  if start_point == break_point:\n",
        "    break\n",
        "  if start_point % 10 == 0:\n",
        "    print(\"Currently at: \" + str(start_point))\n",
        "  plot = row[\"Plot\"]\n",
        "  t, remaining = extract_beginning_word(plot, 0.75)\n",
        "  generated_plot = generate_plot(t, remaining + padding)\n",
        "  file_name = \"Plot Summary: \" + row[\"Title\"] + \".txt\"\n",
        "  file = open(\"generated_test_plots/\" + file_name,\"w\")\n",
        "  file.write(generated_plot)\n",
        "  file.close() \n",
        "  start_point += 1\n",
        "print(\"My program took\", time.time() - start_time,  \"to run\")"
      ],
      "execution_count": 0,
      "outputs": [
        {
          "output_type": "stream",
          "text": [
            "WARNING:tensorflow:From /usr/local/lib/python3.6/dist-packages/gpt_2_simple/src/sample.py:32: where (from tensorflow.python.ops.array_ops) is deprecated and will be removed in a future version.\n",
            "Instructions for updating:\n",
            "Use tf.where in 2.0, which has the same broadcast rule as np.where\n",
            "Currently at: 450\n",
            "Currently at: 460\n",
            "My program took 487.2573220729828 to run\n"
          ],
          "name": "stdout"
        }
      ]
    },
    {
      "cell_type": "code",
      "metadata": {
        "id": "IVgC2bgAJgS2",
        "colab_type": "code",
        "outputId": "6445cf71-c445-4156-a11c-f73eea041a0f",
        "colab": {
          "base_uri": "https://localhost:8080/",
          "height": 34
        }
      },
      "source": [
        "file_name"
      ],
      "execution_count": 0,
      "outputs": [
        {
          "output_type": "execute_result",
          "data": {
            "text/plain": [
              "'Plot Summary: The Fairy Tale Killer.txt'"
            ]
          },
          "metadata": {
            "tags": []
          },
          "execution_count": 38
        }
      ]
    },
    {
      "cell_type": "code",
      "metadata": {
        "id": "ZtDNVMXqPseJ",
        "colab_type": "code",
        "outputId": "c14d233c-9d57-4adb-89d6-3167456f2339",
        "colab": {
          "base_uri": "https://localhost:8080/",
          "height": 34
        }
      },
      "source": [
        "# number of movie plots\n",
        "import os\n",
        "path, dirs, files_ = next(os.walk(\"/content/generated_test_plots\"))\n",
        "file_count = len(files_)\n",
        "print(file_count)"
      ],
      "execution_count": 0,
      "outputs": [
        {
          "output_type": "stream",
          "text": [
            "470\n"
          ],
          "name": "stdout"
        }
      ]
    },
    {
      "cell_type": "code",
      "metadata": {
        "id": "CGPs-nb5Kerw",
        "colab_type": "code",
        "outputId": "98b744da-e9d9-47c1-dd68-037772fb1e68",
        "colab": {
          "base_uri": "https://localhost:8080/",
          "height": 1000
        }
      },
      "source": [
        "!zip -r /content/test_plots.zip /content/generated_test_plots"
      ],
      "execution_count": 0,
      "outputs": [
        {
          "output_type": "stream",
          "text": [
            "updating: content/generated_test_plots/ (stored 0%)\n",
            "updating: content/generated_test_plots/Plot Summary: Their Own Desire.txt (deflated 42%)\n",
            "updating: content/generated_test_plots/Plot Summary: The Dancer Upstairs.txt (deflated 34%)\n",
            "updating: content/generated_test_plots/Plot Summary: Kal Kisne Dekha.txt (deflated 47%)\n",
            "updating: content/generated_test_plots/Plot Summary: Adajya.txt (deflated 34%)\n",
            "updating: content/generated_test_plots/Plot Summary: Happy Together.txt (deflated 47%)\n",
            "updating: content/generated_test_plots/Plot Summary: Young People Fucking.txt (deflated 49%)\n",
            "updating: content/generated_test_plots/Plot Summary: Saturday Night and Sunday Morning.txt (deflated 49%)\n",
            "updating: content/generated_test_plots/Plot Summary: Parenni Maya Jalaima.txt (deflated 53%)\n",
            "updating: content/generated_test_plots/Plot Summary: Pagala Premi.txt (deflated 50%)\n",
            "updating: content/generated_test_plots/Plot Summary: Rechipo.txt (deflated 44%)\n",
            "updating: content/generated_test_plots/Plot Summary: Corpse Bride.txt (deflated 58%)\n",
            "updating: content/generated_test_plots/Plot Summary: Sunday.txt (deflated 57%)\n",
            "updating: content/generated_test_plots/Plot Summary: Blood and Chocolate.txt (deflated 57%)\n",
            "updating: content/generated_test_plots/Plot Summary: Show Me Love.txt (deflated 56%)\n",
            "updating: content/generated_test_plots/Plot Summary: Zubeidaa.txt (deflated 54%)\n",
            "updating: content/generated_test_plots/Plot Summary: Jaii.txt (deflated 45%)\n",
            "updating: content/generated_test_plots/Plot Summary: Devathayai Kanden.txt (deflated 51%)\n",
            "updating: content/generated_test_plots/Plot Summary: Frog Song.txt (deflated 42%)\n",
            "updating: content/generated_test_plots/Plot Summary: Dying to Go Home.txt (deflated 38%)\n",
            "updating: content/generated_test_plots/Plot Summary: Their Eyes Were Watching God.txt (deflated 61%)\n",
            "updating: content/generated_test_plots/Plot Summary: The Bite.txt (deflated 40%)\n",
            "updating: content/generated_test_plots/Plot Summary: Todas las Azafatas van al Cielo.txt (deflated 47%)\n",
            "updating: content/generated_test_plots/Plot Summary: Heaven.txt (deflated 49%)\n",
            "updating: content/generated_test_plots/Plot Summary: The Karate Kid.txt (deflated 55%)\n",
            "updating: content/generated_test_plots/Plot Summary: Justine.txt (deflated 36%)\n",
            "updating: content/generated_test_plots/Plot Summary: Sorry, Thanks.txt (deflated 40%)\n",
            "updating: content/generated_test_plots/Plot Summary: Vigathakumaran.txt (deflated 52%)\n",
            "updating: content/generated_test_plots/Plot Summary: Du Pappa.txt (deflated 46%)\n",
            "updating: content/generated_test_plots/Plot Summary: Love Jones.txt (deflated 46%)\n",
            "updating: content/generated_test_plots/Plot Summary: The OH in Ohio.txt (deflated 38%)\n",
            "updating: content/generated_test_plots/Plot Summary: My Sassy Girl.txt (deflated 55%)\n",
            "updating: content/generated_test_plots/Plot Summary: Keep Cool.txt (deflated 56%)\n",
            "updating: content/generated_test_plots/Plot Summary: Critic's Choice.txt (deflated 47%)\n",
            "updating: content/generated_test_plots/Plot Summary: La Reine Margot.txt (deflated 47%)\n",
            "updating: content/generated_test_plots/Plot Summary: Prom Wars.txt (deflated 39%)\n",
            "updating: content/generated_test_plots/Plot Summary: Sultan.txt (deflated 44%)\n",
            "updating: content/generated_test_plots/Plot Summary: Issues 101.txt (deflated 29%)\n",
            "updating: content/generated_test_plots/Plot Summary: Asylum.txt (deflated 54%)\n",
            "updating: content/generated_test_plots/Plot Summary: The Time Traveler's Wife.txt (deflated 54%)\n",
            "updating: content/generated_test_plots/Plot Summary: The Heavenly Kid.txt (deflated 53%)\n",
            "updating: content/generated_test_plots/Plot Summary: Fjorton suger.txt (deflated 51%)\n",
            "updating: content/generated_test_plots/Plot Summary: Earthly Love.txt (deflated 23%)\n",
            "updating: content/generated_test_plots/Plot Summary: Love for Rent.txt (deflated 26%)\n",
            "updating: content/generated_test_plots/Plot Summary: Woman of the Year.txt (deflated 53%)\n",
            "updating: content/generated_test_plots/Plot Summary: Picture Bride.txt (deflated 56%)\n",
            "updating: content/generated_test_plots/Plot Summary: Her Alibi.txt (deflated 46%)\n",
            "updating: content/generated_test_plots/Plot Summary: Green Light.txt (deflated 50%)\n",
            "updating: content/generated_test_plots/Plot Summary: Wedding Trough.txt (deflated 50%)\n",
            "updating: content/generated_test_plots/Plot Summary: Il Mare.txt (deflated 57%)\n",
            "updating: content/generated_test_plots/Plot Summary: Fit for a King.txt (deflated 44%)\n",
            "updating: content/generated_test_plots/Plot Summary: High Season.txt (deflated 46%)\n",
            "updating: content/generated_test_plots/Plot Summary: Slaves to the Underground.txt (deflated 36%)\n",
            "updating: content/generated_test_plots/Plot Summary: Foreign Body.txt (deflated 34%)\n",
            "updating: content/generated_test_plots/Plot Summary: Jurm.txt (deflated 47%)\n",
            "updating: content/generated_test_plots/Plot Summary: The Admiral Was a Lady.txt (deflated 50%)\n",
            "updating: content/generated_test_plots/Plot Summary: Om Shanti Om.txt (deflated 55%)\n",
            "updating: content/generated_test_plots/Plot Summary: Shatranj.txt (deflated 16%)\n",
            "updating: content/generated_test_plots/Plot Summary: A+ Pollux.txt (deflated 38%)\n",
            "updating: content/generated_test_plots/Plot Summary: Loving.txt (deflated 47%)\n",
            "updating: content/generated_test_plots/Plot Summary: Charlotte Sometimes.txt (deflated 40%)\n",
            "updating: content/generated_test_plots/Plot Summary: Masti: Sanam Teri Kasam.txt (deflated 49%)\n",
            "updating: content/generated_test_plots/Plot Summary: My Love, My Bride.txt (deflated 32%)\n",
            "updating: content/generated_test_plots/Plot Summary: Pianist.txt (deflated 42%)\n",
            "updating: content/generated_test_plots/Plot Summary: Love and Death on Long Island.txt (deflated 52%)\n",
            "updating: content/generated_test_plots/Plot Summary: Where the Boys Are.txt (deflated 47%)\n",
            "updating: content/generated_test_plots/Plot Summary: A New Life.txt (deflated 28%)\n",
            "updating: content/generated_test_plots/Plot Summary: New Crouching Tiger, Hidden Dragon.txt (deflated 39%)\n",
            "updating: content/generated_test_plots/Plot Summary: Beware the Gonzo.txt (deflated 38%)\n",
            "updating: content/generated_test_plots/Plot Summary: Aashiq.txt (deflated 60%)\n",
            "updating: content/generated_test_plots/Plot Summary: Cat And Mouse.txt (deflated 32%)\n",
            "updating: content/generated_test_plots/Plot Summary: Pride & Prejudice.txt (deflated 56%)\n",
            "updating: content/generated_test_plots/Plot Summary: Marrying the Mafia II.txt (deflated 48%)\n",
            "updating: content/generated_test_plots/Plot Summary: Mr. Imperium.txt (deflated 48%)\n",
            "updating: content/generated_test_plots/Plot Summary: Requiem of Snow.txt (deflated 27%)\n",
            "updating: content/generated_test_plots/Plot Summary: Backstreet Dreams.txt (deflated 38%)\n",
            "updating: content/generated_test_plots/Plot Summary: For Richer or Poorer.txt (deflated 55%)\n",
            "updating: content/generated_test_plots/Plot Summary: Romeo & Juliet: Sealed with a Kiss.txt (deflated 57%)\n",
            "updating: content/generated_test_plots/Plot Summary: Beyond the Clouds.txt (deflated 56%)\n",
            "updating: content/generated_test_plots/Plot Summary: The Danish Poet.txt (deflated 50%)\n",
            "updating: content/generated_test_plots/Plot Summary: Mr. Wise Guy.txt (deflated 37%)\n",
            "updating: content/generated_test_plots/Plot Summary: Meenaxi: A Tale of Three Cities.txt (deflated 45%)\n",
            "updating: content/generated_test_plots/Plot Summary: Maanasa Sarovara.txt (deflated 42%)\n",
            "updating: content/generated_test_plots/Plot Summary: Octavia.txt (deflated 46%)\n",
            "updating: content/generated_test_plots/Plot Summary: No Strings Attached.txt (deflated 55%)\n",
            "updating: content/generated_test_plots/Plot Summary: Violent Summer.txt (deflated 53%)\n",
            "updating: content/generated_test_plots/Plot Summary: An Education.txt (deflated 47%)\n",
            "updating: content/generated_test_plots/Plot Summary: Dream a Little Dream.txt (deflated 54%)\n",
            "updating: content/generated_test_plots/Plot Summary: Mississippi Mermaid.txt (deflated 54%)\n",
            "updating: content/generated_test_plots/Plot Summary: Ådalen 31.txt (deflated 53%)\n",
            "updating: content/generated_test_plots/Plot Summary: Current.txt (deflated 48%)\n",
            "updating: content/generated_test_plots/Plot Summary: Séraphin: un homme et son péché.txt (deflated 47%)\n",
            "updating: content/generated_test_plots/Plot Summary: Pipe Dream.txt (deflated 33%)\n",
            "updating: content/generated_test_plots/Plot Summary: Cannery Row.txt (deflated 46%)\n",
            "updating: content/generated_test_plots/Plot Summary: The Unbelievable Truth.txt (deflated 43%)\n",
            "updating: content/generated_test_plots/Plot Summary: Butterfly Crush.txt (deflated 50%)\n",
            "updating: content/generated_test_plots/Plot Summary: Life Is Beautiful.txt (deflated 52%)\n",
            "updating: content/generated_test_plots/Plot Summary: Doli Saja Ke Rakhna.txt (deflated 44%)\n",
            "updating: content/generated_test_plots/Plot Summary: Ghazal Al Banat.txt (deflated 40%)\n",
            "updating: content/generated_test_plots/Plot Summary: Aquamarine.txt (deflated 54%)\n",
            "updating: content/generated_test_plots/Plot Summary: Girl.txt (deflated 38%)\n",
            "updating: content/generated_test_plots/Plot Summary: My Chauffeur.txt (deflated 55%)\n",
            "updating: content/generated_test_plots/Plot Summary: Miranda.txt (deflated 47%)\n",
            "updating: content/generated_test_plots/Plot Summary: A Canção da Primavera.txt (deflated 32%)\n",
            "updating: content/generated_test_plots/Plot Summary: Grande École.txt (deflated 45%)\n",
            "updating: content/generated_test_plots/Plot Summary: Borstal Boy.txt (deflated 39%)\n",
            "updating: content/generated_test_plots/Plot Summary: Teri Meri Kahaani.txt (deflated 21%)\n",
            "updating: content/generated_test_plots/Plot Summary: Lip Service.txt (deflated 24%)\n",
            "updating: content/generated_test_plots/Plot Summary: Mr. & Mrs. Smith.txt (deflated 55%)\n",
            "updating: content/generated_test_plots/Plot Summary: Echo Park.txt (deflated 45%)\n",
            "updating: content/generated_test_plots/Plot Summary: She's So Lovely.txt (deflated 43%)\n",
            "updating: content/generated_test_plots/Plot Summary: Hum Hai Raahi Car Ke.txt (deflated 41%)\n",
            "updating: content/generated_test_plots/Plot Summary: Au Revoir, UFO.txt (deflated 34%)\n",
            "updating: content/generated_test_plots/Plot Summary: School Days.txt (deflated 40%)\n",
            "updating: content/generated_test_plots/Plot Summary: Bram Stoker's Dracula.txt (deflated 57%)\n",
            "updating: content/generated_test_plots/Plot Summary: The Mating of Millie.txt (deflated 58%)\n",
            "updating: content/generated_test_plots/Plot Summary: Where Were You When the Lights Went Out?.txt (deflated 46%)\n",
            "updating: content/generated_test_plots/Plot Summary: Mallu Singh.txt (deflated 55%)\n",
            "updating: content/generated_test_plots/Plot Summary: Love's Enduring Promise.txt (deflated 38%)\n",
            "updating: content/generated_test_plots/Plot Summary: Way Down East.txt (deflated 49%)\n",
            "updating: content/generated_test_plots/Plot Summary: Just Between Friends.txt (deflated 54%)\n",
            "updating: content/generated_test_plots/Plot Summary: Shadowlands.txt (deflated 44%)\n",
            "updating: content/generated_test_plots/Plot Summary: Americanese.txt (deflated 47%)\n",
            "updating: content/generated_test_plots/Plot Summary: Dancing Queen.txt (deflated 44%)\n",
            "updating: content/generated_test_plots/Plot Summary: Kandukondain Kandukondain.txt (deflated 52%)\n",
            "updating: content/generated_test_plots/Plot Summary: The Act of the Heart.txt (deflated 44%)\n",
            "updating: content/generated_test_plots/Plot Summary: Sound of Noise.txt (deflated 53%)\n",
            "updating: content/generated_test_plots/Plot Summary: The Bishop's Wife.txt (deflated 50%)\n",
            "updating: content/generated_test_plots/Plot Summary: Khokababu.txt (deflated 50%)\n",
            "updating: content/generated_test_plots/Plot Summary: Miss Tatlock's Millions.txt (deflated 49%)\n",
            "updating: content/generated_test_plots/Plot Summary: Small Town Girl.txt (deflated 50%)\n",
            "updating: content/generated_test_plots/Plot Summary: Student of the Year.txt (deflated 51%)\n",
            "updating: content/generated_test_plots/Plot Summary: Four Christmases.txt (deflated 54%)\n",
            "updating: content/generated_test_plots/Plot Summary: Ishkq in Paris.txt (deflated 39%)\n",
            "updating: content/generated_test_plots/Plot Summary: I Capture the Castle.txt (deflated 44%)\n",
            "updating: content/generated_test_plots/Plot Summary: Married to the Mob.txt (deflated 45%)\n",
            "updating: content/generated_test_plots/Plot Summary: Feet First.txt (deflated 44%)\n",
            "updating: content/generated_test_plots/Plot Summary: The Palm Beach Story.txt (deflated 56%)\n",
            "updating: content/generated_test_plots/Plot Summary: Lily in Love.txt (deflated 40%)\n",
            "updating: content/generated_test_plots/Plot Summary: FAQs.txt (deflated 63%)\n",
            "updating: content/generated_test_plots/Plot Summary: The Beginning or the End.txt (deflated 32%)\n",
            "updating: content/generated_test_plots/Plot Summary: 35 and Ticking.txt (deflated 55%)\n",
            "updating: content/generated_test_plots/Plot Summary: Oosaravelli.txt (deflated 50%)\n",
            "updating: content/generated_test_plots/Plot Summary: The Key.txt (deflated 52%)\n",
            "updating: content/generated_test_plots/Plot Summary: That is Pandu.txt (deflated 48%)\n",
            "updating: content/generated_test_plots/Plot Summary: Untold Scandal.txt (deflated 37%)\n",
            "updating: content/generated_test_plots/Plot Summary: West Beirut.txt (deflated 42%)\n",
            "updating: content/generated_test_plots/Plot Summary: Parrish.txt (deflated 37%)\n",
            "updating: content/generated_test_plots/Plot Summary: Calendar.txt (deflated 38%)\n",
            "updating: content/generated_test_plots/Plot Summary: Never Let Me Go.txt (deflated 55%)\n",
            "updating: content/generated_test_plots/Plot Summary: Marjorie Morningstar.txt (deflated 57%)\n",
            "updating: content/generated_test_plots/Plot Summary: Hrabina Cosel.txt (deflated 50%)\n",
            "updating: content/generated_test_plots/Plot Summary: Sillunu Oru Kaadhal.txt (deflated 55%)\n",
            "updating: content/generated_test_plots/Plot Summary: Tere Ghar ke Saamne.txt (deflated 56%)\n",
            "updating: content/generated_test_plots/Plot Summary: The Prime Gig.txt (deflated 38%)\n",
            "updating: content/generated_test_plots/Plot Summary: Touch of Pink.txt (deflated 40%)\n",
            "updating: content/generated_test_plots/Plot Summary: Tareeq al-Amal.txt (deflated 48%)\n",
            "updating: content/generated_test_plots/Plot Summary: Elizabeth: The Golden Age.txt (deflated 56%)\n",
            "updating: content/generated_test_plots/Plot Summary: Last Night.txt (deflated 57%)\n",
            "updating: content/generated_test_plots/Plot Summary: Happy Birthday.txt (deflated 42%)\n",
            "updating: content/generated_test_plots/Plot Summary: Saratoga.txt (deflated 56%)\n",
            "updating: content/generated_test_plots/Plot Summary: Bhalo Theko.txt (deflated 45%)\n",
            "updating: content/generated_test_plots/Plot Summary: Loves of a Blonde.txt (deflated 45%)\n",
            "updating: content/generated_test_plots/Plot Summary: Minnale.txt (deflated 57%)\n",
            "updating: content/generated_test_plots/Plot Summary: Yeh Dil Aap Ka Huwa.txt (deflated 34%)\n",
            "updating: content/generated_test_plots/Plot Summary: The Tenant of Wildfell Hall.txt (deflated 38%)\n",
            "updating: content/generated_test_plots/Plot Summary: The Boys From County Clare.txt (deflated 44%)\n",
            "updating: content/generated_test_plots/Plot Summary: Derivative.txt (deflated 27%)\n",
            "updating: content/generated_test_plots/Plot Summary: Assassination Tango.txt (deflated 47%)\n",
            "updating: content/generated_test_plots/Plot Summary: Seducing Mr. Perfect.txt (deflated 51%)\n",
            "updating: content/generated_test_plots/Plot Summary: Double Harness.txt (deflated 53%)\n",
            "updating: content/generated_test_plots/Plot Summary: American Yearbook.txt (deflated 43%)\n",
            "updating: content/generated_test_plots/Plot Summary: The Wife.txt (deflated 38%)\n",
            "updating: content/generated_test_plots/Plot Summary: Hemlock society.txt (deflated 52%)\n",
            "updating: content/generated_test_plots/Plot Summary: Closer.txt (deflated 57%)\n",
            "updating: content/generated_test_plots/Plot Summary: Over Her Dead Body.txt (deflated 55%)\n",
            "updating: content/generated_test_plots/Plot Summary: Wagon Train.txt (deflated 43%)\n",
            "updating: content/generated_test_plots/Plot Summary: Eating Out.txt (deflated 56%)\n",
            "updating: content/generated_test_plots/Plot Summary: My Life In Ruins.txt (deflated 40%)\n",
            "updating: content/generated_test_plots/Plot Summary: Kushikushigaa.txt (deflated 52%)\n",
            "updating: content/generated_test_plots/Plot Summary: The Lucky Guy.txt (deflated 39%)\n",
            "updating: content/generated_test_plots/Plot Summary: Beneath the 12-Mile Reef.txt (deflated 40%)\n",
            "updating: content/generated_test_plots/Plot Summary: Torrid Zone.txt (deflated 44%)\n",
            "updating: content/generated_test_plots/Plot Summary: Beneath the Blue.txt (deflated 39%)\n",
            "updating: content/generated_test_plots/Plot Summary: The Gentle Sex.txt (deflated 26%)\n",
            "updating: content/generated_test_plots/Plot Summary: Black Beauty.txt (deflated 25%)\n",
            "updating: content/generated_test_plots/Plot Summary: Le Miroir à deux faces.txt (deflated 45%)\n",
            "updating: content/generated_test_plots/Plot Summary: Bed of Roses.txt (deflated 48%)\n",
            "updating: content/generated_test_plots/Plot Summary: Holidays.txt (deflated 40%)\n",
            "updating: content/generated_test_plots/Plot Summary: I Started Liking You.txt (deflated 51%)\n",
            "updating: content/generated_test_plots/Plot Summary: Nirom.txt (deflated 57%)\n",
            "updating: content/generated_test_plots/Plot Summary: The Man Who Loved Women.txt (deflated 51%)\n",
            "updating: content/generated_test_plots/Plot Summary: Molly.txt (deflated 49%)\n",
            "updating: content/generated_test_plots/Plot Summary: Penny Princess.txt (deflated 50%)\n",
            "updating: content/generated_test_plots/Plot Summary: Martian Through Georgia.txt (deflated 58%)\n",
            "updating: content/generated_test_plots/Plot Summary: The Devil Makes Three.txt (deflated 46%)\n",
            "updating: content/generated_test_plots/Plot Summary: The Drug Knot.txt (deflated 39%)\n",
            "updating: content/generated_test_plots/Plot Summary: The Golden Coach.txt (deflated 45%)\n",
            "updating: content/generated_test_plots/Plot Summary: Eito Prem.txt (stored 0%)\n",
            "updating: content/generated_test_plots/Plot Summary: Falling for a Dancer.txt (deflated 29%)\n",
            "updating: content/generated_test_plots/Plot Summary: Crazy, Stupid, Love..txt (deflated 58%)\n",
            "updating: content/generated_test_plots/Plot Summary: Broadway Melody of 1938.txt (deflated 39%)\n",
            "updating: content/generated_test_plots/Plot Summary: Bicentennial Man.txt (deflated 54%)\n",
            "updating: content/generated_test_plots/Plot Summary: Father Goose.txt (deflated 51%)\n",
            "updating: content/generated_test_plots/Plot Summary: Victim of Love.txt (deflated 59%)\n",
            "updating: content/generated_test_plots/Plot Summary: Otto – Der Film.txt (deflated 52%)\n",
            "updating: content/generated_test_plots/Plot Summary: Cruel Intentions.txt (deflated 59%)\n",
            "updating: content/generated_test_plots/Plot Summary: The Man Who Cried.txt (deflated 58%)\n",
            "updating: content/generated_test_plots/Plot Summary: Welcome to L.A..txt (deflated 50%)\n",
            "updating: content/generated_test_plots/Plot Summary: La hora de los valientes.txt (deflated 35%)\n",
            "updating: content/generated_test_plots/Plot Summary: December Bride.txt (deflated 46%)\n",
            "updating: content/generated_test_plots/Plot Summary: Deiva Vaakku.txt (deflated 38%)\n",
            "updating: content/generated_test_plots/Plot Summary: Pati Patni Aur Woh.txt (deflated 57%)\n",
            "updating: content/generated_test_plots/Plot Summary: The Garage.txt (deflated 35%)\n",
            "updating: content/generated_test_plots/Plot Summary: Perfume: The Story of a Murderer.txt (deflated 56%)\n",
            "updating: content/generated_test_plots/Plot Summary: Flashdance.txt (deflated 54%)\n",
            "updating: content/generated_test_plots/Plot Summary: Japon İşi.txt (deflated 31%)\n",
            "updating: content/generated_test_plots/Plot Summary: Three Strangers in Rome.txt (deflated 40%)\n",
            "updating: content/generated_test_plots/Plot Summary: Sluzhebnyi Roman.txt (deflated 53%)\n",
            "updating: content/generated_test_plots/Plot Summary: 1984.txt (deflated 52%)\n",
            "updating: content/generated_test_plots/Plot Summary: Two Lovers.txt (deflated 57%)\n",
            "updating: content/generated_test_plots/Plot Summary: No Looking Back.txt (deflated 43%)\n",
            "updating: content/generated_test_plots/Plot Summary: Zack and Miri Make a Porno.txt (deflated 58%)\n",
            "updating: content/generated_test_plots/Plot Summary: No More Orchids.txt (deflated 51%)\n",
            "updating: content/generated_test_plots/Plot Summary: Certified Copy.txt (deflated 53%)\n",
            "updating: content/generated_test_plots/Plot Summary: Roughly Speaking.txt (deflated 51%)\n",
            "updating: content/generated_test_plots/Plot Summary: The Jeweller's Shop.txt (deflated 43%)\n",
            "updating: content/generated_test_plots/Plot Summary: A Patch of Blue.txt (deflated 58%)\n",
            "updating: content/generated_test_plots/Plot Summary: The Puffy Chair.txt (deflated 42%)\n",
            "updating: content/generated_test_plots/Plot Summary: Carousel.txt (deflated 53%)\n",
            "updating: content/generated_test_plots/Plot Summary: The King's Whore.txt (deflated 35%)\n",
            "updating: content/generated_test_plots/Plot Summary: Misbehaving Husbands.txt (deflated 47%)\n",
            "updating: content/generated_test_plots/Plot Summary: Oliver's Story.txt (deflated 41%)\n",
            "updating: content/generated_test_plots/Plot Summary: Always and Forever.txt (deflated 42%)\n",
            "updating: content/generated_test_plots/Plot Summary: Little Manhattan.txt (deflated 53%)\n",
            "updating: content/generated_test_plots/Plot Summary: Mussanjemaatu.txt (deflated 47%)\n",
            "updating: content/generated_test_plots/Plot Summary: Meet the Fockers.txt (deflated 56%)\n",
            "updating: content/generated_test_plots/Plot Summary: Kashmakash.txt (deflated 52%)\n",
            "updating: content/generated_test_plots/Plot Summary: A Woman of Paris.txt (deflated 59%)\n",
            "updating: content/generated_test_plots/Plot Summary: Mona Lisa.txt (deflated 43%)\n",
            "updating: content/generated_test_plots/Plot Summary: Refugee.txt (deflated 52%)\n",
            "updating: content/generated_test_plots/Plot Summary: Harrison's Flowers.txt (deflated 41%)\n",
            "updating: content/generated_test_plots/Plot Summary: Gabrielle.txt (deflated 44%)\n",
            "updating: content/generated_test_plots/Plot Summary: Nakshathrakkannulla Rajakumaran Avanundoru Rajakumari.txt (deflated 47%)\n",
            "updating: content/generated_test_plots/Plot Summary: Bigger Than the Sky.txt (deflated 43%)\n",
            "updating: content/generated_test_plots/Plot Summary: You'll Never Get Rich.txt (deflated 54%)\n",
            "updating: content/generated_test_plots/Plot Summary: Cairo Time.txt (deflated 35%)\n",
            "updating: content/generated_test_plots/Plot Summary: I Will Always Love You.txt (deflated 47%)\n",
            "updating: content/generated_test_plots/Plot Summary: Cherry Blossoms.txt (deflated 52%)\n",
            "updating: content/generated_test_plots/Plot Summary: Thunder Birds.txt (deflated 55%)\n",
            "updating: content/generated_test_plots/Plot Summary: The Rains of Ranchipur.txt (deflated 52%)\n",
            "updating: content/generated_test_plots/Plot Summary: Savi Savi Nenapu.txt (deflated 42%)\n",
            "updating: content/generated_test_plots/Plot Summary: Dark Journey.txt (deflated 10%)\n",
            "updating: content/generated_test_plots/Plot Summary: The Gorgeous Hussy.txt (deflated 59%)\n",
            "updating: content/generated_test_plots/Plot Summary: Preah Peay Phat.txt (deflated 41%)\n",
            "updating: content/generated_test_plots/Plot Summary: Koodal Nagar.txt (deflated 47%)\n",
            "updating: content/generated_test_plots/Plot Summary: The White Dragon.txt (deflated 54%)\n",
            "updating: content/generated_test_plots/Plot Summary: The Bengali Night.txt (deflated 33%)\n",
            "updating: content/generated_test_plots/Plot Summary: The Beautiful Blonde from Bashful Bend.txt (deflated 42%)\n",
            "updating: content/generated_test_plots/Plot Summary: Ganeshana Maduve.txt (deflated 54%)\n",
            "updating: content/generated_test_plots/Plot Summary: Star Trek: Insurrection.txt (deflated 56%)\n",
            "updating: content/generated_test_plots/Plot Summary: The Bridal Chair.txt (deflated 31%)\n",
            "updating: content/generated_test_plots/Plot Summary: Second Chorus.txt (deflated 49%)\n",
            "updating: content/generated_test_plots/Plot Summary: On Moonlight Bay.txt (deflated 43%)\n",
            "updating: content/generated_test_plots/Plot Summary: Pandora's Box.txt (deflated 54%)\n",
            "updating: content/generated_test_plots/Plot Summary: The Intern.txt (deflated 43%)\n",
            "updating: content/generated_test_plots/Plot Summary: Magdalena, the Unholy Saint.txt (deflated 45%)\n",
            "updating: content/generated_test_plots/Plot Summary: Gokulamlo Seetha.txt (deflated 53%)\n",
            "updating: content/generated_test_plots/Plot Summary: Autumn in New York.txt (deflated 56%)\n",
            "updating: content/generated_test_plots/Plot Summary: See Jane Date.txt (deflated 45%)\n",
            "updating: content/generated_test_plots/Plot Summary: The Company.txt (deflated 44%)\n",
            "updating: content/generated_test_plots/Plot Summary: Kaiyethum Doorath.txt (deflated 54%)\n",
            "updating: content/generated_test_plots/Plot Summary: La Fille de l'eau.txt (deflated 50%)\n",
            "updating: content/generated_test_plots/Plot Summary: Cake: A Wedding Story.txt (deflated 38%)\n",
            "updating: content/generated_test_plots/Plot Summary: Long Life, Happiness & Prosperity.txt (deflated 42%)\n",
            "updating: content/generated_test_plots/Plot Summary: Rabbit Without Ears.txt (deflated 48%)\n",
            "updating: content/generated_test_plots/Plot Summary: Anything Can Happen.txt (deflated 55%)\n",
            "updating: content/generated_test_plots/Plot Summary: Dedication.txt (deflated 43%)\n",
            "updating: content/generated_test_plots/Plot Summary: Balls of Fury.txt (deflated 55%)\n",
            "updating: content/generated_test_plots/Plot Summary: One Fine Day.txt (deflated 53%)\n",
            "updating: content/generated_test_plots/Plot Summary: Rain.txt (deflated 50%)\n",
            "updating: content/generated_test_plots/Plot Summary: Bathing Beauty.txt (deflated 54%)\n",
            "updating: content/generated_test_plots/Plot Summary: A Guide for the Married Man.txt (deflated 46%)\n",
            "updating: content/generated_test_plots/Plot Summary: The Cutting Edge 3: Chasing the Dream.txt (deflated 50%)\n",
            "updating: content/generated_test_plots/Plot Summary: The Thorn Birds: The Missing Years.txt (deflated 52%)\n",
            "updating: content/generated_test_plots/Plot Summary: Manuale d'amore 3.txt (deflated 35%)\n",
            "updating: content/generated_test_plots/Plot Summary: Touch And Go.txt (deflated 40%)\n",
            "updating: content/generated_test_plots/Plot Summary: American Pie.txt (deflated 54%)\n",
            "updating: content/generated_test_plots/Plot Summary: Porky's Romance.txt (deflated 57%)\n",
            "updating: content/generated_test_plots/Plot Summary: Thief of Damascus.txt (deflated 40%)\n",
            "updating: content/generated_test_plots/Plot Summary: The World of Geisha.txt (deflated 30%)\n",
            "updating: content/generated_test_plots/Plot Summary: The Next Big Thing.txt (deflated 37%)\n",
            "updating: content/generated_test_plots/Plot Summary: Mom and Dad Save The World.txt (deflated 54%)\n",
            "updating: content/generated_test_plots/Plot Summary: Mast.txt (deflated 56%)\n",
            "updating: content/generated_test_plots/Plot Summary: Cloistered Nun: Runa’s Confession.txt (deflated 44%)\n",
            "updating: content/generated_test_plots/Plot Summary: The Taste of Others.txt (deflated 53%)\n",
            "updating: content/generated_test_plots/Plot Summary: Vincere.txt (deflated 47%)\n",
            "updating: content/generated_test_plots/Plot Summary: Gia.txt (deflated 46%)\n",
            "updating: content/generated_test_plots/Plot Summary: Anthony Zimmer.txt (deflated 54%)\n",
            "updating: content/generated_test_plots/Plot Summary: La bête.txt (deflated 57%)\n",
            "updating: content/generated_test_plots/Plot Summary: I Want You.txt (deflated 21%)\n",
            "updating: content/generated_test_plots/Plot Summary: Anchors Aweigh.txt (deflated 48%)\n",
            "updating: content/generated_test_plots/Plot Summary: Man and Maid.txt (deflated 15%)\n",
            "updating: content/generated_test_plots/Plot Summary: Sanam.txt (deflated 48%)\n",
            "updating: content/generated_test_plots/Plot Summary: Ten North Frederick.txt (deflated 48%)\n",
            "updating: content/generated_test_plots/Plot Summary: Mississippi Masala.txt (deflated 42%)\n",
            "updating: content/generated_test_plots/Plot Summary: No Regret.txt (deflated 52%)\n",
            "updating: content/generated_test_plots/Plot Summary: Women in Love.txt (deflated 55%)\n",
            "updating: content/generated_test_plots/Plot Summary: A Man, a Woman, and a Bank.txt (deflated 38%)\n",
            "updating: content/generated_test_plots/Plot Summary: Paju.txt (deflated 48%)\n",
            "updating: content/generated_test_plots/Plot Summary: D.E.B.S..txt (deflated 54%)\n",
            "updating: content/generated_test_plots/Plot Summary: Flypaper.txt (deflated 40%)\n",
            "updating: content/generated_test_plots/Plot Summary: Play the Game.txt (deflated 45%)\n",
            "updating: content/generated_test_plots/Plot Summary: L'important c'est d'aimer.txt (deflated 39%)\n",
            "updating: content/generated_test_plots/Plot Summary: Naani.txt (deflated 45%)\n",
            "updating: content/generated_test_plots/Plot Summary: The Little Moscow.txt (deflated 39%)\n",
            "updating: content/generated_test_plots/Plot Summary: Indochine.txt (deflated 58%)\n",
            "updating: content/generated_test_plots/Plot Summary: Yesterday, Today, and Tomorrow.txt (deflated 48%)\n",
            "updating: content/generated_test_plots/Plot Summary: This Is My Father.txt (deflated 46%)\n",
            "updating: content/generated_test_plots/Plot Summary: Chhaila Babu.txt (deflated 52%)\n",
            "updating: content/generated_test_plots/Plot Summary: Ghanchakkar.txt (deflated 43%)\n",
            "updating: content/generated_test_plots/Plot Summary: Little Ashes.txt (deflated 47%)\n",
            "updating: content/generated_test_plots/Plot Summary: Tiptoes.txt (deflated 46%)\n",
            "updating: content/generated_test_plots/Plot Summary: U-Carmen e-Khayelitsha.txt (deflated 56%)\n",
            "updating: content/generated_test_plots/Plot Summary: Elaan.txt (deflated 56%)\n",
            "updating: content/generated_test_plots/Plot Summary: Antha Ezhu Naatkal.txt (deflated 54%)\n",
            "updating: content/generated_test_plots/Plot Summary: My Son the Fanatic.txt (deflated 44%)\n",
            "updating: content/generated_test_plots/Plot Summary: Sahara.txt (deflated 43%)\n",
            "updating: content/generated_test_plots/Plot Summary: The Counterfeit Coin.txt (deflated 46%)\n",
            "updating: content/generated_test_plots/Plot Summary: Stopover Tokyo.txt (deflated 35%)\n",
            "updating: content/generated_test_plots/Plot Summary: Lie with Me.txt (deflated 57%)\n",
            "updating: content/generated_test_plots/Plot Summary: Zill-e-Shah.txt (deflated 45%)\n",
            "updating: content/generated_test_plots/Plot Summary: Fashions of 1934.txt (deflated 49%)\n",
            "updating: content/generated_test_plots/Plot Summary: Burning Annie.txt (deflated 27%)\n",
            "updating: content/generated_test_plots/Plot Summary: Mrs. Winterbourne.txt (deflated 55%)\n",
            "updating: content/generated_test_plots/Plot Summary: Jo Hum Chahein.txt (deflated 52%)\n",
            "updating: content/generated_test_plots/Plot Summary: Under the Boardwalk.txt (deflated 36%)\n",
            "updating: content/generated_test_plots/Plot Summary: 36 Chowringee Lane.txt (deflated 49%)\n",
            "updating: content/generated_test_plots/Plot Summary: Legally Blonde.txt (deflated 56%)\n",
            "updating: content/generated_test_plots/Plot Summary: Samsaram adhu minsaram.txt (deflated 57%)\n",
            "updating: content/generated_test_plots/Plot Summary: Theodora Goes Wild.txt (deflated 51%)\n",
            "updating: content/generated_test_plots/Plot Summary: The Adventures of Hajji Baba.txt (deflated 52%)\n",
            "updating: content/generated_test_plots/Plot Summary: Bon Appétit.txt (deflated 46%)\n",
            "updating: content/generated_test_plots/Plot Summary: April in Paris.txt (deflated 50%)\n",
            "updating: content/generated_test_plots/Plot Summary: Choking Man.txt (deflated 45%)\n",
            "updating: content/generated_test_plots/Plot Summary: Hello Again.txt (deflated 50%)\n",
            "updating: content/generated_test_plots/Plot Summary: Endhiran.txt (deflated 55%)\n",
            "updating: content/generated_test_plots/Plot Summary: The Citadel.txt (deflated 39%)\n",
            "updating: content/generated_test_plots/Plot Summary: Tarzan and the Amazons.txt (deflated 52%)\n",
            "updating: content/generated_test_plots/Plot Summary: Superman II: The Richard Donner Cut.txt (deflated 56%)\n",
            "updating: content/generated_test_plots/Plot Summary: Baby Mama.txt (deflated 56%)\n",
            "updating: content/generated_test_plots/Plot Summary: The Locusts.txt (deflated 42%)\n",
            "updating: content/generated_test_plots/Plot Summary: First Knight.txt (deflated 51%)\n",
            "updating: content/generated_test_plots/Plot Summary: Body Heat.txt (deflated 56%)\n",
            "updating: content/generated_test_plots/Plot Summary: El Viento.txt (deflated 36%)\n",
            "updating: content/generated_test_plots/Plot Summary: La Belle Noiseuse.txt (deflated 34%)\n",
            "updating: content/generated_test_plots/Plot Summary: Du er ikke alene.txt (deflated 50%)\n",
            "updating: content/generated_test_plots/Plot Summary: Silk.txt (deflated 54%)\n",
            "updating: content/generated_test_plots/Plot Summary: 100 Days With Mr. Arrogant.txt (deflated 49%)\n",
            "updating: content/generated_test_plots/Plot Summary: Ils se marièrent et eurent beaucoup d'enfants.txt (deflated 48%)\n",
            "updating: content/generated_test_plots/Plot Summary: Neal N Nikki.txt (deflated 53%)\n",
            "updating: content/generated_test_plots/Plot Summary: Mao's Last Dancer.txt (deflated 55%)\n",
            "updating: content/generated_test_plots/Plot Summary: Miss Pettigrew Lives for a Day.txt (deflated 47%)\n",
            "updating: content/generated_test_plots/Plot Summary: An American Tail.txt (deflated 51%)\n",
            "updating: content/generated_test_plots/Plot Summary: Piriyadha Varam Vendum.txt (deflated 47%)\n",
            "updating: content/generated_test_plots/Plot Summary: Blind Love.txt (deflated 32%)\n",
            "updating: content/generated_test_plots/Plot Summary: The Diviners.txt (deflated 36%)\n",
            "updating: content/generated_test_plots/Plot Summary: The Land Girls.txt (deflated 42%)\n",
            "updating: content/generated_test_plots/Plot Summary: A Boyfriend for Christmas.txt (deflated 51%)\n",
            "updating: content/generated_test_plots/Plot Summary: Mod.txt (deflated 48%)\n",
            "updating: content/generated_test_plots/Plot Summary: Before It Had a Name.txt (deflated 28%)\n",
            "updating: content/generated_test_plots/Plot Summary: Les Filles du Botaniste.txt (deflated 46%)\n",
            "updating: content/generated_test_plots/Plot Summary: The Changed Man.txt (deflated 42%)\n",
            "updating: content/generated_test_plots/Plot Summary: Appu.txt (deflated 46%)\n",
            "updating: content/generated_test_plots/Plot Summary: My Left Eye Sees Ghosts.txt (deflated 53%)\n",
            "updating: content/generated_test_plots/Plot Summary: The Prince and Me 2: The Royal Wedding.txt (deflated 51%)\n",
            "updating: content/generated_test_plots/Plot Summary: Deewane.txt (deflated 59%)\n",
            "updating: content/generated_test_plots/Plot Summary: Stealing Christmas.txt (deflated 26%)\n",
            "updating: content/generated_test_plots/Plot Summary: Queen Sacrifice.txt (deflated 35%)\n",
            "updating: content/generated_test_plots/Plot Summary: Mademoiselle Chambon.txt (deflated 34%)\n",
            "updating: content/generated_test_plots/Plot Summary: The Traveller.txt (deflated 47%)\n",
            "updating: content/generated_test_plots/Plot Summary: Cool Blue.txt (deflated 35%)\n",
            "updating: content/generated_test_plots/Plot Summary: Under the Sun.txt (deflated 52%)\n",
            "updating: content/generated_test_plots/Plot Summary: Another Cinderella Story.txt (deflated 42%)\n",
            "updating: content/generated_test_plots/Plot Summary: Smart People.txt (deflated 54%)\n",
            "updating: content/generated_test_plots/Plot Summary: The Arrangement.txt (deflated 47%)\n",
            "updating: content/generated_test_plots/Plot Summary: Blissfully Yours.txt (deflated 49%)\n",
            "updating: content/generated_test_plots/Plot Summary: Sonnal Thaan Kathala.txt (deflated 45%)\n",
            "updating: content/generated_test_plots/Plot Summary: Today We Live.txt (deflated 49%)\n",
            "updating: content/generated_test_plots/Plot Summary: Daya.txt (deflated 52%)\n",
            "updating: content/generated_test_plots/Plot Summary: Akayla.txt (deflated 53%)\n",
            "updating: content/generated_test_plots/Plot Summary: I Think I Do.txt (deflated 43%)\n",
            "updating: content/generated_test_plots/Plot Summary: National Lampoon's Adam & Eve.txt (deflated 40%)\n",
            "updating: content/generated_test_plots/Plot Summary: Ashik Kerib.txt (deflated 42%)\n",
            "updating: content/generated_test_plots/Plot Summary: Music From Another Room.txt (deflated 54%)\n",
            "updating: content/generated_test_plots/Plot Summary: Bhorer Allo.txt (deflated 38%)\n",
            "updating: content/generated_test_plots/Plot Summary: Endhukante Premanta.txt (deflated 58%)\n",
            "updating: content/generated_test_plots/Plot Summary: City of Women.txt (deflated 55%)\n",
            "updating: content/generated_test_plots/Plot Summary: The Nightingale's Prayer.txt (deflated 54%)\n",
            "updating: content/generated_test_plots/Plot Summary: The Male Animal.txt (deflated 43%)\n",
            "updating: content/generated_test_plots/Plot Summary: Varnapakittu.txt (deflated 50%)\n",
            "updating: content/generated_test_plots/Plot Summary: Cow Belles.txt (deflated 55%)\n",
            "updating: content/generated_test_plots/Plot Summary: Housecoat 3.txt (deflated 40%)\n",
            "updating: content/generated_test_plots/Plot Summary: Caboblanco.txt (deflated 37%)\n",
            "updating: content/generated_test_plots/Plot Summary: For Those Who Think Young.txt (deflated 42%)\n",
            "updating: content/generated_test_plots/Plot Summary: Come September.txt (deflated 38%)\n",
            "updating: content/generated_test_plots/Plot Summary: Yes or No.txt (deflated 36%)\n",
            "updating: content/generated_test_plots/Plot Summary: Mazhavillu.txt (deflated 51%)\n",
            "updating: content/generated_test_plots/Plot Summary: Uptown.txt (deflated 38%)\n",
            "updating: content/generated_test_plots/Plot Summary: In My Country.txt (deflated 30%)\n",
            "updating: content/generated_test_plots/Plot Summary: Gangotri.txt (deflated 56%)\n",
            "updating: content/generated_test_plots/Plot Summary: Cheeni Kum.txt (deflated 44%)\n",
            "updating: content/generated_test_plots/Plot Summary: Mero Euta Saathi Cha.txt (deflated 38%)\n",
            "updating: content/generated_test_plots/Plot Summary: Tiara Tahiti.txt (deflated 44%)\n",
            "updating: content/generated_test_plots/Plot Summary: Summer of My German Soldier.txt (deflated 51%)\n",
            "updating: content/generated_test_plots/Plot Summary: A Foreign Affair.txt (deflated 47%)\n",
            "updating: content/generated_test_plots/Plot Summary: Shameless.txt (deflated 39%)\n",
            "updating: content/generated_test_plots/Plot Summary: Mera Naam Joker.txt (deflated 53%)\n",
            "updating: content/generated_test_plots/Plot Summary: L'Atalante.txt (deflated 49%)\n",
            "updating: content/generated_test_plots/Plot Summary: Eternity.txt (deflated 42%)\n",
            "updating: content/generated_test_plots/Plot Summary: Like It Is.txt (deflated 53%)\n",
            "updating: content/generated_test_plots/Plot Summary: Tears in the Rain.txt (deflated 49%)\n",
            "updating: content/generated_test_plots/Plot Summary: The Draughtsman's Contract.txt (deflated 54%)\n",
            "updating: content/generated_test_plots/Plot Summary: Mumbai Diaries.txt (deflated 55%)\n",
            "updating: content/generated_test_plots/Plot Summary: Revoir Julie.txt (deflated 47%)\n",
            "updating: content/generated_test_plots/Plot Summary: Loop.txt (deflated 26%)\n",
            "updating: content/generated_test_plots/Plot Summary: The Rules of the Game.txt (deflated 55%)\n",
            "updating: content/generated_test_plots/Plot Summary: Deconstructing Harry.txt (deflated 53%)\n",
            "updating: content/generated_test_plots/Plot Summary: Sliver.txt (deflated 48%)\n",
            "updating: content/generated_test_plots/Plot Summary: Love Me, Love My Mouse.txt (deflated 52%)\n",
            "updating: content/generated_test_plots/Plot Summary: Vellaripravinte Changathi.txt (deflated 44%)\n",
            "updating: content/generated_test_plots/Plot Summary: La Tutf'e al-Shams.txt (deflated 50%)\n",
            "updating: content/generated_test_plots/Plot Summary: Gilda.txt (deflated 54%)\n",
            "updating: content/generated_test_plots/Plot Summary: Blond Cheat.txt (deflated 60%)\n",
            "updating: content/generated_test_plots/Plot Summary: Saturday Night Fever.txt (deflated 57%)\n",
            "updating: content/generated_test_plots/Plot Summary: Kalai Arasi.txt (deflated 56%)\n",
            "updating: content/generated_test_plots/Plot Summary: Sabar Uparey.txt (deflated 52%)\n",
            "updating: content/generated_test_plots/Plot Summary: Loose Cannons.txt (deflated 51%)\n",
            "updating: content/generated_test_plots/Plot Summary: The Edukators.txt (deflated 52%)\n",
            "updating: content/generated_test_plots/Plot Summary: Howl's Moving Castle.txt (deflated 59%)\n",
            "updating: content/generated_test_plots/Plot Summary: While the Billy Boils.txt (deflated 47%)\n",
            "updating: content/generated_test_plots/Plot Summary: Come Undone.txt (deflated 46%)\n",
            "updating: content/generated_test_plots/Plot Summary: A Night in the Life of Jimmy Reardon.txt (deflated 45%)\n",
            "updating: content/generated_test_plots/Plot Summary: Ghosts Can't Do It.txt (deflated 39%)\n",
            "updating: content/generated_test_plots/Plot Summary: Circuit.txt (deflated 56%)\n",
            "updating: content/generated_test_plots/Plot Summary: Montevideo: Taste of a Dream.txt (deflated 40%)\n",
            "updating: content/generated_test_plots/Plot Summary: Thief of Hearts.txt (deflated 55%)\n",
            "updating: content/generated_test_plots/Plot Summary: Marry Me.txt (deflated 46%)\n",
            "updating: content/generated_test_plots/Plot Summary: The Miracle of Morgan's Creek.txt (deflated 45%)\n",
            "updating: content/generated_test_plots/Plot Summary: Munjane.txt (deflated 47%)\n",
            "updating: content/generated_test_plots/Plot Summary: The Siege of Pinchgut.txt (deflated 52%)\n",
            "updating: content/generated_test_plots/Plot Summary: Six Days, Six Nights.txt (deflated 45%)\n",
            "updating: content/generated_test_plots/Plot Summary: Summer Rental.txt (deflated 46%)\n",
            "updating: content/generated_test_plots/Plot Summary: Doosra Aadmi.txt (deflated 37%)\n",
            "updating: content/generated_test_plots/Plot Summary: Rockstar.txt (deflated 54%)\n",
            "updating: content/generated_test_plots/Plot Summary: The Accidental Tourist.txt (deflated 54%)\n",
            "updating: content/generated_test_plots/Plot Summary: Blue Moon.txt (deflated 51%)\n",
            "updating: content/generated_test_plots/Plot Summary: Idhayam.txt (deflated 51%)\n",
            "updating: content/generated_test_plots/Plot Summary: 3-Iron.txt (deflated 53%)\n",
            "updating: content/generated_test_plots/Plot Summary: God Help Me.txt (deflated 45%)\n",
            "updating: content/generated_test_plots/Plot Summary: The Romantic President.txt (deflated 58%)\n",
            "updating: content/generated_test_plots/Plot Summary: We're Not Married!.txt (deflated 44%)\n",
            "updating: content/generated_test_plots/Plot Summary: Fiddler on the Roof.txt (deflated 56%)\n",
            "updating: content/generated_test_plots/Plot Summary: Undercover Christmas.txt (deflated 42%)\n",
            "updating: content/generated_test_plots/Plot Summary: Jawani Zindabaad.txt (deflated 47%)\n",
            "updating: content/generated_test_plots/Plot Summary: The Affairs of Anatol.txt (deflated 38%)\n",
            "updating: content/generated_test_plots/Plot Summary: Maduve Mane.txt (deflated 53%)\n",
            "updating: content/generated_test_plots/Plot Summary: Passchendaele.txt (deflated 56%)\n",
            "updating: content/generated_test_plots/Plot Summary: Peppermint Frappé.txt (deflated 53%)\n",
            "updating: content/generated_test_plots/Plot Summary: In Name Only.txt (deflated 46%)\n",
            "updating: content/generated_test_plots/Plot Summary: Hothat Brishti.txt (deflated 55%)\n"
          ],
          "name": "stdout"
        }
      ]
    },
    {
      "cell_type": "code",
      "metadata": {
        "id": "HmDEfD5W1NxP",
        "colab_type": "code",
        "colab": {}
      },
      "source": [
        "#152\n",
        "files.download(\"/content/test_plots.zip\")"
      ],
      "execution_count": 0,
      "outputs": []
    },
    {
      "cell_type": "code",
      "metadata": {
        "id": "uY0gExWiNGlW",
        "colab_type": "code",
        "colab": {}
      },
      "source": [
        ""
      ],
      "execution_count": 0,
      "outputs": []
    }
  ]
}