{
  "nbformat": 4,
  "nbformat_minor": 0,
  "metadata": {
    "colab": {
      "name": "GPTMoviePlotGen_Horror.ipynb",
      "provenance": [],
      "collapsed_sections": [],
      "toc_visible": true,
      "machine_shape": "hm"
    },
    "kernelspec": {
      "name": "python3",
      "display_name": "Python 3"
    },
    "accelerator": "GPU"
  },
  "cells": [
    {
      "cell_type": "code",
      "metadata": {
        "id": "o6qH9loEvFud",
        "colab_type": "code",
        "outputId": "cd866336-2074-4f0d-e889-a2dfa691ba8f",
        "colab": {
          "base_uri": "https://localhost:8080/",
          "height": 170
        }
      },
      "source": [
        "%tensorflow_version 1.x\n",
        "!pip install -q gpt-2-simple\n",
        "\n",
        "import gpt_2_simple as gpt2\n",
        "from datetime import datetime\n",
        "from google.colab import files\n",
        "import pandas as pd\n",
        "import time"
      ],
      "execution_count": 0,
      "outputs": [
        {
          "output_type": "stream",
          "text": [
            "  Building wheel for gpt-2-simple (setup.py) ... \u001b[?25l\u001b[?25hdone\n",
            "WARNING:tensorflow:\n",
            "The TensorFlow contrib module will not be included in TensorFlow 2.0.\n",
            "For more information, please see:\n",
            "  * https://github.com/tensorflow/community/blob/master/rfcs/20180907-contrib-sunset.md\n",
            "  * https://github.com/tensorflow/addons\n",
            "  * https://github.com/tensorflow/io (for I/O related ops)\n",
            "If you depend on functionality not listed there, please file an issue.\n",
            "\n"
          ],
          "name": "stdout"
        }
      ]
    },
    {
      "cell_type": "code",
      "metadata": {
        "id": "8u-OilhFwhc9",
        "colab_type": "code",
        "outputId": "10494d47-5159-4c9e-af01-884477a73053",
        "colab": {
          "base_uri": "https://localhost:8080/",
          "height": 122
        }
      },
      "source": [
        "gpt2.mount_gdrive()"
      ],
      "execution_count": 0,
      "outputs": [
        {
          "output_type": "stream",
          "text": [
            "Go to this URL in a browser: https://accounts.google.com/o/oauth2/auth?client_id=947318989803-6bn6qk8qdgf4n4g3pfee6491hc0brc4i.apps.googleusercontent.com&redirect_uri=urn%3aietf%3awg%3aoauth%3a2.0%3aoob&response_type=code&scope=email%20https%3a%2f%2fwww.googleapis.com%2fauth%2fdocs.test%20https%3a%2f%2fwww.googleapis.com%2fauth%2fdrive%20https%3a%2f%2fwww.googleapis.com%2fauth%2fdrive.photos.readonly%20https%3a%2f%2fwww.googleapis.com%2fauth%2fpeopleapi.readonly\n",
            "\n",
            "Enter your authorization code:\n",
            "··········\n",
            "Mounted at /content/drive\n"
          ],
          "name": "stdout"
        }
      ]
    },
    {
      "cell_type": "code",
      "metadata": {
        "id": "ULU8AYH_wpYg",
        "colab_type": "code",
        "colab": {}
      },
      "source": [
        "#model run name\n",
        "#model_run_name = 'run1_medium_2k'\n",
        "comedy_model = 'run_medium_comedy_2k'\n",
        "horror_model = 'run_medium_horror_2k'\n",
        "romance_model = 'run_medium_romance_2k'"
      ],
      "execution_count": 0,
      "outputs": []
    },
    {
      "cell_type": "markdown",
      "metadata": {
        "id": "CQDizIdku5aE",
        "colab_type": "text"
      },
      "source": [
        "# Comparing Different Genre Models"
      ]
    },
    {
      "cell_type": "code",
      "metadata": {
        "id": "EeFTDFvGvAF2",
        "colab_type": "code",
        "colab": {}
      },
      "source": [
        "gpt2.copy_checkpoint_from_gdrive(run_name=horror_model)"
      ],
      "execution_count": 0,
      "outputs": []
    },
    {
      "cell_type": "code",
      "metadata": {
        "id": "hIcs56SUzSNP",
        "colab_type": "code",
        "outputId": "85b1b626-033c-447c-e544-7e84efdd3a67",
        "colab": {
          "base_uri": "https://localhost:8080/",
          "height": 51
        }
      },
      "source": [
        "sess = gpt2.start_tf_sess()\n",
        "gpt2.load_gpt2(sess, run_name=horror_model)"
      ],
      "execution_count": 0,
      "outputs": [
        {
          "output_type": "stream",
          "text": [
            "Loading checkpoint checkpoint/run_medium_horror_2k/model-2000\n",
            "INFO:tensorflow:Restoring parameters from checkpoint/run_medium_horror_2k/model-2000\n"
          ],
          "name": "stdout"
        }
      ]
    },
    {
      "cell_type": "code",
      "metadata": {
        "id": "5GJvMEz-ywNt",
        "colab_type": "code",
        "colab": {}
      },
      "source": [
        "#single generation\n",
        "def generate_plot(prefix, model_run_name):\n",
        "  output = gpt2.generate(sess,\n",
        "                run_name=model_run_name,\n",
        "                prefix = prefix,\n",
        "                length=100,\n",
        "                temperature=0.7,\n",
        "                top_p=0.9,\n",
        "                return_as_list=True\n",
        "                )\n",
        "  out = output[0].rpartition('.')[0] + \".\"\n",
        "  return out"
      ],
      "execution_count": 0,
      "outputs": []
    },
    {
      "cell_type": "code",
      "metadata": {
        "id": "k1ntDuV6ywa2",
        "colab_type": "code",
        "outputId": "9d5f13ef-1502-47c7-8046-7f335ae38216",
        "colab": {
          "base_uri": "https://localhost:8080/",
          "height": 54
        }
      },
      "source": [
        "generate_plot(\"Bella is killed by her husband, one dark and stormy night.\", horror_model)"
      ],
      "execution_count": 0,
      "outputs": [
        {
          "output_type": "execute_result",
          "data": {
            "text/plain": [
              "\"Bella is killed by her husband, one dark and stormy night. The next day, the two go to the farmhouse where they find a man named Jack  who is the sole survivor of the massacre. Jack's body has been dismembered and eaten by a grisly-looking creature. Jack's sister, Alice , is the only person who can talk to him, and tells Jack that her brother is dead. Jack is still disturbed, but not as much as he was before.\""
            ]
          },
          "metadata": {
            "tags": []
          },
          "execution_count": 9
        }
      ]
    },
    {
      "cell_type": "code",
      "metadata": {
        "id": "2xqloyyT3GMJ",
        "colab_type": "code",
        "colab": {}
      },
      "source": [
        "gpt2.copy_checkpoint_from_gdrive(run_name=romance_model)"
      ],
      "execution_count": 0,
      "outputs": []
    },
    {
      "cell_type": "code",
      "metadata": {
        "id": "ErAblpvF3RSm",
        "colab_type": "code",
        "outputId": "7c78963f-8332-4d2e-e9cc-65a486400c2a",
        "colab": {
          "base_uri": "https://localhost:8080/",
          "height": 531
        }
      },
      "source": [
        "sess = gpt2.start_tf_sess()\n",
        "gpt2.load_gpt2(sess, run_name=romance_model)"
      ],
      "execution_count": 0,
      "outputs": [
        {
          "output_type": "error",
          "ename": "ValueError",
          "evalue": "ignored",
          "traceback": [
            "\u001b[0;31m---------------------------------------------------------------------------\u001b[0m",
            "\u001b[0;31mValueError\u001b[0m                                Traceback (most recent call last)",
            "\u001b[0;32m<ipython-input-11-b9e5fc973afa>\u001b[0m in \u001b[0;36m<module>\u001b[0;34m()\u001b[0m\n\u001b[1;32m      1\u001b[0m \u001b[0msess\u001b[0m \u001b[0;34m=\u001b[0m \u001b[0mgpt2\u001b[0m\u001b[0;34m.\u001b[0m\u001b[0mstart_tf_sess\u001b[0m\u001b[0;34m(\u001b[0m\u001b[0;34m)\u001b[0m\u001b[0;34m\u001b[0m\u001b[0;34m\u001b[0m\u001b[0m\n\u001b[0;32m----> 2\u001b[0;31m \u001b[0mgpt2\u001b[0m\u001b[0;34m.\u001b[0m\u001b[0mload_gpt2\u001b[0m\u001b[0;34m(\u001b[0m\u001b[0msess\u001b[0m\u001b[0;34m,\u001b[0m \u001b[0mrun_name\u001b[0m\u001b[0;34m=\u001b[0m\u001b[0mromance_model\u001b[0m\u001b[0;34m)\u001b[0m\u001b[0;34m\u001b[0m\u001b[0;34m\u001b[0m\u001b[0m\n\u001b[0m",
            "\u001b[0;32m/usr/local/lib/python3.6/dist-packages/gpt_2_simple/gpt_2.py\u001b[0m in \u001b[0;36mload_gpt2\u001b[0;34m(sess, run_name, checkpoint_dir, model_name, model_dir, multi_gpu)\u001b[0m\n\u001b[1;32m    387\u001b[0m         \u001b[0mgpus\u001b[0m \u001b[0;34m=\u001b[0m \u001b[0mget_available_gpus\u001b[0m\u001b[0;34m(\u001b[0m\u001b[0;34m)\u001b[0m\u001b[0;34m\u001b[0m\u001b[0;34m\u001b[0m\u001b[0m\n\u001b[1;32m    388\u001b[0m \u001b[0;34m\u001b[0m\u001b[0m\n\u001b[0;32m--> 389\u001b[0;31m     \u001b[0moutput\u001b[0m \u001b[0;34m=\u001b[0m \u001b[0mmodel\u001b[0m\u001b[0;34m.\u001b[0m\u001b[0mmodel\u001b[0m\u001b[0;34m(\u001b[0m\u001b[0mhparams\u001b[0m\u001b[0;34m=\u001b[0m\u001b[0mhparams\u001b[0m\u001b[0;34m,\u001b[0m \u001b[0mX\u001b[0m\u001b[0;34m=\u001b[0m\u001b[0mcontext\u001b[0m\u001b[0;34m,\u001b[0m \u001b[0mgpus\u001b[0m\u001b[0;34m=\u001b[0m\u001b[0mgpus\u001b[0m\u001b[0;34m)\u001b[0m\u001b[0;34m\u001b[0m\u001b[0;34m\u001b[0m\u001b[0m\n\u001b[0m\u001b[1;32m    390\u001b[0m \u001b[0;34m\u001b[0m\u001b[0m\n\u001b[1;32m    391\u001b[0m     \u001b[0mckpt\u001b[0m \u001b[0;34m=\u001b[0m \u001b[0mtf\u001b[0m\u001b[0;34m.\u001b[0m\u001b[0mtrain\u001b[0m\u001b[0;34m.\u001b[0m\u001b[0mlatest_checkpoint\u001b[0m\u001b[0;34m(\u001b[0m\u001b[0mcheckpoint_path\u001b[0m\u001b[0;34m)\u001b[0m\u001b[0;34m\u001b[0m\u001b[0;34m\u001b[0m\u001b[0m\n",
            "\u001b[0;32m/usr/local/lib/python3.6/dist-packages/gpt_2_simple/src/model.py\u001b[0m in \u001b[0;36mmodel\u001b[0;34m(hparams, X, past, scope, gpus, reuse)\u001b[0m\n\u001b[1;32m    181\u001b[0m \u001b[0;34m\u001b[0m\u001b[0m\n\u001b[1;32m    182\u001b[0m         wpe = tf.compat.v1.get_variable('wpe', [hparams.n_ctx, hparams.n_embd],\n\u001b[0;32m--> 183\u001b[0;31m                              initializer=tf.compat.v1.random_normal_initializer(stddev=0.01))\n\u001b[0m\u001b[1;32m    184\u001b[0m         wte = tf.compat.v1.get_variable('wte', [hparams.n_vocab, hparams.n_embd],\n\u001b[1;32m    185\u001b[0m                              initializer=tf.compat.v1.random_normal_initializer(stddev=0.02))\n",
            "\u001b[0;32m/tensorflow-1.15.2/python3.6/tensorflow_core/python/ops/variable_scope.py\u001b[0m in \u001b[0;36mget_variable\u001b[0;34m(name, shape, dtype, initializer, regularizer, trainable, collections, caching_device, partitioner, validate_shape, use_resource, custom_getter, constraint, synchronization, aggregation)\u001b[0m\n\u001b[1;32m   1498\u001b[0m       \u001b[0mconstraint\u001b[0m\u001b[0;34m=\u001b[0m\u001b[0mconstraint\u001b[0m\u001b[0;34m,\u001b[0m\u001b[0;34m\u001b[0m\u001b[0;34m\u001b[0m\u001b[0m\n\u001b[1;32m   1499\u001b[0m       \u001b[0msynchronization\u001b[0m\u001b[0;34m=\u001b[0m\u001b[0msynchronization\u001b[0m\u001b[0;34m,\u001b[0m\u001b[0;34m\u001b[0m\u001b[0;34m\u001b[0m\u001b[0m\n\u001b[0;32m-> 1500\u001b[0;31m       aggregation=aggregation)\n\u001b[0m\u001b[1;32m   1501\u001b[0m \u001b[0;34m\u001b[0m\u001b[0m\n\u001b[1;32m   1502\u001b[0m \u001b[0;34m\u001b[0m\u001b[0m\n",
            "\u001b[0;32m/tensorflow-1.15.2/python3.6/tensorflow_core/python/ops/variable_scope.py\u001b[0m in \u001b[0;36mget_variable\u001b[0;34m(self, var_store, name, shape, dtype, initializer, regularizer, reuse, trainable, collections, caching_device, partitioner, validate_shape, use_resource, custom_getter, constraint, synchronization, aggregation)\u001b[0m\n\u001b[1;32m   1241\u001b[0m           \u001b[0mconstraint\u001b[0m\u001b[0;34m=\u001b[0m\u001b[0mconstraint\u001b[0m\u001b[0;34m,\u001b[0m\u001b[0;34m\u001b[0m\u001b[0;34m\u001b[0m\u001b[0m\n\u001b[1;32m   1242\u001b[0m           \u001b[0msynchronization\u001b[0m\u001b[0;34m=\u001b[0m\u001b[0msynchronization\u001b[0m\u001b[0;34m,\u001b[0m\u001b[0;34m\u001b[0m\u001b[0;34m\u001b[0m\u001b[0m\n\u001b[0;32m-> 1243\u001b[0;31m           aggregation=aggregation)\n\u001b[0m\u001b[1;32m   1244\u001b[0m \u001b[0;34m\u001b[0m\u001b[0m\n\u001b[1;32m   1245\u001b[0m   def _get_partitioned_variable(self,\n",
            "\u001b[0;32m/tensorflow-1.15.2/python3.6/tensorflow_core/python/ops/variable_scope.py\u001b[0m in \u001b[0;36mget_variable\u001b[0;34m(self, name, shape, dtype, initializer, regularizer, reuse, trainable, collections, caching_device, partitioner, validate_shape, use_resource, custom_getter, constraint, synchronization, aggregation)\u001b[0m\n\u001b[1;32m    565\u001b[0m           \u001b[0mconstraint\u001b[0m\u001b[0;34m=\u001b[0m\u001b[0mconstraint\u001b[0m\u001b[0;34m,\u001b[0m\u001b[0;34m\u001b[0m\u001b[0;34m\u001b[0m\u001b[0m\n\u001b[1;32m    566\u001b[0m           \u001b[0msynchronization\u001b[0m\u001b[0;34m=\u001b[0m\u001b[0msynchronization\u001b[0m\u001b[0;34m,\u001b[0m\u001b[0;34m\u001b[0m\u001b[0;34m\u001b[0m\u001b[0m\n\u001b[0;32m--> 567\u001b[0;31m           aggregation=aggregation)\n\u001b[0m\u001b[1;32m    568\u001b[0m \u001b[0;34m\u001b[0m\u001b[0m\n\u001b[1;32m    569\u001b[0m   def _get_partitioned_variable(self,\n",
            "\u001b[0;32m/tensorflow-1.15.2/python3.6/tensorflow_core/python/ops/variable_scope.py\u001b[0m in \u001b[0;36m_true_getter\u001b[0;34m(name, shape, dtype, initializer, regularizer, reuse, trainable, collections, caching_device, partitioner, validate_shape, use_resource, constraint, synchronization, aggregation)\u001b[0m\n\u001b[1;32m    517\u001b[0m           \u001b[0mconstraint\u001b[0m\u001b[0;34m=\u001b[0m\u001b[0mconstraint\u001b[0m\u001b[0;34m,\u001b[0m\u001b[0;34m\u001b[0m\u001b[0;34m\u001b[0m\u001b[0m\n\u001b[1;32m    518\u001b[0m           \u001b[0msynchronization\u001b[0m\u001b[0;34m=\u001b[0m\u001b[0msynchronization\u001b[0m\u001b[0;34m,\u001b[0m\u001b[0;34m\u001b[0m\u001b[0;34m\u001b[0m\u001b[0m\n\u001b[0;32m--> 519\u001b[0;31m           aggregation=aggregation)\n\u001b[0m\u001b[1;32m    520\u001b[0m \u001b[0;34m\u001b[0m\u001b[0m\n\u001b[1;32m    521\u001b[0m     synchronization, aggregation, trainable = (\n",
            "\u001b[0;32m/tensorflow-1.15.2/python3.6/tensorflow_core/python/ops/variable_scope.py\u001b[0m in \u001b[0;36m_get_single_variable\u001b[0;34m(self, name, shape, dtype, initializer, regularizer, partition_info, reuse, trainable, collections, caching_device, validate_shape, use_resource, constraint, synchronization, aggregation)\u001b[0m\n\u001b[1;32m    866\u001b[0m         \u001b[0mtb\u001b[0m \u001b[0;34m=\u001b[0m \u001b[0;34m[\u001b[0m\u001b[0mx\u001b[0m \u001b[0;32mfor\u001b[0m \u001b[0mx\u001b[0m \u001b[0;32min\u001b[0m \u001b[0mtb\u001b[0m \u001b[0;32mif\u001b[0m \u001b[0;34m\"tensorflow/python\"\u001b[0m \u001b[0;32mnot\u001b[0m \u001b[0;32min\u001b[0m \u001b[0mx\u001b[0m\u001b[0;34m[\u001b[0m\u001b[0;36m0\u001b[0m\u001b[0;34m]\u001b[0m\u001b[0;34m]\u001b[0m\u001b[0;34m[\u001b[0m\u001b[0;34m:\u001b[0m\u001b[0;36m5\u001b[0m\u001b[0;34m]\u001b[0m\u001b[0;34m\u001b[0m\u001b[0;34m\u001b[0m\u001b[0m\n\u001b[1;32m    867\u001b[0m         raise ValueError(\"%s Originally defined at:\\n\\n%s\" %\n\u001b[0;32m--> 868\u001b[0;31m                          (err_msg, \"\".join(traceback.format_list(tb))))\n\u001b[0m\u001b[1;32m    869\u001b[0m       \u001b[0mfound_var\u001b[0m \u001b[0;34m=\u001b[0m \u001b[0mself\u001b[0m\u001b[0;34m.\u001b[0m\u001b[0m_vars\u001b[0m\u001b[0;34m[\u001b[0m\u001b[0mname\u001b[0m\u001b[0;34m]\u001b[0m\u001b[0;34m\u001b[0m\u001b[0;34m\u001b[0m\u001b[0m\n\u001b[1;32m    870\u001b[0m       \u001b[0;32mif\u001b[0m \u001b[0;32mnot\u001b[0m \u001b[0mshape\u001b[0m\u001b[0;34m.\u001b[0m\u001b[0mis_compatible_with\u001b[0m\u001b[0;34m(\u001b[0m\u001b[0mfound_var\u001b[0m\u001b[0;34m.\u001b[0m\u001b[0mget_shape\u001b[0m\u001b[0;34m(\u001b[0m\u001b[0;34m)\u001b[0m\u001b[0;34m)\u001b[0m\u001b[0;34m:\u001b[0m\u001b[0;34m\u001b[0m\u001b[0;34m\u001b[0m\u001b[0m\n",
            "\u001b[0;31mValueError\u001b[0m: Variable model/wpe already exists, disallowed. Did you mean to set reuse=True or reuse=tf.AUTO_REUSE in VarScope? Originally defined at:\n\n  File \"/tensorflow-1.15.2/python3.6/tensorflow_core/python/framework/ops.py\", line 1748, in __init__\n    self._traceback = tf_stack.extract_stack()\n  File \"/tensorflow-1.15.2/python3.6/tensorflow_core/python/framework/ops.py\", line 3426, in _create_op_internal\n    op_def=op_def)\n  File \"/tensorflow-1.15.2/python3.6/tensorflow_core/python/framework/ops.py\", line 3357, in create_op\n    attrs, op_def, compute_device)\n  File \"/tensorflow-1.15.2/python3.6/tensorflow_core/python/util/deprecation.py\", line 507, in new_func\n    return func(*args, **kwargs)\n  File \"/tensorflow-1.15.2/python3.6/tensorflow_core/python/framework/op_def_library.py\", line 794, in _apply_op_helper\n    op_def=op_def)\n"
          ]
        }
      ]
    },
    {
      "cell_type": "code",
      "metadata": {
        "id": "QipL-k4Swj-D",
        "colab_type": "code",
        "outputId": "fcb14ca9-ec9a-42c3-d20d-3026422a5a3a",
        "colab": {
          "base_uri": "https://localhost:8080/",
          "height": 327
        }
      },
      "source": [
        "#load model from google drive\n",
        "gpt2.copy_checkpoint_from_gdrive(run_name=model_run_name)"
      ],
      "execution_count": 0,
      "outputs": [
        {
          "output_type": "error",
          "ename": "FileNotFoundError",
          "evalue": "ignored",
          "traceback": [
            "\u001b[0;31m---------------------------------------------------------------------------\u001b[0m",
            "\u001b[0;31mFileNotFoundError\u001b[0m                         Traceback (most recent call last)",
            "\u001b[0;32m<ipython-input-6-64e6085bdac7>\u001b[0m in \u001b[0;36m<module>\u001b[0;34m()\u001b[0m\n\u001b[0;32m----> 1\u001b[0;31m \u001b[0mgpt2\u001b[0m\u001b[0;34m.\u001b[0m\u001b[0mcopy_checkpoint_from_gdrive\u001b[0m\u001b[0;34m(\u001b[0m\u001b[0mrun_name\u001b[0m\u001b[0;34m=\u001b[0m\u001b[0mmodel_run_name\u001b[0m\u001b[0;34m)\u001b[0m\u001b[0;34m\u001b[0m\u001b[0;34m\u001b[0m\u001b[0m\n\u001b[0m",
            "\u001b[0;32m/usr/local/lib/python3.6/dist-packages/gpt_2_simple/gpt_2.py\u001b[0m in \u001b[0;36mcopy_checkpoint_from_gdrive\u001b[0;34m(run_name, copy_folder)\u001b[0m\n\u001b[1;32m    594\u001b[0m         \u001b[0mfile_path\u001b[0m \u001b[0;34m=\u001b[0m \u001b[0mget_tarfile_name\u001b[0m\u001b[0;34m(\u001b[0m\u001b[0mcheckpoint_folder\u001b[0m\u001b[0;34m)\u001b[0m\u001b[0;34m\u001b[0m\u001b[0;34m\u001b[0m\u001b[0m\n\u001b[1;32m    595\u001b[0m \u001b[0;34m\u001b[0m\u001b[0m\n\u001b[0;32m--> 596\u001b[0;31m         \u001b[0mshutil\u001b[0m\u001b[0;34m.\u001b[0m\u001b[0mcopyfile\u001b[0m\u001b[0;34m(\u001b[0m\u001b[0;34m\"/content/drive/My Drive/\"\u001b[0m \u001b[0;34m+\u001b[0m \u001b[0mfile_path\u001b[0m\u001b[0;34m,\u001b[0m \u001b[0mfile_path\u001b[0m\u001b[0;34m)\u001b[0m\u001b[0;34m\u001b[0m\u001b[0;34m\u001b[0m\u001b[0m\n\u001b[0m\u001b[1;32m    597\u001b[0m \u001b[0;34m\u001b[0m\u001b[0m\n\u001b[1;32m    598\u001b[0m         \u001b[0;32mwith\u001b[0m \u001b[0mtarfile\u001b[0m\u001b[0;34m.\u001b[0m\u001b[0mopen\u001b[0m\u001b[0;34m(\u001b[0m\u001b[0mfile_path\u001b[0m\u001b[0;34m,\u001b[0m \u001b[0;34m'r'\u001b[0m\u001b[0;34m)\u001b[0m \u001b[0;32mas\u001b[0m \u001b[0mtar\u001b[0m\u001b[0;34m:\u001b[0m\u001b[0;34m\u001b[0m\u001b[0;34m\u001b[0m\u001b[0m\n",
            "\u001b[0;32m/usr/lib/python3.6/shutil.py\u001b[0m in \u001b[0;36mcopyfile\u001b[0;34m(src, dst, follow_symlinks)\u001b[0m\n\u001b[1;32m    118\u001b[0m         \u001b[0mos\u001b[0m\u001b[0;34m.\u001b[0m\u001b[0msymlink\u001b[0m\u001b[0;34m(\u001b[0m\u001b[0mos\u001b[0m\u001b[0;34m.\u001b[0m\u001b[0mreadlink\u001b[0m\u001b[0;34m(\u001b[0m\u001b[0msrc\u001b[0m\u001b[0;34m)\u001b[0m\u001b[0;34m,\u001b[0m \u001b[0mdst\u001b[0m\u001b[0;34m)\u001b[0m\u001b[0;34m\u001b[0m\u001b[0;34m\u001b[0m\u001b[0m\n\u001b[1;32m    119\u001b[0m     \u001b[0;32melse\u001b[0m\u001b[0;34m:\u001b[0m\u001b[0;34m\u001b[0m\u001b[0;34m\u001b[0m\u001b[0m\n\u001b[0;32m--> 120\u001b[0;31m         \u001b[0;32mwith\u001b[0m \u001b[0mopen\u001b[0m\u001b[0;34m(\u001b[0m\u001b[0msrc\u001b[0m\u001b[0;34m,\u001b[0m \u001b[0;34m'rb'\u001b[0m\u001b[0;34m)\u001b[0m \u001b[0;32mas\u001b[0m \u001b[0mfsrc\u001b[0m\u001b[0;34m:\u001b[0m\u001b[0;34m\u001b[0m\u001b[0;34m\u001b[0m\u001b[0m\n\u001b[0m\u001b[1;32m    121\u001b[0m             \u001b[0;32mwith\u001b[0m \u001b[0mopen\u001b[0m\u001b[0;34m(\u001b[0m\u001b[0mdst\u001b[0m\u001b[0;34m,\u001b[0m \u001b[0;34m'wb'\u001b[0m\u001b[0;34m)\u001b[0m \u001b[0;32mas\u001b[0m \u001b[0mfdst\u001b[0m\u001b[0;34m:\u001b[0m\u001b[0;34m\u001b[0m\u001b[0;34m\u001b[0m\u001b[0m\n\u001b[1;32m    122\u001b[0m                 \u001b[0mcopyfileobj\u001b[0m\u001b[0;34m(\u001b[0m\u001b[0mfsrc\u001b[0m\u001b[0;34m,\u001b[0m \u001b[0mfdst\u001b[0m\u001b[0;34m)\u001b[0m\u001b[0;34m\u001b[0m\u001b[0;34m\u001b[0m\u001b[0m\n",
            "\u001b[0;31mFileNotFoundError\u001b[0m: [Errno 2] No such file or directory: '/content/drive/My Drive/checkpoint_run_medium_comedy.tar'"
          ]
        }
      ]
    },
    {
      "cell_type": "code",
      "metadata": {
        "id": "EtQgrWKnwo0t",
        "colab_type": "code",
        "outputId": "ec245089-4f9e-48b1-ba45-1d5511cc2a95",
        "colab": {
          "base_uri": "https://localhost:8080/",
          "height": 51
        }
      },
      "source": [
        "sess = gpt2.start_tf_sess()\n",
        "gpt2.load_gpt2(sess, run_name=model_run_name)"
      ],
      "execution_count": 0,
      "outputs": [
        {
          "output_type": "stream",
          "text": [
            "Loading checkpoint checkpoint/run1_medium_2k/model-2000\n",
            "INFO:tensorflow:Restoring parameters from checkpoint/run1_medium_2k/model-2000\n"
          ],
          "name": "stdout"
        }
      ]
    },
    {
      "cell_type": "code",
      "metadata": {
        "id": "5PLLYu5d39eF",
        "colab_type": "code",
        "outputId": "114e5be3-d2b4-4987-a705-47e03d9c6b1f",
        "colab": {
          "base_uri": "https://localhost:8080/",
          "height": 204
        }
      },
      "source": [
        "#loading test file\n",
        "test_data = pd.read_csv(\"/content/drive/My Drive/w266 final project/movie_plot_test_data.csv\", header=None, names=['Movie Name', 'Plot', \"Genre\"])\n",
        "test_data.head()"
      ],
      "execution_count": 0,
      "outputs": [
        {
          "output_type": "execute_result",
          "data": {
            "text/html": [
              "<div>\n",
              "<style scoped>\n",
              "    .dataframe tbody tr th:only-of-type {\n",
              "        vertical-align: middle;\n",
              "    }\n",
              "\n",
              "    .dataframe tbody tr th {\n",
              "        vertical-align: top;\n",
              "    }\n",
              "\n",
              "    .dataframe thead th {\n",
              "        text-align: right;\n",
              "    }\n",
              "</style>\n",
              "<table border=\"1\" class=\"dataframe\">\n",
              "  <thead>\n",
              "    <tr style=\"text-align: right;\">\n",
              "      <th></th>\n",
              "      <th>Movie Name</th>\n",
              "      <th>Plot</th>\n",
              "      <th>Genre</th>\n",
              "    </tr>\n",
              "  </thead>\n",
              "  <tbody>\n",
              "    <tr>\n",
              "      <th>0</th>\n",
              "      <td>The Fairy Tale Killer</td>\n",
              "      <td>When a bloodied and incoherent Wu Zaijun (Wang...</td>\n",
              "      <td>['horror / thriller']</td>\n",
              "    </tr>\n",
              "    <tr>\n",
              "      <th>1</th>\n",
              "      <td>Pal Pal Dil Ke Ssaat</td>\n",
              "      <td>Pal Pal Dil Ke Ssaat is a romantic comedy star...</td>\n",
              "      <td>['romantic', 'comedy']</td>\n",
              "    </tr>\n",
              "    <tr>\n",
              "      <th>2</th>\n",
              "      <td>Cross of Iron</td>\n",
              "      <td>The movie opens with a German children's song,...</td>\n",
              "      <td>['war', 'action']</td>\n",
              "    </tr>\n",
              "    <tr>\n",
              "      <th>3</th>\n",
              "      <td>When Strangers Appear</td>\n",
              "      <td>When Beth (Mitchell) opens her remote roadside...</td>\n",
              "      <td>['drama']</td>\n",
              "    </tr>\n",
              "    <tr>\n",
              "      <th>4</th>\n",
              "      <td>Mosquito Squadron</td>\n",
              "      <td>It is the Second World War and the Royal Air F...</td>\n",
              "      <td>['world war ii']</td>\n",
              "    </tr>\n",
              "  </tbody>\n",
              "</table>\n",
              "</div>"
            ],
            "text/plain": [
              "              Movie Name  ...                   Genre\n",
              "0  The Fairy Tale Killer  ...   ['horror / thriller']\n",
              "1   Pal Pal Dil Ke Ssaat  ...  ['romantic', 'comedy']\n",
              "2          Cross of Iron  ...       ['war', 'action']\n",
              "3  When Strangers Appear  ...               ['drama']\n",
              "4      Mosquito Squadron  ...        ['world war ii']\n",
              "\n",
              "[5 rows x 3 columns]"
            ]
          },
          "metadata": {
            "tags": []
          },
          "execution_count": 6
        }
      ]
    },
    {
      "cell_type": "code",
      "metadata": {
        "id": "oBt2JUa16zg3",
        "colab_type": "code",
        "colab": {}
      },
      "source": [
        "#sentence extraction\n",
        "def extract_beginning(text):\n",
        "  first_sent = text.partition('.')[0] + '.'\n",
        "  return first_sent"
      ],
      "execution_count": 0,
      "outputs": []
    },
    {
      "cell_type": "code",
      "metadata": {
        "id": "Z73h_zm0xAI_",
        "colab_type": "code",
        "colab": {}
      },
      "source": [
        "#single generation\n",
        "def generate_plot(prefix):\n",
        "  output = gpt2.generate(sess,\n",
        "                run_name=model_run_name,\n",
        "                prefix = prefix,\n",
        "                length=100,\n",
        "                temperature=0.7,\n",
        "                top_p=0.9,\n",
        "                return_as_list=True\n",
        "                )\n",
        "  out = output[0].rpartition('.')[0] + \".\"\n",
        "  return out"
      ],
      "execution_count": 0,
      "outputs": []
    },
    {
      "cell_type": "code",
      "metadata": {
        "id": "DJKRd-6pLbM7",
        "colab_type": "code",
        "outputId": "c4abca9b-2363-4e7b-9a09-f5a357d87c6f",
        "colab": {
          "base_uri": "https://localhost:8080/",
          "height": 34
        }
      },
      "source": [
        "len(test_data)"
      ],
      "execution_count": 0,
      "outputs": [
        {
          "output_type": "execute_result",
          "data": {
            "text/plain": [
              "10000"
            ]
          },
          "metadata": {
            "tags": []
          },
          "execution_count": 11
        }
      ]
    },
    {
      "cell_type": "code",
      "metadata": {
        "id": "6kBAfay0J5az",
        "colab_type": "code",
        "colab": {}
      },
      "source": [
        "!mkdir generated_test_plots\n"
      ],
      "execution_count": 0,
      "outputs": []
    },
    {
      "cell_type": "code",
      "metadata": {
        "id": "xBcQ5133-LjB",
        "colab_type": "code",
        "outputId": "e1ce2a00-acd1-45a4-a6de-e2a88287b985",
        "colab": {
          "base_uri": "https://localhost:8080/",
          "height": 258
        }
      },
      "source": [
        "i = 0\n",
        "for index, row in test_data.iterrows():\n",
        "  if i == 100:\n",
        "    break\n",
        "  if i % 10 == 0:\n",
        "    print(\"Currently at: \" + str(i))\n",
        "  start_time = time.time()\n",
        "  plot = row[\"Plot\"]\n",
        "  t = extract_beginning(plot)\n",
        "  generated_plot = generate_plot(t)\n",
        "  file_name = \"Plot Summary: \" + row[\"Movie Name\"] + \".txt\"\n",
        "  file = open(\"generated_test_plots/\" + file_name,\"w\")\n",
        "  file.write(generated_plot)\n",
        "  file.close() \n",
        "  #print(\"My program took\", time.time() - start_time, \"to run\")\n",
        "  i += 1"
      ],
      "execution_count": 0,
      "outputs": [
        {
          "output_type": "stream",
          "text": [
            "Currently at: 0\n",
            "WARNING:tensorflow:From /usr/local/lib/python3.6/dist-packages/gpt_2_simple/src/sample.py:32: where (from tensorflow.python.ops.array_ops) is deprecated and will be removed in a future version.\n",
            "Instructions for updating:\n",
            "Use tf.where in 2.0, which has the same broadcast rule as np.where\n",
            "Currently at: 10\n",
            "Currently at: 20\n",
            "Currently at: 30\n",
            "Currently at: 40\n",
            "Currently at: 50\n",
            "Currently at: 60\n",
            "Currently at: 70\n",
            "Currently at: 80\n",
            "Currently at: 90\n"
          ],
          "name": "stdout"
        }
      ]
    },
    {
      "cell_type": "code",
      "metadata": {
        "id": "IVgC2bgAJgS2",
        "colab_type": "code",
        "outputId": "6445cf71-c445-4156-a11c-f73eea041a0f",
        "colab": {
          "base_uri": "https://localhost:8080/",
          "height": 34
        }
      },
      "source": [
        "file_name"
      ],
      "execution_count": 0,
      "outputs": [
        {
          "output_type": "execute_result",
          "data": {
            "text/plain": [
              "'Plot Summary: The Fairy Tale Killer.txt'"
            ]
          },
          "metadata": {
            "tags": []
          },
          "execution_count": 38
        }
      ]
    },
    {
      "cell_type": "code",
      "metadata": {
        "id": "CGPs-nb5Kerw",
        "colab_type": "code",
        "outputId": "5cdeffed-c6ab-479c-bdcc-b65aead58fdd",
        "colab": {
          "base_uri": "https://localhost:8080/",
          "height": 1000
        }
      },
      "source": [
        "!zip -r /content/test_plots.zip /content/generated_test_plots"
      ],
      "execution_count": 0,
      "outputs": [
        {
          "output_type": "stream",
          "text": [
            "  adding: content/generated_test_plots/ (stored 0%)\n",
            "  adding: content/generated_test_plots/Plot Summary: Salt for Svanetia.txt (deflated 43%)\n",
            "  adding: content/generated_test_plots/Plot Summary: Boonie Bears: Entangled Worlds.txt (deflated 43%)\n",
            "  adding: content/generated_test_plots/Plot Summary: The Silent Accuser.txt (deflated 44%)\n",
            "  adding: content/generated_test_plots/Plot Summary: Mosquito Squadron.txt (deflated 50%)\n",
            "  adding: content/generated_test_plots/Plot Summary: Waterhole No. 3.txt (deflated 42%)\n",
            "  adding: content/generated_test_plots/Plot Summary: Le Fear.txt (deflated 43%)\n",
            "  adding: content/generated_test_plots/Plot Summary: Last Holiday.txt (deflated 46%)\n",
            "  adding: content/generated_test_plots/Plot Summary: Good Scouts.txt (deflated 48%)\n",
            "  adding: content/generated_test_plots/Plot Summary: Maisie Was a Lady.txt (deflated 46%)\n",
            "  adding: content/generated_test_plots/Plot Summary: The Hunter's Moon.txt (deflated 38%)\n",
            "  adding: content/generated_test_plots/Plot Summary: Sick Cylinders.txt (deflated 44%)\n",
            "  adding: content/generated_test_plots/Plot Summary: The Fairy Tale Killer.txt (deflated 47%)\n",
            "  adding: content/generated_test_plots/Plot Summary: Indiana Jones and the Kingdom of the Crystal Skull.txt (deflated 46%)\n",
            "  adding: content/generated_test_plots/Plot Summary: Fudoh: The New Generation.txt (deflated 45%)\n",
            "  adding: content/generated_test_plots/Plot Summary: Birds Anonymous.txt (deflated 46%)\n",
            "  adding: content/generated_test_plots/Plot Summary: Nuts in May.txt (deflated 48%)\n",
            "  adding: content/generated_test_plots/Plot Summary: Rockabye.txt (deflated 47%)\n",
            "  adding: content/generated_test_plots/Plot Summary: From Vegas to Macau.txt (deflated 43%)\n",
            "  adding: content/generated_test_plots/Plot Summary: Vazhkai.txt (deflated 41%)\n",
            "  adding: content/generated_test_plots/Plot Summary: The Far Country.txt (deflated 49%)\n",
            "  adding: content/generated_test_plots/Plot Summary: That Demon Within.txt (deflated 41%)\n",
            "  adding: content/generated_test_plots/Plot Summary: Swing Time.txt (deflated 40%)\n",
            "  adding: content/generated_test_plots/Plot Summary: The Bite.txt (deflated 52%)\n",
            "  adding: content/generated_test_plots/Plot Summary: Dead Friend.txt (deflated 44%)\n",
            "  adding: content/generated_test_plots/Plot Summary:  Vertical Limit.txt (deflated 48%)\n",
            "  adding: content/generated_test_plots/Plot Summary: Peddamanushulu.txt (deflated 58%)\n",
            "  adding: content/generated_test_plots/Plot Summary: Roogie's Bump.txt (deflated 46%)\n",
            "  adding: content/generated_test_plots/Plot Summary: The Canterville Ghost.txt (deflated 42%)\n",
            "  adding: content/generated_test_plots/Plot Summary: From the waist on.txt (deflated 43%)\n",
            "  adding: content/generated_test_plots/Plot Summary: Iru Sagodharigal.txt (deflated 40%)\n",
            "  adding: content/generated_test_plots/Plot Summary: Genova.txt (deflated 39%)\n",
            "  adding: content/generated_test_plots/Plot Summary: Queen Bee.txt (deflated 36%)\n",
            "  adding: content/generated_test_plots/Plot Summary: Brink!.txt (deflated 44%)\n",
            "  adding: content/generated_test_plots/Plot Summary: Main Zinda Hoon.txt (deflated 44%)\n",
            "  adding: content/generated_test_plots/Plot Summary: The Mechanic.txt (deflated 40%)\n",
            "  adding: content/generated_test_plots/Plot Summary: Never Talk to Strangers.txt (deflated 34%)\n",
            "  adding: content/generated_test_plots/Plot Summary: Captured!.txt (deflated 38%)\n",
            "  adding: content/generated_test_plots/Plot Summary: Chantal.txt (deflated 48%)\n",
            "  adding: content/generated_test_plots/Plot Summary: The Fox Family.txt (deflated 45%)\n",
            "  adding: content/generated_test_plots/Plot Summary: Sarah, Plain and Tall: Winter's End.txt (deflated 47%)\n",
            "  adding: content/generated_test_plots/Plot Summary: S.O.B..txt (deflated 50%)\n",
            "  adding: content/generated_test_plots/Plot Summary: Paramanandayya Shishyula Katha.txt (deflated 43%)\n",
            "  adding: content/generated_test_plots/Plot Summary: Jack and the Beanstalk.txt (deflated 52%)\n",
            "  adding: content/generated_test_plots/Plot Summary: Alam Ara.txt (deflated 40%)\n",
            "  adding: content/generated_test_plots/Plot Summary: Mundadugu.txt (deflated 39%)\n",
            "  adding: content/generated_test_plots/Plot Summary: Rio Adio.txt (deflated 42%)\n",
            "  adding: content/generated_test_plots/Plot Summary: Dog Bite Dog.txt (deflated 43%)\n",
            "  adding: content/generated_test_plots/Plot Summary: Have No Fear: The Life of Pope John Paul II.txt (deflated 42%)\n",
            "  adding: content/generated_test_plots/Plot Summary: The Dark Man.txt (deflated 40%)\n",
            "  adding: content/generated_test_plots/Plot Summary: Hotel Chevalier.txt (deflated 50%)\n",
            "  adding: content/generated_test_plots/Plot Summary: The Twins Effect.txt (deflated 61%)\n",
            "  adding: content/generated_test_plots/Plot Summary: Waah! Tera Kya Kehna.txt (deflated 52%)\n",
            "  adding: content/generated_test_plots/Plot Summary: Let's Go Navy!.txt (deflated 47%)\n",
            "  adding: content/generated_test_plots/Plot Summary: The Purple Mask.txt (deflated 36%)\n",
            "  adding: content/generated_test_plots/Plot Summary: The Divergent Series: Allegiant.txt (deflated 50%)\n",
            "  adding: content/generated_test_plots/Plot Summary: The Case of the Curious Bride.txt (deflated 39%)\n",
            "  adding: content/generated_test_plots/Plot Summary: Against All Odds.txt (deflated 64%)\n",
            "  adding: content/generated_test_plots/Plot Summary: Choron Ka Chor.txt (deflated 41%)\n",
            "  adding: content/generated_test_plots/Plot Summary: You Don't Know Jack.txt (deflated 32%)\n",
            "  adding: content/generated_test_plots/Plot Summary: Homefront.txt (deflated 42%)\n",
            "  adding: content/generated_test_plots/Plot Summary: Severed Ways: The Norse Discovery of America.txt (deflated 42%)\n",
            "  adding: content/generated_test_plots/Plot Summary: The Tesseract.txt (deflated 36%)\n",
            "  adding: content/generated_test_plots/Plot Summary: Pavana Ganga.txt (deflated 44%)\n",
            "  adding: content/generated_test_plots/Plot Summary: The Acid House.txt (deflated 43%)\n",
            "  adding: content/generated_test_plots/Plot Summary: Juvenile Offender.txt (deflated 43%)\n",
            "  adding: content/generated_test_plots/Plot Summary: Francis in the Navy.txt (deflated 35%)\n",
            "  adding: content/generated_test_plots/Plot Summary: Manithan.txt (deflated 56%)\n",
            "  adding: content/generated_test_plots/Plot Summary: The Hammer.txt (deflated 41%)\n",
            "  adding: content/generated_test_plots/Plot Summary: FBI Code 98.txt (deflated 61%)\n",
            "  adding: content/generated_test_plots/Plot Summary: One-Trick Pony.txt (deflated 42%)\n",
            "  adding: content/generated_test_plots/Plot Summary: True Legend.txt (deflated 48%)\n",
            "  adding: content/generated_test_plots/Plot Summary: The Croods.txt (deflated 43%)\n",
            "  adding: content/generated_test_plots/Plot Summary: Cross of Iron.txt (deflated 47%)\n",
            "  adding: content/generated_test_plots/Plot Summary: Scoop.txt (deflated 41%)\n",
            "  adding: content/generated_test_plots/Plot Summary: Pal Pal Dil Ke Ssaat.txt (deflated 45%)\n",
            "  adding: content/generated_test_plots/Plot Summary: 26 Summer Street.txt (deflated 40%)\n",
            "  adding: content/generated_test_plots/Plot Summary: Tins.txt (deflated 47%)\n",
            "  adding: content/generated_test_plots/Plot Summary: Old Boys.txt (deflated 44%)\n",
            "  adding: content/generated_test_plots/Plot Summary: Madea's Big Happy Family.txt (deflated 39%)\n",
            "  adding: content/generated_test_plots/Plot Summary: The Cavalier of the Streets.txt (deflated 38%)\n",
            "  adding: content/generated_test_plots/Plot Summary: Comic Book Confidential.txt (deflated 39%)\n",
            "  adding: content/generated_test_plots/Plot Summary: The Baytown Disco.txt (deflated 41%)\n",
            "  adding: content/generated_test_plots/Plot Summary: Love Yoou Soniye.txt (deflated 47%)\n",
            "  adding: content/generated_test_plots/Plot Summary: Aarumugam.txt (deflated 43%)\n",
            "  adding: content/generated_test_plots/Plot Summary: Govula Gopanna.txt (deflated 40%)\n",
            "  adding: content/generated_test_plots/Plot Summary: Spider-Man 2.txt (deflated 42%)\n",
            "  adding: content/generated_test_plots/Plot Summary: Algie the Miner.txt (deflated 43%)\n",
            "  adding: content/generated_test_plots/Plot Summary: Peculiarities of National Fishing.txt (deflated 49%)\n",
            "  adding: content/generated_test_plots/Plot Summary: Daddy and Them.txt (deflated 35%)\n",
            "  adding: content/generated_test_plots/Plot Summary: Tarzan and His Mate.txt (deflated 46%)\n",
            "  adding: content/generated_test_plots/Plot Summary: Clean and Sober.txt (deflated 40%)\n",
            "  adding: content/generated_test_plots/Plot Summary: Come, Together.txt (deflated 41%)\n",
            "  adding: content/generated_test_plots/Plot Summary: Baby the Rain Must Fall.txt (deflated 44%)\n",
            "  adding: content/generated_test_plots/Plot Summary: Nurse 3-D.txt (deflated 36%)\n",
            "  adding: content/generated_test_plots/Plot Summary: The Old Barn Dance.txt (deflated 43%)\n",
            "  adding: content/generated_test_plots/Plot Summary:  The Game Plan.txt (deflated 51%)\n",
            "  adding: content/generated_test_plots/Plot Summary: Lovely & Amazing.txt (deflated 53%)\n",
            "  adding: content/generated_test_plots/Plot Summary: Minushi.txt (deflated 47%)\n",
            "  adding: content/generated_test_plots/Plot Summary: Velvet Goldmine.txt (deflated 53%)\n",
            "  adding: content/generated_test_plots/Plot Summary: When Strangers Appear.txt (deflated 38%)\n"
          ],
          "name": "stdout"
        }
      ]
    },
    {
      "cell_type": "code",
      "metadata": {
        "id": "HmDEfD5W1NxP",
        "colab_type": "code",
        "colab": {}
      },
      "source": [
        "files.download(\"/content/test_plots.zip\")"
      ],
      "execution_count": 0,
      "outputs": []
    }
  ]
}